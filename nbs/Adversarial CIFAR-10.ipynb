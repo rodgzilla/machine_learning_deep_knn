{
 "cells": [
  {
   "cell_type": "code",
   "execution_count": 1,
   "metadata": {},
   "outputs": [],
   "source": [
    "import torch\n",
    "import torch.nn as nn\n",
    "import torch.nn.functional as F\n",
    "import torch.optim as optim\n",
    "from torchvision import datasets \n",
    "from torchvision import transforms\n",
    "\n",
    "import matplotlib.pyplot as plt\n",
    "from tqdm import tqdm, tqdm_notebook"
   ]
  },
  {
   "cell_type": "code",
   "execution_count": 2,
   "metadata": {},
   "outputs": [],
   "source": [
    "batch_size        = 128\n",
    "device            = torch.device('cuda')\n",
    "means             = torch.tensor((0.4914, 0.4822, 0.4465)).to(device)\n",
    "stds              = torch.tensor((0.2023, 0.1994, 0.2010)).to(device)\n",
    "normalize         = lambda x: (x - means) / stds\n",
    "normalize_red     = lambda x: (x - means[0]) / stds[0]\n",
    "normalize_green   = lambda x: (x - means[1]) / stds[1]\n",
    "normalize_blue    = lambda x: (x - means[2]) / stds[2]\n",
    "reverse_normalize = lambda x: (x * stds) + means"
   ]
  },
  {
   "cell_type": "code",
   "execution_count": 3,
   "metadata": {},
   "outputs": [],
   "source": [
    "def display_img(img):\n",
    "    img_data = lambda img: reverse_normalize(img.squeeze().permute(1,2,0)).data.cpu().numpy().clip(0, 1)\n",
    "    plt.imshow(img_data(img))    "
   ]
  },
  {
   "cell_type": "code",
   "execution_count": 4,
   "metadata": {},
   "outputs": [
    {
     "name": "stdout",
     "output_type": "stream",
     "text": [
      "Files already downloaded and verified\n"
     ]
    }
   ],
   "source": [
    "train_loader = torch.utils.data.DataLoader(\n",
    "    datasets.CIFAR10(\n",
    "        '../data',\n",
    "        train = True,\n",
    "        download = True,\n",
    "        transform = transforms.Compose(\n",
    "            [\n",
    "                transforms.ToTensor(),\n",
    "                transforms.Normalize(means, stds)\n",
    "            ]\n",
    "        )\n",
    "    ),\n",
    "    shuffle = True,\n",
    "    batch_size = batch_size\n",
    ")"
   ]
  },
  {
   "cell_type": "code",
   "execution_count": 5,
   "metadata": {},
   "outputs": [
    {
     "name": "stdout",
     "output_type": "stream",
     "text": [
      "Files already downloaded and verified\n"
     ]
    }
   ],
   "source": [
    "test_loader = torch.utils.data.DataLoader(\n",
    "    datasets.CIFAR10(\n",
    "        '../data',\n",
    "        train = False,\n",
    "        download = True,\n",
    "        transform = transforms.Compose(\n",
    "            [\n",
    "                transforms.ToTensor(),\n",
    "                transforms.Normalize(means, stds)\n",
    "            ]\n",
    "        )\n",
    "    ),\n",
    "    shuffle = False,\n",
    "    batch_size = 2 * batch_size\n",
    ")"
   ]
  },
  {
   "cell_type": "code",
   "execution_count": 6,
   "metadata": {},
   "outputs": [],
   "source": [
    "def train(model, device, train_loader, optimizer, criterion, n_epochs, log_interval):\n",
    "    model.train()\n",
    "    for epoch in tqdm_notebook(range(n_epochs), desc = 'Epochs'):\n",
    "        for batch_idx, (X, y) in tqdm_notebook(enumerate(train_loader), total = len(train_loader), desc = 'Batches', leave = False):\n",
    "            X, y = X.to(device), y.to(device)\n",
    "            optimizer.zero_grad()\n",
    "            y_pred = model(X)\n",
    "            loss = criterion(y_pred, y)\n",
    "            loss.backward()\n",
    "            optimizer.step()\n",
    "            if batch_idx % log_interval == 0:\n",
    "                print(f'Train epoch {epoch}: [{batch_idx * len(X):5d}/{len(train_loader.dataset):5d}] Loss: {loss.item():7.4f}')"
   ]
  },
  {
   "cell_type": "code",
   "execution_count": 7,
   "metadata": {},
   "outputs": [],
   "source": [
    "def evaluate(model, device, test_loader, criterion):\n",
    "    model.eval()\n",
    "    test_set_size = len(test_loader.dataset)\n",
    "    correct_answers = 0\n",
    "    sum_loss = 0\n",
    "    with torch.no_grad():\n",
    "        for X, y in tqdm_notebook(test_loader):\n",
    "            X, y = X.to(device), y.to(device)\n",
    "            y_pred = model(X)\n",
    "            class_pred = y_pred.argmax(dim = 1)\n",
    "            correct_answers += (y == class_pred).sum().item()\n",
    "            sum_loss += criterion(y_pred, y).item()\n",
    "    accuracy = correct_answers / test_set_size\n",
    "    average_loss = sum_loss / len(test_loader)\n",
    "    \n",
    "    return accuracy, average_loss"
   ]
  },
  {
   "cell_type": "code",
   "execution_count": 8,
   "metadata": {},
   "outputs": [],
   "source": [
    "class CNN(nn.Module):\n",
    "    def __init__(self):\n",
    "        super(CNN, self).__init__()\n",
    "        self.conv1 = nn.Conv2d(3 , 32 , 3, padding = 1)\n",
    "        self.conv2 = nn.Conv2d(32, 32 , 3, padding = 1)\n",
    "        self.conv3 = nn.Conv2d(32, 64,  3, padding = 1)\n",
    "        self.conv4 = nn.Conv2d(64, 64,  3, padding = 1)\n",
    "        self.fc1   = nn.Linear(64 * 8 * 8, 128)\n",
    "        self.fc2   = nn.Linear(128      , 10)\n",
    "        \n",
    "    def forward(self, x):\n",
    "        x = F.dropout(F.relu(self.conv1(x)), 0.2)\n",
    "        x = F.dropout(F.relu(self.conv2(x)), 0.2)\n",
    "        x = F.max_pool2d(x, kernel_size = (2, 2))\n",
    "        x = F.dropout(F.relu(self.conv3(x)), 0.2)\n",
    "        x = F.dropout(F.relu(self.conv4(x)), 0.2)\n",
    "        x = F.max_pool2d(x, kernel_size = (2, 2))\n",
    "        x = x.view(-1, 64 * 8 * 8)\n",
    "        x = F.dropout(F.relu(self.fc1(x)), 0.2)\n",
    "        x = self.fc2(x)\n",
    "        \n",
    "        return x"
   ]
  },
  {
   "cell_type": "code",
   "execution_count": 9,
   "metadata": {},
   "outputs": [],
   "source": [
    "cnn       = CNN().to(device)\n",
    "criterion = nn.CrossEntropyLoss()\n",
    "optimizer = optim.Adam(cnn.parameters())"
   ]
  },
  {
   "cell_type": "code",
   "execution_count": 10,
   "metadata": {},
   "outputs": [
    {
     "data": {
      "application/vnd.jupyter.widget-view+json": {
       "model_id": "e08ac5bc17214eb0a8a75528387cdcaf",
       "version_major": 2,
       "version_minor": 0
      },
      "text/plain": [
       "HBox(children=(IntProgress(value=0, description='Epochs', max=10, style=ProgressStyle(description_width='initi…"
      ]
     },
     "metadata": {},
     "output_type": "display_data"
    },
    {
     "data": {
      "application/vnd.jupyter.widget-view+json": {
       "model_id": "",
       "version_major": 2,
       "version_minor": 0
      },
      "text/plain": [
       "HBox(children=(IntProgress(value=0, description='Batches', max=391, style=ProgressStyle(description_width='ini…"
      ]
     },
     "metadata": {},
     "output_type": "display_data"
    },
    {
     "name": "stdout",
     "output_type": "stream",
     "text": [
      "Train epoch 0: [    0/50000] Loss:  2.3082\n",
      "Train epoch 0: [ 9984/50000] Loss:  1.7547\n",
      "Train epoch 0: [19968/50000] Loss:  1.5453\n",
      "Train epoch 0: [29952/50000] Loss:  1.4715\n",
      "Train epoch 0: [39936/50000] Loss:  1.3071\n",
      "Train epoch 0: [31200/50000] Loss:  1.2574\n"
     ]
    },
    {
     "data": {
      "application/vnd.jupyter.widget-view+json": {
       "model_id": "",
       "version_major": 2,
       "version_minor": 0
      },
      "text/plain": [
       "HBox(children=(IntProgress(value=0, description='Batches', max=391, style=ProgressStyle(description_width='ini…"
      ]
     },
     "metadata": {},
     "output_type": "display_data"
    },
    {
     "name": "stdout",
     "output_type": "stream",
     "text": [
      "Train epoch 1: [    0/50000] Loss:  1.3461\n",
      "Train epoch 1: [ 9984/50000] Loss:  1.1517\n",
      "Train epoch 1: [19968/50000] Loss:  1.1618\n",
      "Train epoch 1: [29952/50000] Loss:  1.1146\n",
      "Train epoch 1: [39936/50000] Loss:  1.0621\n",
      "Train epoch 1: [31200/50000] Loss:  0.9232\n"
     ]
    },
    {
     "data": {
      "application/vnd.jupyter.widget-view+json": {
       "model_id": "",
       "version_major": 2,
       "version_minor": 0
      },
      "text/plain": [
       "HBox(children=(IntProgress(value=0, description='Batches', max=391, style=ProgressStyle(description_width='ini…"
      ]
     },
     "metadata": {},
     "output_type": "display_data"
    },
    {
     "name": "stdout",
     "output_type": "stream",
     "text": [
      "Train epoch 2: [    0/50000] Loss:  0.8369\n",
      "Train epoch 2: [ 9984/50000] Loss:  0.8589\n",
      "Train epoch 2: [19968/50000] Loss:  0.7216\n",
      "Train epoch 2: [29952/50000] Loss:  0.8969\n",
      "Train epoch 2: [39936/50000] Loss:  0.9769\n",
      "Train epoch 2: [31200/50000] Loss:  0.6969\n"
     ]
    },
    {
     "data": {
      "application/vnd.jupyter.widget-view+json": {
       "model_id": "",
       "version_major": 2,
       "version_minor": 0
      },
      "text/plain": [
       "HBox(children=(IntProgress(value=0, description='Batches', max=391, style=ProgressStyle(description_width='ini…"
      ]
     },
     "metadata": {},
     "output_type": "display_data"
    },
    {
     "name": "stdout",
     "output_type": "stream",
     "text": [
      "Train epoch 3: [    0/50000] Loss:  0.7569\n",
      "Train epoch 3: [ 9984/50000] Loss:  0.8726\n",
      "Train epoch 3: [19968/50000] Loss:  0.8037\n",
      "Train epoch 3: [29952/50000] Loss:  0.8867\n",
      "Train epoch 3: [39936/50000] Loss:  0.9038\n",
      "Train epoch 3: [31200/50000] Loss:  0.9446\n"
     ]
    },
    {
     "data": {
      "application/vnd.jupyter.widget-view+json": {
       "model_id": "",
       "version_major": 2,
       "version_minor": 0
      },
      "text/plain": [
       "HBox(children=(IntProgress(value=0, description='Batches', max=391, style=ProgressStyle(description_width='ini…"
      ]
     },
     "metadata": {},
     "output_type": "display_data"
    },
    {
     "name": "stdout",
     "output_type": "stream",
     "text": [
      "Train epoch 4: [    0/50000] Loss:  0.6903\n",
      "Train epoch 4: [ 9984/50000] Loss:  0.7263\n",
      "Train epoch 4: [19968/50000] Loss:  0.6917\n",
      "Train epoch 4: [29952/50000] Loss:  0.5601\n",
      "Train epoch 4: [39936/50000] Loss:  0.8273\n",
      "Train epoch 4: [31200/50000] Loss:  0.7365\n"
     ]
    },
    {
     "data": {
      "application/vnd.jupyter.widget-view+json": {
       "model_id": "",
       "version_major": 2,
       "version_minor": 0
      },
      "text/plain": [
       "HBox(children=(IntProgress(value=0, description='Batches', max=391, style=ProgressStyle(description_width='ini…"
      ]
     },
     "metadata": {},
     "output_type": "display_data"
    },
    {
     "name": "stdout",
     "output_type": "stream",
     "text": [
      "Train epoch 5: [    0/50000] Loss:  0.8033\n",
      "Train epoch 5: [ 9984/50000] Loss:  0.6177\n",
      "Train epoch 5: [19968/50000] Loss:  0.6674\n",
      "Train epoch 5: [29952/50000] Loss:  0.7717\n",
      "Train epoch 5: [39936/50000] Loss:  0.6121\n",
      "Train epoch 5: [31200/50000] Loss:  0.8568\n"
     ]
    },
    {
     "data": {
      "application/vnd.jupyter.widget-view+json": {
       "model_id": "",
       "version_major": 2,
       "version_minor": 0
      },
      "text/plain": [
       "HBox(children=(IntProgress(value=0, description='Batches', max=391, style=ProgressStyle(description_width='ini…"
      ]
     },
     "metadata": {},
     "output_type": "display_data"
    },
    {
     "name": "stdout",
     "output_type": "stream",
     "text": [
      "Train epoch 6: [    0/50000] Loss:  0.5476\n",
      "Train epoch 6: [ 9984/50000] Loss:  0.6856\n",
      "Train epoch 6: [19968/50000] Loss:  0.5216\n",
      "Train epoch 6: [29952/50000] Loss:  0.5536\n",
      "Train epoch 6: [39936/50000] Loss:  0.5996\n",
      "Train epoch 6: [31200/50000] Loss:  0.6659\n"
     ]
    },
    {
     "data": {
      "application/vnd.jupyter.widget-view+json": {
       "model_id": "",
       "version_major": 2,
       "version_minor": 0
      },
      "text/plain": [
       "HBox(children=(IntProgress(value=0, description='Batches', max=391, style=ProgressStyle(description_width='ini…"
      ]
     },
     "metadata": {},
     "output_type": "display_data"
    },
    {
     "name": "stdout",
     "output_type": "stream",
     "text": [
      "Train epoch 7: [    0/50000] Loss:  0.6056\n",
      "Train epoch 7: [ 9984/50000] Loss:  0.5551\n",
      "Train epoch 7: [19968/50000] Loss:  0.5355\n",
      "Train epoch 7: [29952/50000] Loss:  0.5014\n",
      "Train epoch 7: [39936/50000] Loss:  0.5050\n",
      "Train epoch 7: [31200/50000] Loss:  0.6030\n"
     ]
    },
    {
     "data": {
      "application/vnd.jupyter.widget-view+json": {
       "model_id": "",
       "version_major": 2,
       "version_minor": 0
      },
      "text/plain": [
       "HBox(children=(IntProgress(value=0, description='Batches', max=391, style=ProgressStyle(description_width='ini…"
      ]
     },
     "metadata": {},
     "output_type": "display_data"
    },
    {
     "name": "stdout",
     "output_type": "stream",
     "text": [
      "Train epoch 8: [    0/50000] Loss:  0.5391\n",
      "Train epoch 8: [ 9984/50000] Loss:  0.4663\n",
      "Train epoch 8: [19968/50000] Loss:  0.4702\n",
      "Train epoch 8: [29952/50000] Loss:  0.7216\n",
      "Train epoch 8: [39936/50000] Loss:  0.4221\n",
      "Train epoch 8: [31200/50000] Loss:  0.6122\n"
     ]
    },
    {
     "data": {
      "application/vnd.jupyter.widget-view+json": {
       "model_id": "",
       "version_major": 2,
       "version_minor": 0
      },
      "text/plain": [
       "HBox(children=(IntProgress(value=0, description='Batches', max=391, style=ProgressStyle(description_width='ini…"
      ]
     },
     "metadata": {},
     "output_type": "display_data"
    },
    {
     "name": "stdout",
     "output_type": "stream",
     "text": [
      "Train epoch 9: [    0/50000] Loss:  0.5090\n",
      "Train epoch 9: [ 9984/50000] Loss:  0.5558\n",
      "Train epoch 9: [19968/50000] Loss:  0.4082\n",
      "Train epoch 9: [29952/50000] Loss:  0.4719\n",
      "Train epoch 9: [39936/50000] Loss:  0.4724\n",
      "Train epoch 9: [31200/50000] Loss:  0.5121\n",
      "\n"
     ]
    }
   ],
   "source": [
    "train(cnn, device, train_loader, optimizer, criterion, 10, len(train_loader) // 5)"
   ]
  },
  {
   "cell_type": "code",
   "execution_count": 11,
   "metadata": {},
   "outputs": [
    {
     "data": {
      "application/vnd.jupyter.widget-view+json": {
       "model_id": "2de23a4272514659a2bd7a3d981825b1",
       "version_major": 2,
       "version_minor": 0
      },
      "text/plain": [
       "HBox(children=(IntProgress(value=0, max=391), HTML(value='')))"
      ]
     },
     "metadata": {},
     "output_type": "display_data"
    },
    {
     "name": "stdout",
     "output_type": "stream",
     "text": [
      "\n",
      "[Train] Accuracy: 83.33%, loss:  0.4714\n"
     ]
    },
    {
     "data": {
      "application/vnd.jupyter.widget-view+json": {
       "model_id": "b33fdd2042094a40b97a20c2801e0e85",
       "version_major": 2,
       "version_minor": 0
      },
      "text/plain": [
       "HBox(children=(IntProgress(value=0, max=40), HTML(value='')))"
      ]
     },
     "metadata": {},
     "output_type": "display_data"
    },
    {
     "name": "stdout",
     "output_type": "stream",
     "text": [
      "\n",
      "[Test] Accuracy: 72.59%, loss:  0.8455\n"
     ]
    }
   ],
   "source": [
    "accuracy, avg_loss = evaluate(cnn, device, train_loader, criterion)\n",
    "print(f'[Train] Accuracy: {100 * accuracy:5.2f}%, loss: {avg_loss:7.4f}')\n",
    "accuracy, avg_loss = evaluate(cnn, device, test_loader, criterion)\n",
    "print(f'[Test] Accuracy: {100 * accuracy:5.2f}%, loss: {avg_loss:7.4f}')"
   ]
  },
  {
   "cell_type": "code",
   "execution_count": 12,
   "metadata": {},
   "outputs": [
    {
     "name": "stdout",
     "output_type": "stream",
     "text": [
      "Real label: 1\n",
      "Predicted label: 1\n"
     ]
    },
    {
     "data": {
      "image/png": "[encoded data removed]",
      "text/plain": [
       "<Figure size 432x288 with 1 Axes>"
      ]
     },
     "metadata": {
      "needs_background": "light"
     },
     "output_type": "display_data"
    }
   ],
   "source": [
    "X, y  = next(iter(test_loader))\n",
    "X     = X.to(device)\n",
    "ex_id = 9\n",
    "img   = X[ex_id].permute(1,2,0)\n",
    "img   = reverse_normalize(img)\n",
    "plt.imshow(img.cpu())\n",
    "print(f'Real label: {y[ex_id].item()}')\n",
    "print(f'Predicted label: {cnn(X.to(device))[ex_id].argmax().item()}')"
   ]
  },
  {
   "cell_type": "code",
   "execution_count": 13,
   "metadata": {},
   "outputs": [],
   "source": [
    "def generate_adv_example(model, epsilon, criterion, X):\n",
    "    X.requires_grad = True\n",
    "    y_pred          = model(X)\n",
    "    loss            = criterion(y_pred, y_pred.argmax(dim = 1))\n",
    "    loss.backward()\n",
    "    adv_example     = X + epsilon * X.grad.sign()\n",
    "    \n",
    "    # Clamping the result to [0, 1] in each channel.\n",
    "    # I don't think that there exist a multidimensional clamp function.\n",
    "    for channel, norm_func in enumerate([normalize_red, normalize_green, normalize_blue]):\n",
    "        adv_example[:, channel, ...].clamp_(norm_func(0), norm_func(1))\n",
    "    \n",
    "    return adv_example"
   ]
  },
  {
   "cell_type": "code",
   "execution_count": 14,
   "metadata": {},
   "outputs": [],
   "source": [
    "def adv_sample_process(model, epsilon, ex_idx, X, y):\n",
    "    source = X[ex_idx, ...].unsqueeze(0).to(device)\n",
    "    y_pred = model(source)\n",
    "    adv_example = generate_adv_example(model, epsilon, criterion, source)\n",
    "    adv_pred = cnn(adv_example)\n",
    "    for i in range(10):\n",
    "        print(f'Class {i}: {y_pred[0, i]:6.4f} \\t->\\t {adv_pred[0, i]:^6.4f}')\n",
    "    plt.figure(figsize = (15, 10))\n",
    "    plt.subplot(1, 2, 1)\n",
    "    display_img(source)\n",
    "    plt.subplot(1, 2, 2)\n",
    "    display_img(adv_example)\n",
    "    print(f'Real label: {y[ex_idx].item()}')\n",
    "    print(f'Predicted label: {adv_pred[0].argmax().item()}')"
   ]
  },
  {
   "cell_type": "code",
   "execution_count": 16,
   "metadata": {},
   "outputs": [
    {
     "name": "stdout",
     "output_type": "stream",
     "text": [
      "Class 0: -6.9787 \t->\t -5.5062\n",
      "Class 1: -4.6078 \t->\t -7.3761\n",
      "Class 2: -0.0882 \t->\t 0.7422\n",
      "Class 3: 0.5642 \t->\t 5.4062\n",
      "Class 4: 1.0190 \t->\t 0.4319\n",
      "Class 5: 0.8037 \t->\t 5.0380\n",
      "Class 6: 6.2724 \t->\t 0.3613\n",
      "Class 7: -0.2041 \t->\t 4.1181\n",
      "Class 8: -8.3461 \t->\t -11.1287\n",
      "Class 9: -4.1470 \t->\t -4.1740\n",
      "Real label: 6\n",
      "Predicted label: 3\n"
     ]
    },
    {
     "data": {
      "image/png": "[encoded data removed]",
      "text/plain": [
       "<Figure size 1080x720 with 2 Axes>"
      ]
     },
     "metadata": {
      "needs_background": "light"
     },
     "output_type": "display_data"
    }
   ],
   "source": [
    "adv_sample_process(cnn, 0.15, 5, X, y)"
   ]
  }
 ],
 "metadata": {
  "kernelspec": {
   "display_name": "Python 3",
   "language": "python",
   "name": "python3"
  },
  "language_info": {
   "codemirror_mode": {
    "name": "ipython",
    "version": 3
   },
   "file_extension": ".py",
   "mimetype": "text/x-python",
   "name": "python",
   "nbconvert_exporter": "python",
   "pygments_lexer": "ipython3",
   "version": "3.7.1"
  }
 },
 "nbformat": 4,
 "nbformat_minor": 2
}
