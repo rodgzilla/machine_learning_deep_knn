{
 "cells": [
  {
   "cell_type": "code",
   "execution_count": 1,
   "metadata": {},
   "outputs": [],
   "source": [
    "import torch\n",
    "import torch.nn as nn\n",
    "import torch.nn.functional as F\n",
    "import torch.optim as optim\n",
    "from torchvision import datasets \n",
    "from torchvision import transforms\n",
    "\n",
    "from tqdm import tqdm, tqdm_notebook"
   ]
  },
  {
   "cell_type": "code",
   "execution_count": 2,
   "metadata": {},
   "outputs": [],
   "source": [
    "batch_size = 128\n",
    "device = torch.device('cuda')"
   ]
  },
  {
   "cell_type": "code",
   "execution_count": 3,
   "metadata": {},
   "outputs": [],
   "source": [
    "def train(model, device, train_loader, optimizer, criterion, n_epochs, log_interval):\n",
    "    model.train()\n",
    "    for epoch in tqdm_notebook(range(n_epochs), desc = 'Epochs'):\n",
    "        for batch_idx, (X, y) in tqdm_notebook(enumerate(train_loader), total = len(train_loader), desc = 'Batches', leave = False):\n",
    "            X, y = X.to(device), y.to(device)\n",
    "            optimizer.zero_grad()\n",
    "            y_pred = model(X)\n",
    "            loss = criterion(y_pred, y)\n",
    "            loss.backward()\n",
    "            optimizer.step()\n",
    "            if batch_idx % log_interval == 0:\n",
    "                print(f'Train epoch {epoch}: [{batch_idx * len(X):5d}/{len(train_loader.dataset):5d}] Loss: {loss.item():7.4f}')"
   ]
  },
  {
   "cell_type": "code",
   "execution_count": 4,
   "metadata": {},
   "outputs": [],
   "source": [
    "def evaluate(model, device, test_loader, criterion):\n",
    "    model.eval()\n",
    "    test_set_size = len(test_loader.dataset)\n",
    "    correct_answers = 0\n",
    "    sum_loss = 0\n",
    "    with torch.no_grad():\n",
    "        for X, y in tqdm_notebook(test_loader):\n",
    "            X, y = X.to(device), y.to(device)\n",
    "            y_pred = model(X)\n",
    "            class_pred = y_pred.argmax(dim = 1)\n",
    "            correct_answers += (y == class_pred).sum().item()\n",
    "            sum_loss += criterion(y_pred, y).item()\n",
    "    accuracy = correct_answers / test_set_size\n",
    "    average_loss = sum_loss / len(test_loader)\n",
    "    \n",
    "    return accuracy, average_loss"
   ]
  },
  {
   "cell_type": "code",
   "execution_count": 5,
   "metadata": {},
   "outputs": [],
   "source": [
    "class CNN(nn.Module):\n",
    "    def __init__(self):\n",
    "        super(CNN, self).__init__()\n",
    "        self.conv1 = nn.Conv2d(1  , 64 , 3, padding = 1)\n",
    "        self.conv2 = nn.Conv2d(64 , 64 , 3, padding = 1)\n",
    "        self.conv3 = nn.Conv2d(64 , 128, 3, padding = 1)\n",
    "        self.conv4 = nn.Conv2d(128, 128, 3, padding = 1)\n",
    "        self.fc1   = nn.Linear(128 * 7 * 7, 256)\n",
    "        self.fc2   = nn.Linear(256        , 256)\n",
    "        self.fc3   = nn.Linear(256        , 10)\n",
    "        \n",
    "    def forward(self, x):\n",
    "        x = F.dropout(F.relu(self.conv1(x)), 0.1)\n",
    "        x = F.dropout(F.relu(self.conv2(x)), 0.1)\n",
    "        x = F.max_pool2d(x, kernel_size = (2, 2))\n",
    "        x = F.dropout(F.relu(self.conv3(x)), 0.1)\n",
    "        x = F.dropout(F.relu(self.conv4(x)), 0.1)\n",
    "        x = F.max_pool2d(x, kernel_size = (2, 2))\n",
    "        x = x.view(-1, 128 * 7 * 7)\n",
    "        x = F.dropout(F.relu(self.fc1(x)), 0.1)\n",
    "        x = F.dropout(F.relu(self.fc2(x)), 0.1)\n",
    "        x = self.fc3(x)\n",
    "        \n",
    "        return x"
   ]
  },
  {
   "cell_type": "code",
   "execution_count": 6,
   "metadata": {},
   "outputs": [],
   "source": [
    "train_loader = torch.utils.data.DataLoader(\n",
    "    datasets.MNIST(\n",
    "        '../data',\n",
    "        train = True,\n",
    "        download = True,\n",
    "        transform = transforms.Compose(\n",
    "            [\n",
    "                transforms.ToTensor(),\n",
    "                transforms.Normalize((0.1307,), (0.3081,))\n",
    "            ]\n",
    "        )\n",
    "    ),\n",
    "    shuffle = True,\n",
    "    batch_size = batch_size\n",
    ")"
   ]
  },
  {
   "cell_type": "code",
   "execution_count": 7,
   "metadata": {},
   "outputs": [],
   "source": [
    "test_loader = torch.utils.data.DataLoader(\n",
    "    datasets.MNIST(\n",
    "        '../data',\n",
    "        train = False,\n",
    "        download = True,\n",
    "        transform = transforms.Compose(\n",
    "            [\n",
    "                transforms.ToTensor(),\n",
    "                transforms.Normalize((0.1307,), (0.3081,))\n",
    "            ]\n",
    "        )\n",
    "    ),\n",
    "    shuffle = False,\n",
    "    batch_size = 2 * batch_size\n",
    ")"
   ]
  },
  {
   "cell_type": "code",
   "execution_count": 8,
   "metadata": {},
   "outputs": [],
   "source": [
    "cnn       = CNN().to(device)\n",
    "criterion = nn.CrossEntropyLoss()\n",
    "optimizer = optim.Adam(cnn.parameters())"
   ]
  },
  {
   "cell_type": "code",
   "execution_count": 9,
   "metadata": {},
   "outputs": [
    {
     "data": {
      "application/vnd.jupyter.widget-view+json": {
       "model_id": "6abae9a2596c4575b9f69a4583f26374",
       "version_major": 2,
       "version_minor": 0
      },
      "text/plain": [
       "HBox(children=(IntProgress(value=0, description='Epochs', max=12, style=ProgressStyle(description_width='initi…"
      ]
     },
     "metadata": {},
     "output_type": "display_data"
    },
    {
     "data": {
      "application/vnd.jupyter.widget-view+json": {
       "model_id": "",
       "version_major": 2,
       "version_minor": 0
      },
      "text/plain": [
       "HBox(children=(IntProgress(value=0, description='Batches', max=469, style=ProgressStyle(description_width='ini…"
      ]
     },
     "metadata": {},
     "output_type": "display_data"
    },
    {
     "name": "stdout",
     "output_type": "stream",
     "text": [
      "Train epoch 0: [    0/60000] Loss:  2.2994\n",
      "Train epoch 0: [11904/60000] Loss:  0.2093\n",
      "Train epoch 0: [23808/60000] Loss:  0.1711\n",
      "Train epoch 0: [35712/60000] Loss:  0.0681\n",
      "Train epoch 0: [47616/60000] Loss:  0.0233\n",
      "Train epoch 0: [59520/60000] Loss:  0.0607\n"
     ]
    },
    {
     "data": {
      "application/vnd.jupyter.widget-view+json": {
       "model_id": "",
       "version_major": 2,
       "version_minor": 0
      },
      "text/plain": [
       "HBox(children=(IntProgress(value=0, description='Batches', max=469, style=ProgressStyle(description_width='ini…"
      ]
     },
     "metadata": {},
     "output_type": "display_data"
    },
    {
     "name": "stdout",
     "output_type": "stream",
     "text": [
      "Train epoch 1: [    0/60000] Loss:  0.0178\n",
      "Train epoch 1: [11904/60000] Loss:  0.0129\n",
      "Train epoch 1: [23808/60000] Loss:  0.0215\n",
      "Train epoch 1: [35712/60000] Loss:  0.0931\n",
      "Train epoch 1: [47616/60000] Loss:  0.0701\n",
      "Train epoch 1: [59520/60000] Loss:  0.0234\n"
     ]
    },
    {
     "data": {
      "application/vnd.jupyter.widget-view+json": {
       "model_id": "",
       "version_major": 2,
       "version_minor": 0
      },
      "text/plain": [
       "HBox(children=(IntProgress(value=0, description='Batches', max=469, style=ProgressStyle(description_width='ini…"
      ]
     },
     "metadata": {},
     "output_type": "display_data"
    },
    {
     "name": "stdout",
     "output_type": "stream",
     "text": [
      "Train epoch 2: [    0/60000] Loss:  0.0377\n",
      "Train epoch 2: [11904/60000] Loss:  0.0210\n",
      "Train epoch 2: [23808/60000] Loss:  0.0084\n",
      "Train epoch 2: [35712/60000] Loss:  0.0086\n",
      "Train epoch 2: [47616/60000] Loss:  0.0164\n",
      "Train epoch 2: [59520/60000] Loss:  0.0294\n"
     ]
    },
    {
     "data": {
      "application/vnd.jupyter.widget-view+json": {
       "model_id": "",
       "version_major": 2,
       "version_minor": 0
      },
      "text/plain": [
       "HBox(children=(IntProgress(value=0, description='Batches', max=469, style=ProgressStyle(description_width='ini…"
      ]
     },
     "metadata": {},
     "output_type": "display_data"
    },
    {
     "name": "stdout",
     "output_type": "stream",
     "text": [
      "Train epoch 3: [    0/60000] Loss:  0.0110\n",
      "Train epoch 3: [11904/60000] Loss:  0.0155\n",
      "Train epoch 3: [23808/60000] Loss:  0.0044\n",
      "Train epoch 3: [35712/60000] Loss:  0.0139\n",
      "Train epoch 3: [47616/60000] Loss:  0.0537\n",
      "Train epoch 3: [59520/60000] Loss:  0.0420\n"
     ]
    },
    {
     "data": {
      "application/vnd.jupyter.widget-view+json": {
       "model_id": "",
       "version_major": 2,
       "version_minor": 0
      },
      "text/plain": [
       "HBox(children=(IntProgress(value=0, description='Batches', max=469, style=ProgressStyle(description_width='ini…"
      ]
     },
     "metadata": {},
     "output_type": "display_data"
    },
    {
     "name": "stdout",
     "output_type": "stream",
     "text": [
      "Train epoch 4: [    0/60000] Loss:  0.0042\n",
      "Train epoch 4: [11904/60000] Loss:  0.0668\n",
      "Train epoch 4: [23808/60000] Loss:  0.0033\n",
      "Train epoch 4: [35712/60000] Loss:  0.0029\n",
      "Train epoch 4: [47616/60000] Loss:  0.0028\n",
      "Train epoch 4: [59520/60000] Loss:  0.0054\n"
     ]
    },
    {
     "data": {
      "application/vnd.jupyter.widget-view+json": {
       "model_id": "",
       "version_major": 2,
       "version_minor": 0
      },
      "text/plain": [
       "HBox(children=(IntProgress(value=0, description='Batches', max=469, style=ProgressStyle(description_width='ini…"
      ]
     },
     "metadata": {},
     "output_type": "display_data"
    },
    {
     "name": "stdout",
     "output_type": "stream",
     "text": [
      "Train epoch 5: [    0/60000] Loss:  0.0184\n",
      "Train epoch 5: [11904/60000] Loss:  0.0068\n",
      "Train epoch 5: [23808/60000] Loss:  0.0164\n",
      "Train epoch 5: [35712/60000] Loss:  0.0172\n",
      "Train epoch 5: [47616/60000] Loss:  0.0021\n",
      "Train epoch 5: [59520/60000] Loss:  0.1026\n"
     ]
    },
    {
     "data": {
      "application/vnd.jupyter.widget-view+json": {
       "model_id": "",
       "version_major": 2,
       "version_minor": 0
      },
      "text/plain": [
       "HBox(children=(IntProgress(value=0, description='Batches', max=469, style=ProgressStyle(description_width='ini…"
      ]
     },
     "metadata": {},
     "output_type": "display_data"
    },
    {
     "name": "stdout",
     "output_type": "stream",
     "text": [
      "Train epoch 6: [    0/60000] Loss:  0.0281\n",
      "Train epoch 6: [11904/60000] Loss:  0.0036\n",
      "Train epoch 6: [23808/60000] Loss:  0.0180\n",
      "Train epoch 6: [35712/60000] Loss:  0.0008\n",
      "Train epoch 6: [47616/60000] Loss:  0.0016\n",
      "Train epoch 6: [59520/60000] Loss:  0.0007\n"
     ]
    },
    {
     "data": {
      "application/vnd.jupyter.widget-view+json": {
       "model_id": "",
       "version_major": 2,
       "version_minor": 0
      },
      "text/plain": [
       "HBox(children=(IntProgress(value=0, description='Batches', max=469, style=ProgressStyle(description_width='ini…"
      ]
     },
     "metadata": {},
     "output_type": "display_data"
    },
    {
     "name": "stdout",
     "output_type": "stream",
     "text": [
      "Train epoch 7: [    0/60000] Loss:  0.0015\n",
      "Train epoch 7: [11904/60000] Loss:  0.0073\n",
      "Train epoch 7: [23808/60000] Loss:  0.0163\n",
      "Train epoch 7: [35712/60000] Loss:  0.0015\n",
      "Train epoch 7: [47616/60000] Loss:  0.0100\n",
      "Train epoch 7: [59520/60000] Loss:  0.0020\n"
     ]
    },
    {
     "data": {
      "application/vnd.jupyter.widget-view+json": {
       "model_id": "",
       "version_major": 2,
       "version_minor": 0
      },
      "text/plain": [
       "HBox(children=(IntProgress(value=0, description='Batches', max=469, style=ProgressStyle(description_width='ini…"
      ]
     },
     "metadata": {},
     "output_type": "display_data"
    },
    {
     "name": "stdout",
     "output_type": "stream",
     "text": [
      "Train epoch 8: [    0/60000] Loss:  0.0005\n",
      "Train epoch 8: [11904/60000] Loss:  0.0643\n",
      "Train epoch 8: [23808/60000] Loss:  0.0748\n",
      "Train epoch 8: [35712/60000] Loss:  0.0060\n",
      "Train epoch 8: [47616/60000] Loss:  0.0395\n",
      "Train epoch 8: [59520/60000] Loss:  0.0004\n"
     ]
    },
    {
     "data": {
      "application/vnd.jupyter.widget-view+json": {
       "model_id": "",
       "version_major": 2,
       "version_minor": 0
      },
      "text/plain": [
       "HBox(children=(IntProgress(value=0, description='Batches', max=469, style=ProgressStyle(description_width='ini…"
      ]
     },
     "metadata": {},
     "output_type": "display_data"
    },
    {
     "name": "stdout",
     "output_type": "stream",
     "text": [
      "Train epoch 9: [    0/60000] Loss:  0.0118\n",
      "Train epoch 9: [11904/60000] Loss:  0.0019\n",
      "Train epoch 9: [23808/60000] Loss:  0.0004\n",
      "Train epoch 9: [35712/60000] Loss:  0.0013\n",
      "Train epoch 9: [47616/60000] Loss:  0.0060\n",
      "Train epoch 9: [59520/60000] Loss:  0.0076\n"
     ]
    },
    {
     "data": {
      "application/vnd.jupyter.widget-view+json": {
       "model_id": "",
       "version_major": 2,
       "version_minor": 0
      },
      "text/plain": [
       "HBox(children=(IntProgress(value=0, description='Batches', max=469, style=ProgressStyle(description_width='ini…"
      ]
     },
     "metadata": {},
     "output_type": "display_data"
    },
    {
     "name": "stdout",
     "output_type": "stream",
     "text": [
      "Train epoch 10: [    0/60000] Loss:  0.0003\n",
      "Train epoch 10: [11904/60000] Loss:  0.0382\n",
      "Train epoch 10: [23808/60000] Loss:  0.0022\n",
      "Train epoch 10: [35712/60000] Loss:  0.0075\n",
      "Train epoch 10: [47616/60000] Loss:  0.0197\n",
      "Train epoch 10: [59520/60000] Loss:  0.0232\n"
     ]
    },
    {
     "data": {
      "application/vnd.jupyter.widget-view+json": {
       "model_id": "",
       "version_major": 2,
       "version_minor": 0
      },
      "text/plain": [
       "HBox(children=(IntProgress(value=0, description='Batches', max=469, style=ProgressStyle(description_width='ini…"
      ]
     },
     "metadata": {},
     "output_type": "display_data"
    },
    {
     "name": "stdout",
     "output_type": "stream",
     "text": [
      "Train epoch 11: [    0/60000] Loss:  0.0001\n",
      "Train epoch 11: [11904/60000] Loss:  0.0001\n",
      "Train epoch 11: [23808/60000] Loss:  0.0029\n",
      "Train epoch 11: [35712/60000] Loss:  0.0240\n",
      "Train epoch 11: [47616/60000] Loss:  0.0109\n",
      "Train epoch 11: [59520/60000] Loss:  0.0395\n",
      "\n"
     ]
    }
   ],
   "source": [
    "train(cnn, device, train_loader, optimizer, criterion, 12, len(train_loader) // 5)"
   ]
  },
  {
   "cell_type": "code",
   "execution_count": 10,
   "metadata": {},
   "outputs": [
    {
     "data": {
      "application/vnd.jupyter.widget-view+json": {
       "model_id": "db0134396fd44d8aa15a2fee54863a0e",
       "version_major": 2,
       "version_minor": 0
      },
      "text/plain": [
       "HBox(children=(IntProgress(value=0, max=469), HTML(value='')))"
      ]
     },
     "metadata": {},
     "output_type": "display_data"
    },
    {
     "name": "stdout",
     "output_type": "stream",
     "text": [
      "\n",
      "[Train] Accuracy: 99.67%, loss:  0.0114\n"
     ]
    },
    {
     "data": {
      "application/vnd.jupyter.widget-view+json": {
       "model_id": "b1d8ab5c3b9f4c47bb4d5270e6fbaeaf",
       "version_major": 2,
       "version_minor": 0
      },
      "text/plain": [
       "HBox(children=(IntProgress(value=0, max=40), HTML(value='')))"
      ]
     },
     "metadata": {},
     "output_type": "display_data"
    },
    {
     "name": "stdout",
     "output_type": "stream",
     "text": [
      "\n",
      "[Test] Accuracy: 99.05%, loss:  0.0356\n"
     ]
    }
   ],
   "source": [
    "accuracy, avg_loss = evaluate(cnn, device, train_loader, criterion)\n",
    "print(f'[Train] Accuracy: {100 * accuracy:5.2f}%, loss: {avg_loss:7.4f}')\n",
    "accuracy, avg_loss = evaluate(cnn, device, test_loader, criterion)\n",
    "print(f'[Test] Accuracy: {100 * accuracy:5.2f}%, loss: {avg_loss:7.4f}')"
   ]
  }
 ],
 "metadata": {
  "kernelspec": {
   "display_name": "Python 3",
   "language": "python",
   "name": "python3"
  },
  "language_info": {
   "codemirror_mode": {
    "name": "ipython",
    "version": 3
   },
   "file_extension": ".py",
   "mimetype": "text/x-python",
   "name": "python",
   "nbconvert_exporter": "python",
   "pygments_lexer": "ipython3",
   "version": "3.7.1"
  }
 },
 "nbformat": 4,
 "nbformat_minor": 2
}
