{
 "cells": [
  {
   "cell_type": "code",
   "execution_count": 21,
   "metadata": {},
   "outputs": [],
   "source": [
    "import numpy as np\n",
    "from sklearn.metrics.pairwise import cosine_distances\n",
    "from sklearn.neighbors import NearestNeighbors\n",
    "from numpy.linalg import norm"
   ]
  },
  {
   "cell_type": "code",
   "execution_count": 10,
   "metadata": {},
   "outputs": [
    {
     "data": {
      "text/plain": [
       "array([[-1.25939405,  0.04534647, -0.65525775, -0.37182031, -0.42125689],\n",
       "       [ 0.70140021,  0.64110097,  0.31699105,  1.36933589, -1.21722231],\n",
       "       [ 0.79780608, -1.95054988,  0.29864318,  2.19711711,  0.12976125],\n",
       "       [-1.66974841, -0.36900854, -0.37568992, -0.29368516, -0.59523912],\n",
       "       [ 0.42106248,  1.51300726, -1.14060122, -0.09406715, -0.87719681]])"
      ]
     },
     "execution_count": 10,
     "metadata": {},
     "output_type": "execute_result"
    }
   ],
   "source": [
    "X = np.random.randn(5, 5)\n",
    "X"
   ]
  },
  {
   "cell_type": "code",
   "execution_count": 11,
   "metadata": {},
   "outputs": [
    {
     "data": {
      "text/plain": [
       "array([[0.        , 1.33182316, 1.46195726, 0.05867609, 0.78806423],\n",
       "       [1.33182316, 0.        , 0.6473823 , 1.30805743, 0.58609725],\n",
       "       [1.46195726, 0.6473823 , 0.        , 1.25241311, 1.50190289],\n",
       "       [0.05867609, 1.30805743, 1.25241311, 0.        , 1.0709145 ],\n",
       "       [0.78806423, 0.58609725, 1.50190289, 1.0709145 , 0.        ]])"
      ]
     },
     "execution_count": 11,
     "metadata": {},
     "output_type": "execute_result"
    }
   ],
   "source": [
    "distances = cosine_distances(X)\n",
    "distances"
   ]
  },
  {
   "cell_type": "code",
   "execution_count": 25,
   "metadata": {},
   "outputs": [],
   "source": [
    "neigh = NearestNeighbors(n_neighbors = 3, metric = 'cosine')"
   ]
  },
  {
   "cell_type": "code",
   "execution_count": 26,
   "metadata": {},
   "outputs": [
    {
     "data": {
      "text/plain": [
       "NearestNeighbors(algorithm='auto', leaf_size=30, metric='cosine',\n",
       "         metric_params=None, n_jobs=None, n_neighbors=3, p=2, radius=1.0)"
      ]
     },
     "execution_count": 26,
     "metadata": {},
     "output_type": "execute_result"
    }
   ],
   "source": [
    "neigh.fit(X)"
   ]
  },
  {
   "cell_type": "code",
   "execution_count": 27,
   "metadata": {},
   "outputs": [
    {
     "data": {
      "text/plain": [
       "(array([[0.        , 0.05867609, 0.78806423]]), array([[0, 3, 4]]))"
      ]
     },
     "execution_count": 27,
     "metadata": {},
     "output_type": "execute_result"
    }
   ],
   "source": [
    "neigh.kneighbors([X[0]])"
   ]
  },
  {
   "cell_type": "code",
   "execution_count": 28,
   "metadata": {},
   "outputs": [
    {
     "name": "stdout",
     "output_type": "stream",
     "text": [
      "0.9999999999999998 -0.3318231630801412 -0.46195725648366864 0.9413239140614541 0.2119357748694467 \n",
      "-0.3318231630801412 1.0000000000000002 0.3526177009459071 -0.30805742607420195 0.4139027488796131 \n",
      "-0.46195725648366864 0.3526177009459071 1.0 -0.2524131146297628 -0.5019028937389314 \n",
      "0.9413239140614541 -0.30805742607420195 -0.2524131146297628 1.0 -0.07091450244712116 \n",
      "0.2119357748694467 0.4139027488796131 -0.5019028937389314 -0.07091450244712116 1.0000000000000002 \n"
     ]
    }
   ],
   "source": [
    "for i in range(X.shape[0]):\n",
    "    for j in range(X.shape[1]):\n",
    "        print(np.dot(X[i], X[j]) / (norm(X[i]) * norm(X[j])), end = ' ')\n",
    "    print()"
   ]
  },
  {
   "cell_type": "code",
   "execution_count": 30,
   "metadata": {},
   "outputs": [
    {
     "data": {
      "text/plain": [
       "{}"
      ]
     },
     "execution_count": 30,
     "metadata": {},
     "output_type": "execute_result"
    }
   ],
   "source": [
    "neigh."
   ]
  },
  {
   "cell_type": "code",
   "execution_count": null,
   "metadata": {},
   "outputs": [],
   "source": []
  }
 ],
 "metadata": {
  "kernelspec": {
   "display_name": "Python 3",
   "language": "python",
   "name": "python3"
  },
  "language_info": {
   "codemirror_mode": {
    "name": "ipython",
    "version": 3
   },
   "file_extension": ".py",
   "mimetype": "text/x-python",
   "name": "python",
   "nbconvert_exporter": "python",
   "pygments_lexer": "ipython3",
   "version": "3.7.1"
  }
 },
 "nbformat": 4,
 "nbformat_minor": 2
}
