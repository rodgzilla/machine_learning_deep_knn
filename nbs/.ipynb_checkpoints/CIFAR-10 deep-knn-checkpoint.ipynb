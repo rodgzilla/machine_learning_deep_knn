{
 "cells": [
  {
   "cell_type": "code",
   "execution_count": 1,
   "metadata": {},
   "outputs": [],
   "source": [
    "import matplotlib.pyplot   as plt\n",
    "import matplotlib.gridspec as gridspec\n",
    "from tqdm import tqdm, tqdm_notebook\n",
    "\n",
    "import numpy as np\n",
    "\n",
    "from sklearn.metrics.pairwise import cosine_distances\n",
    "from sklearn.neighbors        import NearestNeighbors\n",
    "\n",
    "import torch\n",
    "import torch.nn            as nn\n",
    "import torch.nn.functional as F\n",
    "import torch.optim         as optim\n",
    "from torch.utils.data.dataset import random_split\n",
    "from torchvision              import datasets \n",
    "from torchvision              import transforms"
   ]
  },
  {
   "cell_type": "markdown",
   "metadata": {},
   "source": [
    "# General settings and normalization tools"
   ]
  },
  {
   "cell_type": "code",
   "execution_count": 2,
   "metadata": {},
   "outputs": [],
   "source": [
    "do_train          = False\n",
    "do_eval           = False\n",
    "calib_prop        = 0.8\n",
    "model_path        = '../models/CIFAR_CNN.pt'\n",
    "batch_size        = 128\n",
    "device            = torch.device('cuda')\n",
    "means             = torch.tensor((0.4914, 0.4822, 0.4465)).to(device)\n",
    "stds              = torch.tensor((0.2023, 0.1994, 0.2010)).to(device)\n",
    "normalize         = lambda x: (x - means) / stds\n",
    "normalize_red     = lambda x: (x - means[0]) / stds[0]\n",
    "normalize_green   = lambda x: (x - means[1]) / stds[1]\n",
    "normalize_blue    = lambda x: (x - means[2]) / stds[2]\n",
    "reverse_normalize = lambda x: (x * stds) + means"
   ]
  },
  {
   "cell_type": "code",
   "execution_count": 3,
   "metadata": {},
   "outputs": [],
   "source": [
    "def display_img(img):\n",
    "    img_data = lambda img: reverse_normalize(img.squeeze().permute(1,2,0)).data.cpu().numpy().clip(0, 1)\n",
    "    plt.imshow(img_data(img))    "
   ]
  },
  {
   "cell_type": "markdown",
   "metadata": {},
   "source": [
    "# Data loading"
   ]
  },
  {
   "cell_type": "code",
   "execution_count": 4,
   "metadata": {},
   "outputs": [],
   "source": [
    "cifar_cats = [\n",
    "    'airplane',\n",
    "    'automobile',\n",
    "    'bird',\n",
    "    'cat',\n",
    "    'deer',\n",
    "    'dog',\n",
    "    'frog',\n",
    "    'horse',\n",
    "    'ship',\n",
    "    'truck'\n",
    "]"
   ]
  },
  {
   "cell_type": "code",
   "execution_count": 5,
   "metadata": {},
   "outputs": [
    {
     "name": "stdout",
     "output_type": "stream",
     "text": [
      "Files already downloaded and verified\n",
      "Train dataset size: 10000\n",
      "Calibration dataset size: 40000\n"
     ]
    }
   ],
   "source": [
    "training_dataset = datasets.CIFAR10(\n",
    "    '../data',\n",
    "    train = True,\n",
    "    download = True,\n",
    "    transform = transforms.Compose(\n",
    "        [\n",
    "            transforms.ToTensor(),\n",
    "            transforms.Normalize(means, stds)\n",
    "        ]\n",
    "    )\n",
    ")\n",
    "\n",
    "train_set_size               = len(training_dataset)\n",
    "calib_size                   = round(calib_prop * train_set_size)\n",
    "train_dataset, calib_dataset = random_split(\n",
    "    dataset = training_dataset, \n",
    "    lengths = [train_set_size - calib_size, calib_size]\n",
    ")\n",
    "print(f'Train dataset size: {len(train_dataset)}')\n",
    "print(f'Calibration dataset size: {len(calib_dataset)}')\n",
    "\n",
    "train_loader = torch.utils.data.DataLoader(\n",
    "    train_dataset,\n",
    "    shuffle = True,\n",
    "    batch_size = batch_size\n",
    ")"
   ]
  },
  {
   "cell_type": "code",
   "execution_count": 6,
   "metadata": {},
   "outputs": [
    {
     "name": "stdout",
     "output_type": "stream",
     "text": [
      "Files already downloaded and verified\n"
     ]
    }
   ],
   "source": [
    "test_dataset = datasets.CIFAR10(\n",
    "    '../data',\n",
    "    train = False,\n",
    "    download = True,\n",
    "    transform = transforms.Compose(\n",
    "        [\n",
    "            transforms.ToTensor(),\n",
    "            transforms.Normalize(means, stds)\n",
    "        ]\n",
    "    )\n",
    ")\n",
    "\n",
    "test_loader = torch.utils.data.DataLoader(\n",
    "    test_dataset,\n",
    "    shuffle = False,\n",
    "    batch_size = 2 * batch_size\n",
    ")"
   ]
  },
  {
   "cell_type": "code",
   "execution_count": 7,
   "metadata": {},
   "outputs": [
    {
     "name": "stdout",
     "output_type": "stream",
     "text": [
      "truck\n"
     ]
    },
    {
     "data": {
      "image/png": "[encoded data removed]",
      "text/plain": [
       "<Figure size 432x288 with 1 Axes>"
      ]
     },
     "metadata": {
      "needs_background": "light"
     },
     "output_type": "display_data"
    }
   ],
   "source": [
    "img, y = train_dataset[510]\n",
    "display_img(img.to(device))\n",
    "print(cifar_cats[y])"
   ]
  },
  {
   "cell_type": "code",
   "execution_count": 8,
   "metadata": {},
   "outputs": [
    {
     "name": "stdout",
     "output_type": "stream",
     "text": [
      "dog\n"
     ]
    },
    {
     "data": {
      "image/png": "[encoded data removed]",
      "text/plain": [
       "<Figure size 432x288 with 1 Axes>"
      ]
     },
     "metadata": {
      "needs_background": "light"
     },
     "output_type": "display_data"
    }
   ],
   "source": [
    "img, y = test_dataset[510]\n",
    "display_img(img.to(device))\n",
    "print(cifar_cats[y])"
   ]
  },
  {
   "cell_type": "markdown",
   "metadata": {},
   "source": [
    "# Training and evaluation tools"
   ]
  },
  {
   "cell_type": "code",
   "execution_count": 9,
   "metadata": {},
   "outputs": [],
   "source": [
    "def train(model, device, train_loader, optimizer, criterion, n_epochs, log_interval):\n",
    "    model.train()\n",
    "    for epoch in tqdm_notebook(range(n_epochs), desc = 'Epochs'):\n",
    "        for batch_idx, (X, y) in tqdm_notebook(enumerate(train_loader), total = len(train_loader), desc = 'Batches', leave = False):\n",
    "            X, y       = X.to(device), y.to(device)\n",
    "            optimizer.zero_grad()\n",
    "            *_, y_pred = model(X)\n",
    "            loss       = criterion(y_pred, y)\n",
    "            loss.backward()\n",
    "            optimizer.step()\n",
    "            if batch_idx % log_interval == 0:\n",
    "                print(f'Train epoch {epoch}: [{batch_idx * len(X):5d}/{len(train_loader.dataset):5d}] Loss: {loss.item():7.4f}')"
   ]
  },
  {
   "cell_type": "code",
   "execution_count": 10,
   "metadata": {},
   "outputs": [],
   "source": [
    "def evaluate(model, device, test_loader, criterion):\n",
    "    model.eval()\n",
    "    test_set_size = len(test_loader.dataset)\n",
    "    correct_answers = 0\n",
    "    sum_loss = 0\n",
    "    with torch.no_grad():\n",
    "        for X, y in tqdm_notebook(test_loader):\n",
    "            X, y             = X.to(device), y.to(device)\n",
    "            *_, y_pred       = model(X)\n",
    "            class_pred       = y_pred.argmax(dim = 1)\n",
    "            correct_answers += (y == class_pred).sum().item()\n",
    "            sum_loss        += criterion(y_pred, y).item()\n",
    "    accuracy = correct_answers / test_set_size\n",
    "    average_loss = sum_loss / len(test_loader)\n",
    "    \n",
    "    return accuracy, average_loss"
   ]
  },
  {
   "cell_type": "markdown",
   "metadata": {},
   "source": [
    "# Model"
   ]
  },
  {
   "cell_type": "code",
   "execution_count": 11,
   "metadata": {},
   "outputs": [],
   "source": [
    "class CNN(nn.Module):\n",
    "    def __init__(self):\n",
    "        super(CNN, self).__init__()\n",
    "        self.conv1 = nn.Conv2d(3 , 16 , 3, padding = 1)\n",
    "        self.conv2 = nn.Conv2d(16, 16 , 3, padding = 1)\n",
    "        self.conv3 = nn.Conv2d(16, 32,  3, padding = 1)\n",
    "        self.conv4 = nn.Conv2d(32, 32,  3, padding = 1)\n",
    "        self.fc1   = nn.Linear(32 * 8 * 8, 128)\n",
    "        self.fc2   = nn.Linear(128       , 10)\n",
    "        \n",
    "    def forward(self, x):\n",
    "        out_conv1 = F.dropout(F.relu(self.conv1(x)), 0.2, training = self.training)\n",
    "        out_conv2 = F.dropout(F.relu(self.conv2(out_conv1)), 0.2, training = self.training)\n",
    "        out_pool1 = F.max_pool2d(out_conv2, kernel_size = (2, 2))\n",
    "        out_conv3 = F.dropout(F.relu(self.conv3(out_pool1)), 0.2, training = self.training)\n",
    "        out_conv4 = F.dropout(F.relu(self.conv4(out_conv3)), 0.2, training = self.training)\n",
    "        out_pool2 = F.max_pool2d(out_conv4, kernel_size = (2, 2))\n",
    "        out_view  = out_pool2.view(-1, 32 * 8 * 8)\n",
    "        out_fc    = F.dropout(F.relu(self.fc1(out_view)), 0.2, training = self.training)\n",
    "        out       = self.fc2(out_fc)\n",
    "        \n",
    "        return out_conv1, out_conv2, out_conv3, out_conv4, out"
   ]
  },
  {
   "cell_type": "markdown",
   "metadata": {},
   "source": [
    "# Training"
   ]
  },
  {
   "cell_type": "code",
   "execution_count": 12,
   "metadata": {},
   "outputs": [],
   "source": [
    "criterion = nn.CrossEntropyLoss()"
   ]
  },
  {
   "cell_type": "code",
   "execution_count": 13,
   "metadata": {},
   "outputs": [],
   "source": [
    "if do_train:\n",
    "    cnn       = CNN().to(device)\n",
    "    optimizer = optim.Adam(cnn.parameters())\n",
    "    train(cnn, device, train_loader, optimizer, criterion, 15, len(train_loader) // 5)\n",
    "    torch.save(cnn.state_dict(), model_path)"
   ]
  },
  {
   "cell_type": "code",
   "execution_count": 14,
   "metadata": {},
   "outputs": [
    {
     "data": {
      "text/plain": [
       "CNN(\n",
       "  (conv1): Conv2d(3, 16, kernel_size=(3, 3), stride=(1, 1), padding=(1, 1))\n",
       "  (conv2): Conv2d(16, 16, kernel_size=(3, 3), stride=(1, 1), padding=(1, 1))\n",
       "  (conv3): Conv2d(16, 32, kernel_size=(3, 3), stride=(1, 1), padding=(1, 1))\n",
       "  (conv4): Conv2d(32, 32, kernel_size=(3, 3), stride=(1, 1), padding=(1, 1))\n",
       "  (fc1): Linear(in_features=2048, out_features=128, bias=True)\n",
       "  (fc2): Linear(in_features=128, out_features=10, bias=True)\n",
       ")"
      ]
     },
     "execution_count": 14,
     "metadata": {},
     "output_type": "execute_result"
    }
   ],
   "source": [
    "cnn = CNN().to(device)\n",
    "cnn.load_state_dict(torch.load(model_path))\n",
    "cnn.eval()"
   ]
  },
  {
   "cell_type": "code",
   "execution_count": 15,
   "metadata": {},
   "outputs": [],
   "source": [
    "if do_eval:\n",
    "    accuracy, avg_loss = evaluate(cnn, device, train_loader, criterion)\n",
    "    print(f'[Train] Accuracy: {100 * accuracy:5.2f}%, loss: {avg_loss:7.4f}')\n",
    "    accuracy, avg_loss = evaluate(cnn, device, test_loader, criterion)\n",
    "    print(f'[Test] Accuracy: {100 * accuracy:5.2f}%, loss: {avg_loss:7.4f}')"
   ]
  },
  {
   "cell_type": "code",
   "execution_count": 16,
   "metadata": {},
   "outputs": [
    {
     "name": "stdout",
     "output_type": "stream",
     "text": [
      "Real label: 1\n",
      "Predicted label: 1\n"
     ]
    },
    {
     "data": {
      "image/png": "[encoded data removed]",
      "text/plain": [
       "<Figure size 432x288 with 1 Axes>"
      ]
     },
     "metadata": {
      "needs_background": "light"
     },
     "output_type": "display_data"
    }
   ],
   "source": [
    "ex_id = 9\n",
    "X, y  = test_dataset[ex_id]\n",
    "X     = X.to(device)\n",
    "img   = X.permute(1, 2, 0)\n",
    "img   = reverse_normalize(img)\n",
    "plt.imshow(img.cpu())\n",
    "print(f'Real label: {y}')\n",
    "print(f'Predicted label: {cnn(X.unsqueeze(0))[-1].argmax().item()}')"
   ]
  },
  {
   "cell_type": "markdown",
   "metadata": {},
   "source": [
    "# Deep KNN"
   ]
  },
  {
   "cell_type": "code",
   "execution_count": 44,
   "metadata": {},
   "outputs": [],
   "source": [
    "class DeepKNN():\n",
    "    def __init__(self, model, device, train_dataset, calib_dataset, \n",
    "                 batch_size, n_neighbors, n_embs):\n",
    "        self.model         = model\n",
    "        self.device        = device\n",
    "        self.train_dataset = train_dataset\n",
    "        self.calib_dataset = calib_dataset\n",
    "        self.batch_size    = batch_size\n",
    "        self.n_neighbors   = n_neighbors\n",
    "        self.n_embs        = n_embs\n",
    "        (\n",
    "            self.conv_features, \n",
    "            self.train_targets, \n",
    "            self.train_predictions\n",
    "        )                  = self._build_emb_spaces()\n",
    "        self._build_calibration()\n",
    "        self.neighs = self._build_neighs()\n",
    "        \n",
    "    def _build_emb_spaces(self):\n",
    "        print('Building the embedding spaces from the training set.')\n",
    "        sequential_train_loader = torch.utils.data.DataLoader(\n",
    "            self.train_dataset,\n",
    "            shuffle    = False,\n",
    "            batch_size = self.batch_size\n",
    "        )\n",
    "        \n",
    "        conv_features = [[] for _ in range(self.n_embs)]\n",
    "        targets       = []\n",
    "        predictions   = []\n",
    "        print('\\tRunning predictions')\n",
    "        self.model.eval()\n",
    "        for X, y in sequential_train_loader:\n",
    "            X                  = X.to(self.device)\n",
    "            *out_convs, y_pred = self.model(X)\n",
    "            for i, out_conv in enumerate(out_convs):\n",
    "                conv_feat = out_conv.view(out_conv.size(0), -1).cpu().detach().numpy()\n",
    "                conv_features[i].append(conv_feat)\n",
    "            targets.append(y.numpy())\n",
    "            predictions.append(y_pred.cpu().detach().numpy())\n",
    "        print('\\tConcatenating results')\n",
    "        conv_features = [np.concatenate(out_convs) for out_convs in conv_features]\n",
    "        targets       = np.concatenate(targets)\n",
    "        predictions   = np.concatenate(predictions, axis = 0)\n",
    "        \n",
    "        return conv_features, targets, predictions\n",
    "\n",
    "    def _build_calibration(self):\n",
    "        # TODO\n",
    "        calib_loader = torch.utils.data.DataLoader(\n",
    "            self.calib_dataset,\n",
    "            shuffle = False,\n",
    "            batch_size = batch_size\n",
    "        )\n",
    "    \n",
    "    def _build_neighs(self):\n",
    "        print('Building Nearest Neighbor finders.')\n",
    "        return [\n",
    "            NearestNeighbors(\n",
    "                n_neighbors = self.n_neighbors, \n",
    "                metric      = 'cosine'\n",
    "            ).fit(feats) \n",
    "            for feats in self.conv_features\n",
    "        ]\n",
    "        \n",
    "    def _alpha(self, X, y):\n",
    "        neighbors_by_layer, _  = self._get_closest_points(X)\n",
    "        closest_points_classes = self.train_targets[neighbors_by_layer]\n",
    "        \n",
    "        return (closest_points_classes != y).sum()\n",
    "        \n",
    "    def _get_closest_points(self, X):\n",
    "        *out_convs, y_pred = self.model(X.unsqueeze(0).to(device))\n",
    "        neighbors_by_layer = []\n",
    "        for i, (neigh, layer_emb) in enumerate(zip(self.neighs, out_convs)):\n",
    "            emb       = layer_emb.detach().cpu().view(1, -1).numpy()\n",
    "            neighbors = neigh.kneighbors(emb, return_distance = False) \n",
    "            neighbors_by_layer.append(neighbors)\n",
    "        \n",
    "        return np.concatenate(neighbors_by_layer, axis = 0), y_pred\n",
    "    \n",
    "    def predict_interpretation(self, X, y = None):\n",
    "        img_data = lambda img: reverse_normalize(img.to(device).squeeze().permute(1,2,0)).data.cpu().numpy().clip(0, 1)\n",
    "        plt.figure(figsize = (12, 6))\n",
    "        gs       = gridspec.GridSpec(4, 8)\n",
    "        ax_big   = plt.subplot(gs[:, :-4])\n",
    "        ax_grid  = [[plt.subplot(gs[i, j]) for j in range(4, 8)] for i in range(4)]\n",
    "        ax_big.imshow(img_data(X))\n",
    "        ax_big.axis('off')\n",
    "        neighbors_by_layer, y_pred = self._get_closest_points(X)\n",
    "        for i, closest_layer in enumerate(neighbors_by_layer):\n",
    "            for j, train_ex_id in enumerate(closest_layer):\n",
    "                img = self.train_dataset[train_ex_id][0]\n",
    "                ax_grid[i][j].imshow(img_data(img))\n",
    "                ax_grid[i][j].axis('off')\n",
    "\n",
    "        if y is not None:\n",
    "            print(f'Real class: {cifar_cats[y]}')\n",
    "        print(f'Predicted class: {cifar_cats[y_pred.argmax(dim = 1).cpu().item()]}')\n",
    "        \n",
    "        return y_pred"
   ]
  },
  {
   "cell_type": "code",
   "execution_count": 45,
   "metadata": {},
   "outputs": [
    {
     "name": "stdout",
     "output_type": "stream",
     "text": [
      "Building the embedding spaces from the training set.\n",
      "\tRunning predictions\n",
      "\tConcatenating results\n",
      "Building Nearest Neighbor finders.\n"
     ]
    }
   ],
   "source": [
    "deep_knn = DeepKNN(\n",
    "    model         = cnn, \n",
    "    device        = device, \n",
    "    train_dataset = train_dataset,\n",
    "    calib_dataset = calib_dataset,\n",
    "    batch_size    = batch_size,\n",
    "    n_neighbors   = 4,\n",
    "    n_embs        = 4 \n",
    ")"
   ]
  },
  {
   "cell_type": "code",
   "execution_count": 46,
   "metadata": {},
   "outputs": [
    {
     "data": {
      "text/plain": [
       "4"
      ]
     },
     "execution_count": 46,
     "metadata": {},
     "output_type": "execute_result"
    }
   ],
   "source": [
    "deep_knn._alpha(*test_dataset[1])"
   ]
  },
  {
   "cell_type": "code",
   "execution_count": 19,
   "metadata": {},
   "outputs": [
    {
     "name": "stdout",
     "output_type": "stream",
     "text": [
      "Real class: ship\n",
      "Predicted class: ship\n"
     ]
    },
    {
     "data": {
      "text/plain": [
       "tensor([[  6.3778,   6.8113,  -7.2254,  -8.9941, -11.6314, -12.7672, -12.0315,\n",
       "         -13.9200,  11.7927,  -1.2883]], device='cuda:0',\n",
       "       grad_fn=<AddmmBackward>)"
      ]
     },
     "execution_count": 19,
     "metadata": {},
     "output_type": "execute_result"
    },
    {
     "data": {
      "image/png": "[encoded data removed]",
      "text/plain": [
       "<Figure size 864x432 with 17 Axes>"
      ]
     },
     "metadata": {
      "needs_background": "light"
     },
     "output_type": "display_data"
    }
   ],
   "source": [
    "deep_knn.predict_interpretation(*test_dataset[1])"
   ]
  },
  {
   "cell_type": "code",
   "execution_count": 33,
   "metadata": {},
   "outputs": [],
   "source": [
    "result, y_pred = deep_knn._get_closest_points(test_dataset[1][0])"
   ]
  },
  {
   "cell_type": "code",
   "execution_count": 34,
   "metadata": {},
   "outputs": [
    {
     "data": {
      "text/plain": [
       "array([[9268, 2477, 5438, 8306],\n",
       "       [5438, 1608, 5967, 3559],\n",
       "       [1701,  862, 5543, 1999],\n",
       "       [1701, 8306, 3526, 6085]])"
      ]
     },
     "execution_count": 34,
     "metadata": {},
     "output_type": "execute_result"
    }
   ],
   "source": [
    "result"
   ]
  },
  {
   "cell_type": "code",
   "execution_count": 36,
   "metadata": {},
   "outputs": [],
   "source": [
    "classes = deep_knn.train_targets[result]"
   ]
  },
  {
   "cell_type": "code",
   "execution_count": 38,
   "metadata": {},
   "outputs": [],
   "source": [
    "y = 8"
   ]
  },
  {
   "cell_type": "code",
   "execution_count": 39,
   "metadata": {},
   "outputs": [
    {
     "data": {
      "text/plain": [
       "4"
      ]
     },
     "execution_count": 39,
     "metadata": {},
     "output_type": "execute_result"
    }
   ],
   "source": [
    "(classes != y).sum()"
   ]
  },
  {
   "cell_type": "code",
   "execution_count": 40,
   "metadata": {},
   "outputs": [
    {
     "data": {
      "text/plain": [
       "array([[8, 1, 8, 8],\n",
       "       [8, 8, 2, 8],\n",
       "       [8, 8, 1, 8],\n",
       "       [8, 8, 8, 0]])"
      ]
     },
     "execution_count": 40,
     "metadata": {},
     "output_type": "execute_result"
    }
   ],
   "source": [
    "classes"
   ]
  },
  {
   "cell_type": "code",
   "execution_count": 32,
   "metadata": {},
   "outputs": [
    {
     "data": {
      "text/plain": [
       "(array([[9268, 2477, 5438, 8306],\n",
       "        [5438, 1608, 5967, 3559],\n",
       "        [1701,  862, 5543, 1999],\n",
       "        [1701, 8306, 3526, 6085]]),\n",
       " tensor([[  6.3778,   6.8113,  -7.2254,  -8.9941, -11.6314, -12.7672, -12.0315,\n",
       "          -13.9200,  11.7927,  -1.2883]], device='cuda:0',\n",
       "        grad_fn=<AddmmBackward>))"
      ]
     },
     "execution_count": 32,
     "metadata": {},
     "output_type": "execute_result"
    }
   ],
   "source": [
    "result"
   ]
  },
  {
   "cell_type": "code",
   "execution_count": 28,
   "metadata": {},
   "outputs": [
    {
     "data": {
      "text/plain": [
       "array([6, 4, 2, ..., 2, 0, 6])"
      ]
     },
     "execution_count": 28,
     "metadata": {},
     "output_type": "execute_result"
    }
   ],
   "source": [
    "deep_knn.train_targets"
   ]
  },
  {
   "cell_type": "markdown",
   "metadata": {},
   "source": [
    "# Adversarial examples"
   ]
  },
  {
   "cell_type": "code",
   "execution_count": 23,
   "metadata": {},
   "outputs": [],
   "source": [
    "def generate_adv_example(model, epsilon, criterion, X):\n",
    "    X.requires_grad = True\n",
    "    *_, y_pred      = model(X)\n",
    "    loss            = criterion(y_pred, y_pred.argmax(dim = 1))\n",
    "    loss.backward()\n",
    "    adv_example     = X + epsilon * X.grad.sign()\n",
    "    \n",
    "    # Clamping the result to [0, 1] in each channel.\n",
    "    # I don't think that there exist a multidimensional clamp function.\n",
    "    for channel, norm_func in enumerate([normalize_red, normalize_green, normalize_blue]):\n",
    "        adv_example[:, channel, ...].clamp_(norm_func(0), norm_func(1))\n",
    "    \n",
    "    return adv_example"
   ]
  },
  {
   "cell_type": "code",
   "execution_count": 24,
   "metadata": {},
   "outputs": [],
   "source": [
    "def adv_sample_process(model, epsilon, X, y):\n",
    "    source       = X.unsqueeze(0).to(device)\n",
    "    *_, y_pred   = model(source)\n",
    "    adv_example  = generate_adv_example(model, epsilon, criterion, source)\n",
    "    *_, adv_pred = cnn(adv_example)\n",
    "    for i in range(10):\n",
    "        print(f'Class {i}: {y_pred[0, i]:6.4f} \\t->\\t {adv_pred[0, i]:^6.4f}')\n",
    "    plt.figure(figsize = (15, 10))\n",
    "    plt.subplot(1, 2, 1)\n",
    "    display_img(source)\n",
    "    plt.subplot(1, 2, 2)\n",
    "    display_img(adv_example)\n",
    "    print(f'Real label: {cifar_cats[y]}')\n",
    "    print(f'Predicted label: {cifar_cats[adv_pred[0].argmax().item()]}')"
   ]
  },
  {
   "cell_type": "code",
   "execution_count": 25,
   "metadata": {},
   "outputs": [
    {
     "name": "stdout",
     "output_type": "stream",
     "text": [
      "Class 0: -4.0491 \t->\t -3.4603\n",
      "Class 1: -5.2417 \t->\t -4.0262\n",
      "Class 2: -0.6231 \t->\t -1.4116\n",
      "Class 3: 2.4321 \t->\t 2.6080\n",
      "Class 4: -1.2117 \t->\t -0.6302\n",
      "Class 5: 1.4921 \t->\t 2.2423\n",
      "Class 6: 3.7670 \t->\t -0.9584\n",
      "Class 7: -2.4866 \t->\t 1.0435\n",
      "Class 8: -5.2885 \t->\t -5.2924\n",
      "Class 9: -3.1335 \t->\t -3.9634\n",
      "Real label: frog\n",
      "Predicted label: cat\n"
     ]
    },
    {
     "data": {
      "image/png": "[encoded data removed]",
      "text/plain": [
       "<Figure size 1080x720 with 2 Axes>"
      ]
     },
     "metadata": {
      "needs_background": "light"
     },
     "output_type": "display_data"
    }
   ],
   "source": [
    "ex_id = 5\n",
    "X, y = test_dataset[ex_id]\n",
    "adv_sample_process(cnn, 0.15, X, y)"
   ]
  },
  {
   "cell_type": "markdown",
   "metadata": {},
   "source": [
    "# Nearest neighbors experiments"
   ]
  },
  {
   "cell_type": "code",
   "execution_count": null,
   "metadata": {},
   "outputs": [],
   "source": [
    "# neighs = [NearestNeighbors(n_neighbors = 5, metric = 'cosine').fit(feats) for feats in conv_features]"
   ]
  },
  {
   "cell_type": "code",
   "execution_count": null,
   "metadata": {},
   "outputs": [],
   "source": [
    "# def display_knn_interpretation(model, X, y, train_data, neighs):\n",
    "#     img_data = lambda img: reverse_normalize(img.to(device).squeeze().permute(1,2,0)).data.cpu().numpy().clip(0, 1)\n",
    "#     plt.figure(figsize = (12, 6))\n",
    "#     gs       = gridspec.GridSpec(4, 8)\n",
    "#     ax_big   = plt.subplot(gs[:, :-4])\n",
    "#     ax_grid  = [[plt.subplot(gs[i, j]) for j in range(4, 8)] for i in range(4)]\n",
    "#     ax_big.imshow(img_data(X))\n",
    "#     ax_big.axis('off')\n",
    "#     *out_convs, y_pred = model(X.unsqueeze(0).to(device))\n",
    "#     for i, (neigh, layer_emb) in enumerate(zip(neighs, out_convs)):\n",
    "#         emb = layer_emb.detach().cpu().view(1, -1).numpy()\n",
    "#         neighbors = neigh.kneighbors(emb, return_distance = False) \n",
    "#         for j, neighbor_id in enumerate(neighbors[0, 1:]):\n",
    "#             ax_grid[i][j].imshow(img_data(train_data[neighbor_id][0]))\n",
    "#             ax_grid[i][j].axis('off')\n",
    "#     print(f'Real class: {cifar_cats[y]}')\n",
    "#     print(f'Predicted class: {cifar_cats[y_pred.argmax(dim = 1).cpu().item()]}')"
   ]
  },
  {
   "cell_type": "code",
   "execution_count": null,
   "metadata": {},
   "outputs": [],
   "source": [
    "# example_id = 5"
   ]
  },
  {
   "cell_type": "code",
   "execution_count": null,
   "metadata": {},
   "outputs": [],
   "source": [
    "# display_knn_interpretation(cnn, *test_dataset[example_id], train_dataset, neighs)"
   ]
  },
  {
   "cell_type": "code",
   "execution_count": null,
   "metadata": {},
   "outputs": [],
   "source": [
    "# img, target = test_dataset[example_id]\n",
    "# adv_img = generate_adv_example(cnn, 0.15, criterion, img.unsqueeze(0).to(device))\n",
    "# display_knn_interpretation(cnn, adv_img[0], target, train_dataset, neighs)"
   ]
  }
 ],
 "metadata": {
  "kernelspec": {
   "display_name": "Python 3",
   "language": "python",
   "name": "python3"
  },
  "language_info": {
   "codemirror_mode": {
    "name": "ipython",
    "version": 3
   },
   "file_extension": ".py",
   "mimetype": "text/x-python",
   "name": "python",
   "nbconvert_exporter": "python",
   "pygments_lexer": "ipython3",
   "version": "3.7.1"
  }
 },
 "nbformat": 4,
 "nbformat_minor": 2
}
