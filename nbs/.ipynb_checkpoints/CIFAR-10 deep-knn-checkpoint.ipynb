{
 "cells": [
  {
   "cell_type": "code",
   "execution_count": 1,
   "metadata": {},
   "outputs": [],
   "source": [
    "from collections import Counter\n",
    "\n",
    "import matplotlib.pyplot   as plt\n",
    "import matplotlib.gridspec as gridspec\n",
    "from tqdm import tqdm, tqdm_notebook\n",
    "\n",
    "import numpy as np\n",
    "\n",
    "from sklearn.metrics.pairwise import cosine_distances\n",
    "from sklearn.neighbors        import NearestNeighbors\n",
    "\n",
    "import torch\n",
    "import torch.nn            as nn\n",
    "import torch.nn.functional as F\n",
    "import torch.optim         as optim\n",
    "from torch.utils.data.dataset import random_split\n",
    "from torchvision              import datasets \n",
    "from torchvision              import transforms"
   ]
  },
  {
   "cell_type": "markdown",
   "metadata": {},
   "source": [
    "# General settings and normalization tools"
   ]
  },
  {
   "cell_type": "code",
   "execution_count": 2,
   "metadata": {},
   "outputs": [],
   "source": [
    "do_train          = False\n",
    "do_eval           = False\n",
    "calib_prop        = 0.8\n",
    "model_path        = '../models/CIFAR_CNN.pt'\n",
    "batch_size        = 128\n",
    "device            = torch.device('cuda')\n",
    "means             = torch.tensor((0.4914, 0.4822, 0.4465)).to(device)\n",
    "stds              = torch.tensor((0.2023, 0.1994, 0.2010)).to(device)\n",
    "normalize         = lambda x: (x - means) / stds\n",
    "normalize_red     = lambda x: (x - means[0]) / stds[0]\n",
    "normalize_green   = lambda x: (x - means[1]) / stds[1]\n",
    "normalize_blue    = lambda x: (x - means[2]) / stds[2]\n",
    "reverse_normalize = lambda x: (x * stds) + means"
   ]
  },
  {
   "cell_type": "code",
   "execution_count": 3,
   "metadata": {},
   "outputs": [],
   "source": [
    "def display_img(img):\n",
    "    img_data = lambda img: reverse_normalize(img.squeeze().permute(1,2,0)).data.cpu().numpy().clip(0, 1)\n",
    "    plt.imshow(img_data(img))    "
   ]
  },
  {
   "cell_type": "markdown",
   "metadata": {},
   "source": [
    "# Data loading"
   ]
  },
  {
   "cell_type": "code",
   "execution_count": 4,
   "metadata": {},
   "outputs": [],
   "source": [
    "cifar_cats = [\n",
    "    'airplane',\n",
    "    'automobile',\n",
    "    'bird',\n",
    "    'cat',\n",
    "    'deer',\n",
    "    'dog',\n",
    "    'frog',\n",
    "    'horse',\n",
    "    'ship',\n",
    "    'truck'\n",
    "]"
   ]
  },
  {
   "cell_type": "code",
   "execution_count": 5,
   "metadata": {},
   "outputs": [
    {
     "name": "stdout",
     "output_type": "stream",
     "text": [
      "Files already downloaded and verified\n",
      "Train dataset size: 10000\n",
      "Calibration dataset size: 40000\n"
     ]
    }
   ],
   "source": [
    "training_dataset = datasets.CIFAR10(\n",
    "    '../data',\n",
    "    train = True,\n",
    "    download = True,\n",
    "    transform = transforms.Compose(\n",
    "        [\n",
    "            transforms.ToTensor(),\n",
    "            transforms.Normalize(means, stds)\n",
    "        ]\n",
    "    )\n",
    ")\n",
    "\n",
    "train_set_size               = len(training_dataset)\n",
    "calib_size                   = round(calib_prop * train_set_size)\n",
    "train_dataset, calib_dataset = random_split(\n",
    "    dataset = training_dataset, \n",
    "    lengths = [train_set_size - calib_size, calib_size]\n",
    ")\n",
    "print(f'Train dataset size: {len(train_dataset)}')\n",
    "print(f'Calibration dataset size: {len(calib_dataset)}')\n",
    "\n",
    "train_loader = torch.utils.data.DataLoader(\n",
    "    train_dataset,\n",
    "    shuffle = True,\n",
    "    batch_size = batch_size\n",
    ")"
   ]
  },
  {
   "cell_type": "code",
   "execution_count": 6,
   "metadata": {},
   "outputs": [
    {
     "name": "stdout",
     "output_type": "stream",
     "text": [
      "Files already downloaded and verified\n"
     ]
    }
   ],
   "source": [
    "test_dataset = datasets.CIFAR10(\n",
    "    '../data',\n",
    "    train = False,\n",
    "    download = True,\n",
    "    transform = transforms.Compose(\n",
    "        [\n",
    "            transforms.ToTensor(),\n",
    "            transforms.Normalize(means, stds)\n",
    "        ]\n",
    "    )\n",
    ")\n",
    "\n",
    "test_loader = torch.utils.data.DataLoader(\n",
    "    test_dataset,\n",
    "    shuffle = False,\n",
    "    batch_size = 2 * batch_size\n",
    ")"
   ]
  },
  {
   "cell_type": "code",
   "execution_count": 7,
   "metadata": {},
   "outputs": [
    {
     "name": "stdout",
     "output_type": "stream",
     "text": [
      "deer\n"
     ]
    },
    {
     "data": {
      "image/png": "[encoded data removed]",
      "text/plain": [
       "<Figure size 432x288 with 1 Axes>"
      ]
     },
     "metadata": {
      "needs_background": "light"
     },
     "output_type": "display_data"
    }
   ],
   "source": [
    "img, y = train_dataset[510]\n",
    "display_img(img.to(device))\n",
    "print(cifar_cats[y])"
   ]
  },
  {
   "cell_type": "code",
   "execution_count": 8,
   "metadata": {},
   "outputs": [
    {
     "name": "stdout",
     "output_type": "stream",
     "text": [
      "dog\n"
     ]
    },
    {
     "data": {
      "image/png": "[encoded data removed]",
      "text/plain": [
       "<Figure size 432x288 with 1 Axes>"
      ]
     },
     "metadata": {
      "needs_background": "light"
     },
     "output_type": "display_data"
    }
   ],
   "source": [
    "img, y = test_dataset[510]\n",
    "display_img(img.to(device))\n",
    "print(cifar_cats[y])"
   ]
  },
  {
   "cell_type": "markdown",
   "metadata": {},
   "source": [
    "# Training and evaluation tools"
   ]
  },
  {
   "cell_type": "code",
   "execution_count": 9,
   "metadata": {},
   "outputs": [],
   "source": [
    "def train(model, device, train_loader, optimizer, criterion, n_epochs, log_interval):\n",
    "    model.train()\n",
    "    for epoch in tqdm_notebook(range(n_epochs), desc = 'Epochs'):\n",
    "        for batch_idx, (X, y) in tqdm_notebook(enumerate(train_loader), total = len(train_loader), desc = 'Batches', leave = False):\n",
    "            X, y       = X.to(device), y.to(device)\n",
    "            optimizer.zero_grad()\n",
    "            *_, y_pred = model(X)\n",
    "            loss       = criterion(y_pred, y)\n",
    "            loss.backward()\n",
    "            optimizer.step()\n",
    "            if batch_idx % log_interval == 0:\n",
    "                print(f'Train epoch {epoch}: [{batch_idx * len(X):5d}/{len(train_loader.dataset):5d}] Loss: {loss.item():7.4f}')"
   ]
  },
  {
   "cell_type": "code",
   "execution_count": 10,
   "metadata": {},
   "outputs": [],
   "source": [
    "def evaluate(model, device, test_loader, criterion):\n",
    "    model.eval()\n",
    "    test_set_size = len(test_loader.dataset)\n",
    "    correct_answers = 0\n",
    "    sum_loss = 0\n",
    "    with torch.no_grad():\n",
    "        for X, y in tqdm_notebook(test_loader):\n",
    "            X, y             = X.to(device), y.to(device)\n",
    "            *_, y_pred       = model(X)\n",
    "            class_pred       = y_pred.argmax(dim = 1)\n",
    "            correct_answers += (y == class_pred).sum().item()\n",
    "            sum_loss        += criterion(y_pred, y).item()\n",
    "    accuracy = correct_answers / test_set_size\n",
    "    average_loss = sum_loss / len(test_loader)\n",
    "    \n",
    "    return accuracy, average_loss"
   ]
  },
  {
   "cell_type": "markdown",
   "metadata": {},
   "source": [
    "# Model"
   ]
  },
  {
   "cell_type": "code",
   "execution_count": 11,
   "metadata": {},
   "outputs": [],
   "source": [
    "class CNN(nn.Module):\n",
    "    def __init__(self):\n",
    "        super(CNN, self).__init__()\n",
    "        self.conv1 = nn.Conv2d(3 , 16 , 3, padding = 1)\n",
    "        self.conv2 = nn.Conv2d(16, 16 , 3, padding = 1)\n",
    "        self.conv3 = nn.Conv2d(16, 32,  3, padding = 1)\n",
    "        self.conv4 = nn.Conv2d(32, 32,  3, padding = 1)\n",
    "        self.fc1   = nn.Linear(32 * 8 * 8, 128)\n",
    "        self.fc2   = nn.Linear(128       , 10)\n",
    "        \n",
    "    def forward(self, x):\n",
    "        out_conv1 = F.dropout(F.relu(self.conv1(x)), 0.2, training = self.training)\n",
    "        out_conv2 = F.dropout(F.relu(self.conv2(out_conv1)), 0.2, training = self.training)\n",
    "        out_pool1 = F.max_pool2d(out_conv2, kernel_size = (2, 2))\n",
    "        out_conv3 = F.dropout(F.relu(self.conv3(out_pool1)), 0.2, training = self.training)\n",
    "        out_conv4 = F.dropout(F.relu(self.conv4(out_conv3)), 0.2, training = self.training)\n",
    "        out_pool2 = F.max_pool2d(out_conv4, kernel_size = (2, 2))\n",
    "        out_view  = out_pool2.view(-1, 32 * 8 * 8)\n",
    "        out_fc    = F.dropout(F.relu(self.fc1(out_view)), 0.2, training = self.training)\n",
    "        out       = self.fc2(out_fc)\n",
    "        \n",
    "        return out_conv1, out_conv2, out_conv3, out_conv4, out"
   ]
  },
  {
   "cell_type": "markdown",
   "metadata": {},
   "source": [
    "# Training"
   ]
  },
  {
   "cell_type": "code",
   "execution_count": 12,
   "metadata": {},
   "outputs": [],
   "source": [
    "criterion = nn.CrossEntropyLoss()"
   ]
  },
  {
   "cell_type": "code",
   "execution_count": 13,
   "metadata": {},
   "outputs": [],
   "source": [
    "if do_train:\n",
    "    cnn       = CNN().to(device)\n",
    "    optimizer = optim.Adam(cnn.parameters())\n",
    "    train(cnn, device, train_loader, optimizer, criterion, 15, len(train_loader) // 5)\n",
    "    torch.save(cnn.state_dict(), model_path)"
   ]
  },
  {
   "cell_type": "code",
   "execution_count": 14,
   "metadata": {},
   "outputs": [
    {
     "data": {
      "text/plain": [
       "CNN(\n",
       "  (conv1): Conv2d(3, 16, kernel_size=(3, 3), stride=(1, 1), padding=(1, 1))\n",
       "  (conv2): Conv2d(16, 16, kernel_size=(3, 3), stride=(1, 1), padding=(1, 1))\n",
       "  (conv3): Conv2d(16, 32, kernel_size=(3, 3), stride=(1, 1), padding=(1, 1))\n",
       "  (conv4): Conv2d(32, 32, kernel_size=(3, 3), stride=(1, 1), padding=(1, 1))\n",
       "  (fc1): Linear(in_features=2048, out_features=128, bias=True)\n",
       "  (fc2): Linear(in_features=128, out_features=10, bias=True)\n",
       ")"
      ]
     },
     "execution_count": 14,
     "metadata": {},
     "output_type": "execute_result"
    }
   ],
   "source": [
    "cnn = CNN().to(device)\n",
    "cnn.load_state_dict(torch.load(model_path))\n",
    "cnn.eval()"
   ]
  },
  {
   "cell_type": "code",
   "execution_count": 15,
   "metadata": {},
   "outputs": [],
   "source": [
    "if do_eval:\n",
    "    accuracy, avg_loss = evaluate(cnn, device, train_loader, criterion)\n",
    "    print(f'[Train] Accuracy: {100 * accuracy:5.2f}%, loss: {avg_loss:7.4f}')\n",
    "    accuracy, avg_loss = evaluate(cnn, device, test_loader, criterion)\n",
    "    print(f'[Test] Accuracy: {100 * accuracy:5.2f}%, loss: {avg_loss:7.4f}')"
   ]
  },
  {
   "cell_type": "code",
   "execution_count": 16,
   "metadata": {},
   "outputs": [
    {
     "name": "stdout",
     "output_type": "stream",
     "text": [
      "Real label: 1\n",
      "Predicted label: 1\n"
     ]
    },
    {
     "data": {
      "image/png": "[encoded data removed]",
      "text/plain": [
       "<Figure size 432x288 with 1 Axes>"
      ]
     },
     "metadata": {
      "needs_background": "light"
     },
     "output_type": "display_data"
    }
   ],
   "source": [
    "ex_id = 9\n",
    "X, y  = test_dataset[ex_id]\n",
    "X     = X.to(device)\n",
    "img   = X.permute(1, 2, 0)\n",
    "img   = reverse_normalize(img)\n",
    "plt.imshow(img.cpu())\n",
    "print(f'Real label: {y}')\n",
    "print(f'Predicted label: {cnn(X.unsqueeze(0))[-1].argmax().item()}')"
   ]
  },
  {
   "cell_type": "markdown",
   "metadata": {},
   "source": [
    "# Deep KNN"
   ]
  },
  {
   "cell_type": "code",
   "execution_count": 131,
   "metadata": {},
   "outputs": [],
   "source": [
    "class DeepKNN():\n",
    "    def __init__(self, model, device, train_dataset, calib_dataset, \n",
    "                 batch_size, n_neighbors, n_embs):\n",
    "        self.model         = model\n",
    "        self.device        = device\n",
    "        self.train_dataset = train_dataset\n",
    "        self.calib_dataset = calib_dataset\n",
    "        self.batch_size    = batch_size\n",
    "        self.n_neighbors   = n_neighbors\n",
    "        self.n_embs        = n_embs\n",
    "        (\n",
    "            self.conv_features, \n",
    "            self.train_targets, \n",
    "            self.train_predictions\n",
    "        )                  = self._build_emb_spaces()\n",
    "        self.neighs        = self._build_neighs()\n",
    "#        self.calibration   = self._build_calibration()\n",
    "        \n",
    "    def _build_emb_spaces(self):\n",
    "        print('Building the embedding spaces from the training set.')\n",
    "        sequential_train_loader = torch.utils.data.DataLoader(\n",
    "            self.train_dataset,\n",
    "            shuffle    = False,\n",
    "            batch_size = self.batch_size\n",
    "        )\n",
    "        \n",
    "        conv_features = [[] for _ in range(self.n_embs)]\n",
    "        targets       = []\n",
    "        predictions   = []\n",
    "        print('\\tRunning predictions')\n",
    "        self.model.eval()\n",
    "        for X, y in sequential_train_loader:\n",
    "            X                  = X.to(self.device)\n",
    "            *out_convs, y_pred = self.model(X)\n",
    "            for i, out_conv in enumerate(out_convs):\n",
    "                conv_feat = out_conv.view(out_conv.size(0), -1).cpu().detach().numpy()\n",
    "                conv_features[i].append(conv_feat)\n",
    "            targets.append(y.numpy())\n",
    "            predictions.append(y_pred.cpu().detach().numpy())\n",
    "        print('\\tConcatenating results')\n",
    "        conv_features = [np.concatenate(out_convs) for out_convs in conv_features]\n",
    "        targets       = np.concatenate(targets)\n",
    "        predictions   = np.concatenate(predictions, axis = 0)\n",
    "        \n",
    "        return conv_features, targets, predictions\n",
    "\n",
    "    def _build_calibration(self):\n",
    "        print('Building calibration set.')\n",
    "        alpha_values = [self._alpha(X, y) for X, y in tqdm_notebook(self.calib_dataset)]\n",
    "\n",
    "        return Counter(alpha_values)            \n",
    "    \n",
    "    def _build_neighs(self):\n",
    "        print('Building Nearest Neighbor finders.')\n",
    "        return [\n",
    "            NearestNeighbors(\n",
    "                n_neighbors = self.n_neighbors, \n",
    "                metric      = 'cosine'\n",
    "            ).fit(feats) \n",
    "            for feats in self.conv_features\n",
    "        ]\n",
    "        \n",
    "    def _alpha(self, X, y):\n",
    "        neighbors_by_layer, _  = self._get_closest_points(X)\n",
    "        closest_points_classes = self.train_targets[neighbors_by_layer]\n",
    "        same_class_neighbors   = closest_points_classes == y.reshape(y.shape[0], 1, 1)\n",
    "        same_class_neighbors   = same_class_neighbors.reshape(-1, self.n_neighbors * self.n_embs)\n",
    "        alpha                  = same_class_neighbors.sum(axis = 1)\n",
    "        \n",
    "        return alpha\n",
    "        \n",
    "    def _get_closest_points(self, X):\n",
    "        *out_convs, y_pred = self.model(X.to(device))\n",
    "        neighbors_by_layer = []\n",
    "        for i, (neigh, layer_emb) in enumerate(zip(self.neighs, out_convs)):\n",
    "            emb       = layer_emb.detach().cpu().view(X.size(0), -1).numpy()\n",
    "            neighbors = neigh.kneighbors(emb, return_distance = False) \n",
    "            neighbors_by_layer.append(neighbors)\n",
    "#         b = np.stack(result, axis = 1)\n",
    "        return np.stack(neighbors_by_layer, axis = 1), y_pred\n",
    "        \n",
    "#     def _get_closest_points(self, X):\n",
    "#         *out_convs, y_pred = self.model(X.unsqueeze(0).to(device))\n",
    "#         neighbors_by_layer = []\n",
    "#         for i, (neigh, layer_emb) in enumerate(zip(self.neighs, out_convs)):\n",
    "#             emb       = layer_emb.detach().cpu().view(1, -1).numpy()\n",
    "#             neighbors = neigh.kneighbors(emb, return_distance = False) \n",
    "#             neighbors_by_layer.append(neighbors)\n",
    "        \n",
    "#         return np.concatenate(neighbors_by_layer, axis = 0), y_pred\n",
    "\n",
    "    def predict_interpretation(self, X, y = None):\n",
    "        img_data = lambda img: reverse_normalize(img.to(device).squeeze().permute(1,2,0)).data.cpu().numpy().clip(0, 1)\n",
    "        plt.figure(figsize = (12, 6))\n",
    "        gs       = gridspec.GridSpec(4, 4 + self.n_neighbors)\n",
    "        ax_big   = plt.subplot(gs[:, :4])\n",
    "        ax_grid  = [[plt.subplot(gs[i, j]) for j in range(4, 4 + self.n_neighbors)] for i in range(4)]\n",
    "        ax_big.imshow(img_data(X))\n",
    "        ax_big.axis('off')\n",
    "        neighbors_by_layer, y_pred = self._get_closest_points(X)\n",
    "        for ax_line, closest_layer in zip(ax_grid, neighbors_by_layer):\n",
    "            for ax_cell, train_ex_id in zip(ax_line, closest_layer):\n",
    "                img = self.train_dataset[train_ex_id][0]\n",
    "                ax_cell.imshow(img_data(img))\n",
    "                ax_cell.axis('off')\n",
    "\n",
    "        if y is not None:\n",
    "            print(f'Real class: {cifar_cats[y]}')\n",
    "        print(f'Predicted class: {cifar_cats[y_pred.argmax(dim = 1).cpu().item()]}')\n",
    "        \n",
    "        return y_pred"
   ]
  },
  {
   "cell_type": "code",
   "execution_count": 132,
   "metadata": {},
   "outputs": [
    {
     "name": "stdout",
     "output_type": "stream",
     "text": [
      "Building the embedding spaces from the training set.\n",
      "\tRunning predictions\n",
      "\tConcatenating results\n",
      "Building Nearest Neighbor finders.\n"
     ]
    }
   ],
   "source": [
    "deep_knn = DeepKNN(\n",
    "    model         = cnn, \n",
    "    device        = device, \n",
    "    train_dataset = train_dataset,\n",
    "    calib_dataset = calib_dataset,\n",
    "    batch_size    = batch_size,\n",
    "    n_neighbors   = 6,\n",
    "    n_embs        = 4 \n",
    ")"
   ]
  },
  {
   "cell_type": "code",
   "execution_count": 133,
   "metadata": {},
   "outputs": [],
   "source": [
    "batch, y = next(iter(train_loader))\n",
    "y = y.numpy()"
   ]
  },
  {
   "cell_type": "code",
   "execution_count": 134,
   "metadata": {},
   "outputs": [
    {
     "data": {
      "text/plain": [
       "(torch.Size([128, 3, 32, 32]), (128,))"
      ]
     },
     "execution_count": 134,
     "metadata": {},
     "output_type": "execute_result"
    }
   ],
   "source": [
    "batch.shape, y.shape"
   ]
  },
  {
   "cell_type": "code",
   "execution_count": 135,
   "metadata": {},
   "outputs": [],
   "source": [
    "res = deep_knn._alpha(batch, y)"
   ]
  },
  {
   "cell_type": "code",
   "execution_count": 137,
   "metadata": {},
   "outputs": [
    {
     "data": {
      "text/plain": [
       "array([ 4, 17, 12, 10,  6, 23, 21, 18, 22,  9, 21, 11, 10,  7, 16, 10, 14,\n",
       "        8,  7, 10,  7, 12, 16, 17,  9, 18, 12, 18, 22, 16, 16, 13, 23, 17,\n",
       "        8, 10,  6,  6,  7, 13,  5,  5, 20, 13,  9, 11, 12,  8,  7, 21, 10,\n",
       "       12,  5,  9, 16, 22, 13, 21, 11,  9,  7, 16,  7,  9,  7,  9,  5, 16,\n",
       "        9,  4, 19, 22, 21, 16,  7, 12, 17,  7, 10, 16, 15, 12, 14, 17,  7,\n",
       "       10, 11, 23, 12, 13, 12,  6,  8, 18,  4, 12, 20, 16, 17, 22, 10,  8,\n",
       "        8, 19, 20,  7, 12,  9,  9, 12, 15, 14, 15,  7, 13, 12, 19, 19, 14,\n",
       "        9, 21, 18, 11, 14,  9,  9, 20, 16])"
      ]
     },
     "execution_count": 137,
     "metadata": {},
     "output_type": "execute_result"
    }
   ],
   "source": [
    "res"
   ]
  },
  {
   "cell_type": "code",
   "execution_count": 121,
   "metadata": {},
   "outputs": [
    {
     "data": {
      "text/plain": [
       "array([[[6, 9, 9, 0, 9, 7],\n",
       "        [6, 9, 9, 3, 2, 9],\n",
       "        [6, 4, 6, 6, 6, 4],\n",
       "        [6, 6, 6, 4, 6, 5]],\n",
       "\n",
       "       [[1, 8, 8, 8, 8, 8],\n",
       "        [1, 8, 0, 8, 0, 8],\n",
       "        [1, 8, 1, 1, 9, 1],\n",
       "        [1, 1, 1, 1, 8, 1]],\n",
       "\n",
       "       [[5, 7, 7, 3, 4, 7],\n",
       "        [5, 7, 7, 2, 7, 2],\n",
       "        [5, 7, 4, 4, 4, 7],\n",
       "        [5, 7, 4, 6, 6, 6]],\n",
       "\n",
       "       ...,\n",
       "\n",
       "       [[7, 4, 4, 7, 5, 4],\n",
       "        [7, 7, 4, 7, 7, 7],\n",
       "        [7, 5, 4, 7, 7, 7],\n",
       "        [7, 7, 7, 7, 7, 7]],\n",
       "\n",
       "       [[8, 0, 2, 0, 3, 5],\n",
       "        [8, 0, 0, 0, 2, 3],\n",
       "        [8, 8, 8, 8, 8, 8],\n",
       "        [8, 0, 8, 8, 8, 8]],\n",
       "\n",
       "       [[1, 1, 0, 1, 6, 1],\n",
       "        [1, 1, 9, 1, 1, 1],\n",
       "        [1, 1, 1, 1, 9, 1],\n",
       "        [1, 1, 1, 1, 9, 1]]])"
      ]
     },
     "execution_count": 121,
     "metadata": {},
     "output_type": "execute_result"
    }
   ],
   "source": [
    "res"
   ]
  },
  {
   "cell_type": "code",
   "execution_count": 111,
   "metadata": {},
   "outputs": [
    {
     "data": {
      "text/plain": [
       "(128, 4, 6)"
      ]
     },
     "execution_count": 111,
     "metadata": {},
     "output_type": "execute_result"
    }
   ],
   "source": [
    "res.shape"
   ]
  },
  {
   "cell_type": "code",
   "execution_count": 76,
   "metadata": {},
   "outputs": [],
   "source": [
    "result, y_pred = deep_knn._get_closest_points(batch)"
   ]
  },
  {
   "cell_type": "code",
   "execution_count": 114,
   "metadata": {},
   "outputs": [
    {
     "data": {
      "text/plain": [
       "array([9, 7, 1, 2, 2, 4, 1, 9, 5, 3, 5, 6, 6, 8, 1, 2, 4, 8, 5, 6, 9, 5,\n",
       "       5, 4, 9, 4, 7, 2, 4, 3, 6, 9, 0, 0, 9, 4, 6, 9, 5, 5, 2, 5, 9, 5,\n",
       "       1, 7, 0, 4, 8, 9, 3, 8, 4, 6, 3, 2, 8, 5, 0, 2, 1, 9, 4, 2, 5, 4,\n",
       "       7, 8, 8, 9, 2, 3, 3, 5, 7, 4, 5, 2, 8, 2, 3, 7, 1, 8, 1, 7, 9, 7,\n",
       "       4, 9, 5, 2, 6, 1, 4, 5, 6, 1, 1, 0, 0, 8, 3, 3, 0, 2, 0, 5, 5, 9,\n",
       "       0, 0, 1, 1, 6, 9, 7, 5, 7, 3, 2, 4, 6, 3, 7, 5, 4, 1])"
      ]
     },
     "execution_count": 114,
     "metadata": {},
     "output_type": "execute_result"
    }
   ],
   "source": [
    "y"
   ]
  },
  {
   "cell_type": "code",
   "execution_count": 122,
   "metadata": {},
   "outputs": [
    {
     "data": {
      "text/plain": [
       "array([[[ True, False, False, False, False, False],\n",
       "        [ True, False, False, False, False, False],\n",
       "        [ True, False,  True,  True,  True, False],\n",
       "        [ True,  True,  True, False,  True, False]],\n",
       "\n",
       "       [[ True, False, False, False, False, False],\n",
       "        [ True, False, False, False, False, False],\n",
       "        [ True, False,  True,  True, False,  True],\n",
       "        [ True,  True,  True,  True, False,  True]],\n",
       "\n",
       "       [[ True, False, False, False, False, False],\n",
       "        [ True, False, False, False, False, False],\n",
       "        [ True, False, False, False, False, False],\n",
       "        [ True, False, False, False, False, False]],\n",
       "\n",
       "       ...,\n",
       "\n",
       "       [[ True, False, False,  True, False, False],\n",
       "        [ True,  True, False,  True,  True,  True],\n",
       "        [ True, False, False,  True,  True,  True],\n",
       "        [ True,  True,  True,  True,  True,  True]],\n",
       "\n",
       "       [[ True, False, False, False, False, False],\n",
       "        [ True, False, False, False, False, False],\n",
       "        [ True,  True,  True,  True,  True,  True],\n",
       "        [ True, False,  True,  True,  True,  True]],\n",
       "\n",
       "       [[ True,  True, False,  True, False,  True],\n",
       "        [ True,  True, False,  True,  True,  True],\n",
       "        [ True,  True,  True,  True, False,  True],\n",
       "        [ True,  True,  True,  True, False,  True]]])"
      ]
     },
     "execution_count": 122,
     "metadata": {},
     "output_type": "execute_result"
    }
   ],
   "source": [
    "res == y.reshape(y.shape[0], 1, 1)"
   ]
  },
  {
   "cell_type": "code",
   "execution_count": 78,
   "metadata": {},
   "outputs": [],
   "source": [
    "targets = deep_knn.train_targets[result]"
   ]
  },
  {
   "cell_type": "code",
   "execution_count": 80,
   "metadata": {},
   "outputs": [
    {
     "data": {
      "text/plain": [
       "(128,)"
      ]
     },
     "execution_count": 80,
     "metadata": {},
     "output_type": "execute_result"
    }
   ],
   "source": [
    "y.shape"
   ]
  },
  {
   "cell_type": "code",
   "execution_count": 81,
   "metadata": {},
   "outputs": [
    {
     "data": {
      "text/plain": [
       "(128, 4, 6)"
      ]
     },
     "execution_count": 81,
     "metadata": {},
     "output_type": "execute_result"
    }
   ],
   "source": [
    "targets.shape"
   ]
  },
  {
   "cell_type": "code",
   "execution_count": 84,
   "metadata": {},
   "outputs": [
    {
     "data": {
      "text/plain": [
       "array([[6, 3, 4, 3, 4, 3],\n",
       "       [6, 4, 4, 3, 3, 3],\n",
       "       [6, 5, 6, 6, 5, 6],\n",
       "       [6, 5, 6, 6, 6, 3]])"
      ]
     },
     "execution_count": 84,
     "metadata": {},
     "output_type": "execute_result"
    }
   ],
   "source": [
    "targets[0]"
   ]
  },
  {
   "cell_type": "code",
   "execution_count": 85,
   "metadata": {},
   "outputs": [
    {
     "data": {
      "text/plain": [
       "6"
      ]
     },
     "execution_count": 85,
     "metadata": {},
     "output_type": "execute_result"
    }
   ],
   "source": [
    "y[0]"
   ]
  },
  {
   "cell_type": "code",
   "execution_count": 87,
   "metadata": {},
   "outputs": [],
   "source": [
    "banana = (targets == y.reshape(y.shape[0], 1, 1))"
   ]
  },
  {
   "cell_type": "code",
   "execution_count": 101,
   "metadata": {},
   "outputs": [
    {
     "data": {
      "text/plain": [
       "(128,)"
      ]
     },
     "execution_count": 101,
     "metadata": {},
     "output_type": "execute_result"
    }
   ],
   "source": [
    "banana.reshape(128, -1).sum(axis = -1)"
   ]
  },
  {
   "cell_type": "code",
   "execution_count": 83,
   "metadata": {},
   "outputs": [
    {
     "data": {
      "text/plain": [
       "array([[[ 0, -3, -2, -3, -2, -3],\n",
       "        [ 0, -2, -2, -3, -3, -3],\n",
       "        [ 0, -1,  0,  0, -1,  0],\n",
       "        [ 0, -1,  0,  0,  0, -3]],\n",
       "\n",
       "       [[ 0, -8, -8, -7, -2, -7],\n",
       "        [ 0, -8, -7, -5, -7, -8],\n",
       "        [ 0, -7, -8, -6, -5, -5],\n",
       "        [ 0, -6,  0,  0, -6, -8]],\n",
       "\n",
       "       [[ 0,  2,  1,  7,  8,  8],\n",
       "        [ 0,  2,  1,  0,  8,  7],\n",
       "        [ 0,  0,  0,  0,  0,  0],\n",
       "        [ 0,  0,  0,  2,  0,  0]],\n",
       "\n",
       "       ...,\n",
       "\n",
       "       [[ 0,  0, -5,  0, -3, -6],\n",
       "        [ 0,  0, -5, -2, -4, -2],\n",
       "        [ 0,  0,  0, -6, -6, -1],\n",
       "        [ 0,  0, -2, -6, -2,  0]],\n",
       "\n",
       "       [[ 0, -6,  2, -4, -2, -4],\n",
       "        [ 0,  2, -2,  0, -6, -4],\n",
       "        [ 0,  0, -2, -4, -2, -2],\n",
       "        [ 0,  0, -4, -4, -2,  0]],\n",
       "\n",
       "       [[ 0, -4, -2, -2, -4,  3],\n",
       "        [ 0, -4, -2, -4, -2,  0],\n",
       "        [ 0, -2,  0,  0,  0,  0],\n",
       "        [ 0,  0,  0,  0, -4,  0]]])"
      ]
     },
     "execution_count": 83,
     "metadata": {},
     "output_type": "execute_result"
    }
   ],
   "source": [
    "targets - y.reshape(128, 1, 1)"
   ]
  },
  {
   "cell_type": "code",
   "execution_count": 69,
   "metadata": {},
   "outputs": [
    {
     "data": {
      "text/plain": [
       "array([[[9340, 6483, 5522, 3907, 4995, 2039],\n",
       "        [9340, 2039, 3616, 8357, 3907, 5573],\n",
       "        [9340, 9775, 2342, 3907, 1925, 4166],\n",
       "        [9340, 3907, 9775, 2342, 9890, 8357]],\n",
       "\n",
       "       [[2146, 6580, 8268, 5116, 7121,  577],\n",
       "        [2146, 5557, 3295, 6580, 1937, 4270],\n",
       "        [2146, 9423, 6985, 2587, 8268, 6464],\n",
       "        [2146, 2587, 9160, 8268, 9075, 4270]],\n",
       "\n",
       "       [[3805, 9785, 5416, 9511, 2733,  737],\n",
       "        [3805, 2733, 7049, 1892, 8341, 4434],\n",
       "        [3805, 7049, 4239, 5635, 5785, 2343],\n",
       "        [3805, 8538, 7788, 2788, 2411, 3882]],\n",
       "\n",
       "       ...,\n",
       "\n",
       "       [[4761, 6288, 7093, 2600, 9786, 6496],\n",
       "        [4761, 6288, 5117, 6496, 4568, 5183],\n",
       "        [4761, 5117, 6288, 5644, 5659, 6496],\n",
       "        [4761, 7093, 5183, 2324, 6288, 6521]],\n",
       "\n",
       "       [[4681, 7524, 7198, 1806, 3969, 2829],\n",
       "        [4681, 7524, 6213, 4164, 1581, 7198],\n",
       "        [4681, 7524, 9858, 6213, 1581, 4164],\n",
       "        [4681, 7524, 9095, 1581, 7198, 9858]],\n",
       "\n",
       "       [[1639, 1605, 8979, 8162, 9963,  420],\n",
       "        [1639, 1605, 1907, 9547, 8763,  281],\n",
       "        [1639, 1605, 2252, 9926, 8162, 2907],\n",
       "        [1639, 3079, 4012, 6169, 1605, 2252]]])"
      ]
     },
     "execution_count": 69,
     "metadata": {},
     "output_type": "execute_result"
    }
   ],
   "source": [
    "result"
   ]
  },
  {
   "cell_type": "code",
   "execution_count": 42,
   "metadata": {},
   "outputs": [],
   "source": [
    "a = result[0]"
   ]
  },
  {
   "cell_type": "code",
   "execution_count": 43,
   "metadata": {},
   "outputs": [
    {
     "data": {
      "text/plain": [
       "(128, 6)"
      ]
     },
     "execution_count": 43,
     "metadata": {},
     "output_type": "execute_result"
    }
   ],
   "source": [
    "a.shape"
   ]
  },
  {
   "cell_type": "code",
   "execution_count": 44,
   "metadata": {},
   "outputs": [
    {
     "data": {
      "text/plain": [
       "4"
      ]
     },
     "execution_count": 44,
     "metadata": {},
     "output_type": "execute_result"
    }
   ],
   "source": [
    "len(result)"
   ]
  },
  {
   "cell_type": "code",
   "execution_count": 52,
   "metadata": {},
   "outputs": [],
   "source": [
    "np.stack?"
   ]
  },
  {
   "cell_type": "code",
   "execution_count": 62,
   "metadata": {},
   "outputs": [
    {
     "data": {
      "text/plain": [
       "(128, 4, 6)"
      ]
     },
     "execution_count": 62,
     "metadata": {},
     "output_type": "execute_result"
    }
   ],
   "source": [
    "b = np.stack(result, axis = 1)\n",
    "b.shape"
   ]
  },
  {
   "cell_type": "code",
   "execution_count": 57,
   "metadata": {},
   "outputs": [],
   "source": [
    "targets = y.numpy()"
   ]
  },
  {
   "cell_type": "code",
   "execution_count": 59,
   "metadata": {},
   "outputs": [
    {
     "data": {
      "text/plain": [
       "(128,)"
      ]
     },
     "execution_count": 59,
     "metadata": {},
     "output_type": "execute_result"
    }
   ],
   "source": [
    "targets.shape"
   ]
  },
  {
   "cell_type": "code",
   "execution_count": 61,
   "metadata": {},
   "outputs": [
    {
     "data": {
      "text/plain": [
       "(128, 4, 6)"
      ]
     },
     "execution_count": 61,
     "metadata": {},
     "output_type": "execute_result"
    }
   ],
   "source": [
    "np.transpose(b, (1, 0, 2)).shape"
   ]
  },
  {
   "cell_type": "code",
   "execution_count": 40,
   "metadata": {},
   "outputs": [
    {
     "data": {
      "text/plain": [
       "array([[1, 9, 1, 1, 1, 1],\n",
       "       [5, 8, 9, 8, 0, 3],\n",
       "       [4, 4, 3, 4, 4, 3],\n",
       "       [3, 0, 0, 0, 0, 2],\n",
       "       [6, 3, 3, 5, 4, 3],\n",
       "       [3, 4, 3, 3, 2, 2],\n",
       "       [6, 7, 6, 5, 1, 5],\n",
       "       [2, 2, 8, 8, 8, 9],\n",
       "       [9, 8, 8, 8, 3, 8],\n",
       "       [6, 3, 4, 4, 7, 4],\n",
       "       [7, 2, 5, 4, 7, 2],\n",
       "       [4, 4, 0, 3, 6, 3],\n",
       "       [2, 2, 3, 6, 6, 9],\n",
       "       [3, 5, 5, 5, 3, 3],\n",
       "       [6, 6, 6, 3, 3, 4],\n",
       "       [1, 2, 0, 7, 9, 0],\n",
       "       [2, 0, 8, 0, 8, 0],\n",
       "       [7, 7, 7, 4, 7, 6],\n",
       "       [2, 4, 3, 3, 4, 4],\n",
       "       [8, 8, 8, 8, 0, 8],\n",
       "       [6, 6, 6, 4, 6, 6],\n",
       "       [6, 4, 5, 8, 4, 9],\n",
       "       [8, 8, 0, 8, 0, 0],\n",
       "       [2, 2, 0, 0, 0, 0],\n",
       "       [0, 4, 7, 4, 3, 0],\n",
       "       [2, 2, 2, 2, 4, 2],\n",
       "       [9, 8, 0, 0, 9, 8],\n",
       "       [4, 7, 2, 4, 2, 5],\n",
       "       [0, 8, 8, 9, 4, 8],\n",
       "       [2, 0, 2, 0, 2, 2],\n",
       "       [0, 0, 3, 0, 2, 0],\n",
       "       [6, 6, 5, 6, 6, 3],\n",
       "       [0, 0, 0, 0, 2, 0],\n",
       "       [2, 2, 4, 2, 4, 0],\n",
       "       [2, 0, 2, 3, 0, 0],\n",
       "       [8, 8, 0, 0, 8, 8],\n",
       "       [6, 4, 9, 1, 0, 3],\n",
       "       [2, 5, 8, 6, 3, 3],\n",
       "       [1, 2, 4, 3, 0, 4],\n",
       "       [4, 4, 5, 6, 6, 4],\n",
       "       [9, 8, 3, 5, 0, 4],\n",
       "       [0, 0, 0, 0, 0, 0],\n",
       "       [1, 1, 1, 0, 1, 0],\n",
       "       [3, 7, 0, 4, 3, 0],\n",
       "       [7, 7, 7, 9, 0, 7],\n",
       "       [1, 9, 8, 8, 1, 1],\n",
       "       [9, 9, 8, 9, 8, 8],\n",
       "       [3, 5, 7, 9, 0, 3],\n",
       "       [2, 2, 5, 2, 0, 0],\n",
       "       [1, 1, 1, 8, 9, 9],\n",
       "       [1, 1, 6, 9, 0, 5],\n",
       "       [9, 4, 7, 0, 4, 0],\n",
       "       [0, 0, 0, 0, 0, 8],\n",
       "       [5, 3, 5, 0, 2, 4],\n",
       "       [2, 3, 3, 2, 4, 5],\n",
       "       [0, 8, 0, 8, 1, 8],\n",
       "       [0, 8, 8, 2, 0, 8],\n",
       "       [0, 1, 8, 8, 8, 9],\n",
       "       [2, 7, 8, 0, 8, 4],\n",
       "       [9, 0, 0, 8, 8, 8],\n",
       "       [2, 8, 4, 0, 8, 2],\n",
       "       [0, 8, 0, 8, 0, 8],\n",
       "       [2, 5, 2, 2, 6, 0],\n",
       "       [9, 6, 3, 3, 9, 5],\n",
       "       [1, 5, 2, 1, 2, 2],\n",
       "       [3, 6, 2, 3, 1, 4],\n",
       "       [0, 0, 0, 2, 3, 0],\n",
       "       [6, 8, 8, 8, 9, 8],\n",
       "       [4, 4, 3, 3, 4, 2],\n",
       "       [4, 0, 2, 0, 0, 0],\n",
       "       [8, 4, 3, 5, 8, 0],\n",
       "       [8, 9, 8, 8, 4, 8],\n",
       "       [7, 4, 6, 2, 2, 3],\n",
       "       [3, 5, 3, 7, 3, 3],\n",
       "       [7, 4, 6, 7, 7, 0],\n",
       "       [4, 3, 5, 4, 5, 5],\n",
       "       [2, 8, 4, 4, 2, 7],\n",
       "       [4, 4, 0, 0, 8, 0],\n",
       "       [2, 2, 2, 9, 5, 4],\n",
       "       [8, 9, 9, 1, 1, 1],\n",
       "       [4, 4, 8, 1, 8, 1],\n",
       "       [1, 1, 8, 3, 4, 6],\n",
       "       [7, 2, 3, 5, 7, 4],\n",
       "       [8, 8, 8, 8, 6, 8],\n",
       "       [3, 3, 5, 3, 3, 0],\n",
       "       [2, 2, 2, 5, 2, 2],\n",
       "       [0, 2, 2, 2, 6, 0],\n",
       "       [6, 3, 1, 3, 1, 2],\n",
       "       [5, 0, 4, 3, 5, 0],\n",
       "       [7, 0, 6, 0, 8, 6],\n",
       "       [7, 2, 5, 1, 1, 8],\n",
       "       [2, 3, 6, 3, 3, 4],\n",
       "       [4, 4, 4, 8, 3, 5],\n",
       "       [4, 7, 4, 8, 2, 2],\n",
       "       [4, 0, 8, 0, 6, 8],\n",
       "       [9, 8, 9, 2, 9, 1],\n",
       "       [2, 0, 0, 0, 2, 3],\n",
       "       [9, 5, 4, 3, 4, 1],\n",
       "       [0, 0, 3, 0, 2, 0],\n",
       "       [8, 8, 8, 8, 8, 8],\n",
       "       [0, 8, 0, 8, 0, 0],\n",
       "       [5, 5, 2, 4, 6, 2],\n",
       "       [7, 7, 7, 7, 7, 7],\n",
       "       [5, 5, 3, 3, 5, 5],\n",
       "       [0, 0, 0, 0, 8, 0],\n",
       "       [7, 8, 8, 2, 2, 2],\n",
       "       [0, 0, 3, 3, 4, 8],\n",
       "       [9, 4, 2, 5, 1, 5],\n",
       "       [5, 3, 0, 5, 0, 3],\n",
       "       [8, 8, 0, 0, 8, 8],\n",
       "       [7, 9, 9, 1, 1, 7],\n",
       "       [0, 0, 0, 0, 2, 0],\n",
       "       [7, 7, 7, 4, 7, 4],\n",
       "       [8, 8, 8, 0, 0, 8],\n",
       "       [2, 3, 4, 4, 5, 5],\n",
       "       [0, 0, 2, 0, 0, 0],\n",
       "       [3, 8, 5, 3, 5, 3],\n",
       "       [1, 8, 8, 1, 8, 4],\n",
       "       [1, 1, 1, 1, 4, 1],\n",
       "       [6, 8, 6, 6, 3, 6],\n",
       "       [5, 5, 9, 7, 7, 9],\n",
       "       [5, 5, 2, 3, 4, 3],\n",
       "       [7, 4, 2, 9, 0, 4],\n",
       "       [2, 4, 4, 4, 6, 2],\n",
       "       [9, 0, 0, 8, 7, 0],\n",
       "       [8, 0, 8, 0, 0, 8],\n",
       "       [1, 0, 3, 9, 0, 8],\n",
       "       [9, 2, 6, 4, 2, 3]])"
      ]
     },
     "execution_count": 40,
     "metadata": {},
     "output_type": "execute_result"
    }
   ],
   "source": [
    "deep_knn.train_targets[result[0]]"
   ]
  },
  {
   "cell_type": "code",
   "execution_count": 38,
   "metadata": {},
   "outputs": [
    {
     "data": {
      "text/plain": [
       "(128, 6)"
      ]
     },
     "execution_count": 38,
     "metadata": {},
     "output_type": "execute_result"
    }
   ],
   "source": [
    "result[1].shape"
   ]
  },
  {
   "cell_type": "code",
   "execution_count": 39,
   "metadata": {},
   "outputs": [
    {
     "data": {
      "text/plain": [
       "4"
      ]
     },
     "execution_count": 39,
     "metadata": {},
     "output_type": "execute_result"
    }
   ],
   "source": [
    "len(result)"
   ]
  },
  {
   "cell_type": "code",
   "execution_count": 22,
   "metadata": {},
   "outputs": [],
   "source": [
    "# deep_knn._alpha(*test_dataset[1])"
   ]
  },
  {
   "cell_type": "code",
   "execution_count": 23,
   "metadata": {},
   "outputs": [
    {
     "ename": "RuntimeError",
     "evalue": "Expected 4-dimensional input for 4-dimensional weight [16, 3, 3, 3], but got 3-dimensional input of size [3, 32, 32] instead",
     "output_type": "error",
     "traceback": [
      "\u001b[0;31m---------------------------------------------------------------------------\u001b[0m",
      "\u001b[0;31mRuntimeError\u001b[0m                              Traceback (most recent call last)",
      "\u001b[0;32m<ipython-input-23-cb38f7627051>\u001b[0m in \u001b[0;36m<module>\u001b[0;34m\u001b[0m\n\u001b[0;32m----> 1\u001b[0;31m \u001b[0mdeep_knn\u001b[0m\u001b[0;34m.\u001b[0m\u001b[0mpredict_interpretation\u001b[0m\u001b[0;34m(\u001b[0m\u001b[0;34m*\u001b[0m\u001b[0mtest_dataset\u001b[0m\u001b[0;34m[\u001b[0m\u001b[0;36m1\u001b[0m\u001b[0;34m]\u001b[0m\u001b[0;34m)\u001b[0m\u001b[0;34m\u001b[0m\u001b[0;34m\u001b[0m\u001b[0m\n\u001b[0m",
      "\u001b[0;32m<ipython-input-17-4a37603eb9e9>\u001b[0m in \u001b[0;36mpredict_interpretation\u001b[0;34m(self, X, y)\u001b[0m\n\u001b[1;32m     95\u001b[0m         \u001b[0max_big\u001b[0m\u001b[0;34m.\u001b[0m\u001b[0mimshow\u001b[0m\u001b[0;34m(\u001b[0m\u001b[0mimg_data\u001b[0m\u001b[0;34m(\u001b[0m\u001b[0mX\u001b[0m\u001b[0;34m)\u001b[0m\u001b[0;34m)\u001b[0m\u001b[0;34m\u001b[0m\u001b[0;34m\u001b[0m\u001b[0m\n\u001b[1;32m     96\u001b[0m         \u001b[0max_big\u001b[0m\u001b[0;34m.\u001b[0m\u001b[0maxis\u001b[0m\u001b[0;34m(\u001b[0m\u001b[0;34m'off'\u001b[0m\u001b[0;34m)\u001b[0m\u001b[0;34m\u001b[0m\u001b[0;34m\u001b[0m\u001b[0m\n\u001b[0;32m---> 97\u001b[0;31m         \u001b[0mneighbors_by_layer\u001b[0m\u001b[0;34m,\u001b[0m \u001b[0my_pred\u001b[0m \u001b[0;34m=\u001b[0m \u001b[0mself\u001b[0m\u001b[0;34m.\u001b[0m\u001b[0m_get_closest_points\u001b[0m\u001b[0;34m(\u001b[0m\u001b[0mX\u001b[0m\u001b[0;34m)\u001b[0m\u001b[0;34m\u001b[0m\u001b[0;34m\u001b[0m\u001b[0m\n\u001b[0m\u001b[1;32m     98\u001b[0m         \u001b[0;32mfor\u001b[0m \u001b[0max_line\u001b[0m\u001b[0;34m,\u001b[0m \u001b[0mclosest_layer\u001b[0m \u001b[0;32min\u001b[0m \u001b[0mzip\u001b[0m\u001b[0;34m(\u001b[0m\u001b[0max_grid\u001b[0m\u001b[0;34m,\u001b[0m \u001b[0mneighbors_by_layer\u001b[0m\u001b[0;34m)\u001b[0m\u001b[0;34m:\u001b[0m\u001b[0;34m\u001b[0m\u001b[0;34m\u001b[0m\u001b[0m\n\u001b[1;32m     99\u001b[0m             \u001b[0;32mfor\u001b[0m \u001b[0max_cell\u001b[0m\u001b[0;34m,\u001b[0m \u001b[0mtrain_ex_id\u001b[0m \u001b[0;32min\u001b[0m \u001b[0mzip\u001b[0m\u001b[0;34m(\u001b[0m\u001b[0max_line\u001b[0m\u001b[0;34m,\u001b[0m \u001b[0mclosest_layer\u001b[0m\u001b[0;34m)\u001b[0m\u001b[0;34m:\u001b[0m\u001b[0;34m\u001b[0m\u001b[0;34m\u001b[0m\u001b[0m\n",
      "\u001b[0;32m<ipython-input-17-4a37603eb9e9>\u001b[0m in \u001b[0;36m_get_closest_points\u001b[0;34m(self, X)\u001b[0m\n\u001b[1;32m     68\u001b[0m \u001b[0;34m\u001b[0m\u001b[0m\n\u001b[1;32m     69\u001b[0m     \u001b[0;32mdef\u001b[0m \u001b[0m_get_closest_points\u001b[0m\u001b[0;34m(\u001b[0m\u001b[0mself\u001b[0m\u001b[0;34m,\u001b[0m \u001b[0mX\u001b[0m\u001b[0;34m)\u001b[0m\u001b[0;34m:\u001b[0m\u001b[0;34m\u001b[0m\u001b[0;34m\u001b[0m\u001b[0m\n\u001b[0;32m---> 70\u001b[0;31m         \u001b[0;34m*\u001b[0m\u001b[0mout_convs\u001b[0m\u001b[0;34m,\u001b[0m \u001b[0my_pred\u001b[0m \u001b[0;34m=\u001b[0m \u001b[0mself\u001b[0m\u001b[0;34m.\u001b[0m\u001b[0mmodel\u001b[0m\u001b[0;34m(\u001b[0m\u001b[0mX\u001b[0m\u001b[0;34m.\u001b[0m\u001b[0mto\u001b[0m\u001b[0;34m(\u001b[0m\u001b[0mdevice\u001b[0m\u001b[0;34m)\u001b[0m\u001b[0;34m)\u001b[0m\u001b[0;34m\u001b[0m\u001b[0;34m\u001b[0m\u001b[0m\n\u001b[0m\u001b[1;32m     71\u001b[0m         \u001b[0mneighbors_by_layer\u001b[0m \u001b[0;34m=\u001b[0m \u001b[0;34m[\u001b[0m\u001b[0;34m]\u001b[0m\u001b[0;34m\u001b[0m\u001b[0;34m\u001b[0m\u001b[0m\n\u001b[1;32m     72\u001b[0m         \u001b[0;32mfor\u001b[0m \u001b[0mi\u001b[0m\u001b[0;34m,\u001b[0m \u001b[0;34m(\u001b[0m\u001b[0mneigh\u001b[0m\u001b[0;34m,\u001b[0m \u001b[0mlayer_emb\u001b[0m\u001b[0;34m)\u001b[0m \u001b[0;32min\u001b[0m \u001b[0menumerate\u001b[0m\u001b[0;34m(\u001b[0m\u001b[0mzip\u001b[0m\u001b[0;34m(\u001b[0m\u001b[0mself\u001b[0m\u001b[0;34m.\u001b[0m\u001b[0mneighs\u001b[0m\u001b[0;34m,\u001b[0m \u001b[0mout_convs\u001b[0m\u001b[0;34m)\u001b[0m\u001b[0;34m)\u001b[0m\u001b[0;34m:\u001b[0m\u001b[0;34m\u001b[0m\u001b[0;34m\u001b[0m\u001b[0m\n",
      "\u001b[0;32m~/anaconda3/envs/pytorch_1.0/lib/python3.7/site-packages/torch/nn/modules/module.py\u001b[0m in \u001b[0;36m__call__\u001b[0;34m(self, *input, **kwargs)\u001b[0m\n\u001b[1;32m    487\u001b[0m             \u001b[0mresult\u001b[0m \u001b[0;34m=\u001b[0m \u001b[0mself\u001b[0m\u001b[0;34m.\u001b[0m\u001b[0m_slow_forward\u001b[0m\u001b[0;34m(\u001b[0m\u001b[0;34m*\u001b[0m\u001b[0minput\u001b[0m\u001b[0;34m,\u001b[0m \u001b[0;34m**\u001b[0m\u001b[0mkwargs\u001b[0m\u001b[0;34m)\u001b[0m\u001b[0;34m\u001b[0m\u001b[0;34m\u001b[0m\u001b[0m\n\u001b[1;32m    488\u001b[0m         \u001b[0;32melse\u001b[0m\u001b[0;34m:\u001b[0m\u001b[0;34m\u001b[0m\u001b[0;34m\u001b[0m\u001b[0m\n\u001b[0;32m--> 489\u001b[0;31m             \u001b[0mresult\u001b[0m \u001b[0;34m=\u001b[0m \u001b[0mself\u001b[0m\u001b[0;34m.\u001b[0m\u001b[0mforward\u001b[0m\u001b[0;34m(\u001b[0m\u001b[0;34m*\u001b[0m\u001b[0minput\u001b[0m\u001b[0;34m,\u001b[0m \u001b[0;34m**\u001b[0m\u001b[0mkwargs\u001b[0m\u001b[0;34m)\u001b[0m\u001b[0;34m\u001b[0m\u001b[0;34m\u001b[0m\u001b[0m\n\u001b[0m\u001b[1;32m    490\u001b[0m         \u001b[0;32mfor\u001b[0m \u001b[0mhook\u001b[0m \u001b[0;32min\u001b[0m \u001b[0mself\u001b[0m\u001b[0;34m.\u001b[0m\u001b[0m_forward_hooks\u001b[0m\u001b[0;34m.\u001b[0m\u001b[0mvalues\u001b[0m\u001b[0;34m(\u001b[0m\u001b[0;34m)\u001b[0m\u001b[0;34m:\u001b[0m\u001b[0;34m\u001b[0m\u001b[0;34m\u001b[0m\u001b[0m\n\u001b[1;32m    491\u001b[0m             \u001b[0mhook_result\u001b[0m \u001b[0;34m=\u001b[0m \u001b[0mhook\u001b[0m\u001b[0;34m(\u001b[0m\u001b[0mself\u001b[0m\u001b[0;34m,\u001b[0m \u001b[0minput\u001b[0m\u001b[0;34m,\u001b[0m \u001b[0mresult\u001b[0m\u001b[0;34m)\u001b[0m\u001b[0;34m\u001b[0m\u001b[0;34m\u001b[0m\u001b[0m\n",
      "\u001b[0;32m<ipython-input-11-a9a55b5f52c6>\u001b[0m in \u001b[0;36mforward\u001b[0;34m(self, x)\u001b[0m\n\u001b[1;32m     10\u001b[0m \u001b[0;34m\u001b[0m\u001b[0m\n\u001b[1;32m     11\u001b[0m     \u001b[0;32mdef\u001b[0m \u001b[0mforward\u001b[0m\u001b[0;34m(\u001b[0m\u001b[0mself\u001b[0m\u001b[0;34m,\u001b[0m \u001b[0mx\u001b[0m\u001b[0;34m)\u001b[0m\u001b[0;34m:\u001b[0m\u001b[0;34m\u001b[0m\u001b[0;34m\u001b[0m\u001b[0m\n\u001b[0;32m---> 12\u001b[0;31m         \u001b[0mout_conv1\u001b[0m \u001b[0;34m=\u001b[0m \u001b[0mF\u001b[0m\u001b[0;34m.\u001b[0m\u001b[0mdropout\u001b[0m\u001b[0;34m(\u001b[0m\u001b[0mF\u001b[0m\u001b[0;34m.\u001b[0m\u001b[0mrelu\u001b[0m\u001b[0;34m(\u001b[0m\u001b[0mself\u001b[0m\u001b[0;34m.\u001b[0m\u001b[0mconv1\u001b[0m\u001b[0;34m(\u001b[0m\u001b[0mx\u001b[0m\u001b[0;34m)\u001b[0m\u001b[0;34m)\u001b[0m\u001b[0;34m,\u001b[0m \u001b[0;36m0.2\u001b[0m\u001b[0;34m,\u001b[0m \u001b[0mtraining\u001b[0m \u001b[0;34m=\u001b[0m \u001b[0mself\u001b[0m\u001b[0;34m.\u001b[0m\u001b[0mtraining\u001b[0m\u001b[0;34m)\u001b[0m\u001b[0;34m\u001b[0m\u001b[0;34m\u001b[0m\u001b[0m\n\u001b[0m\u001b[1;32m     13\u001b[0m         \u001b[0mout_conv2\u001b[0m \u001b[0;34m=\u001b[0m \u001b[0mF\u001b[0m\u001b[0;34m.\u001b[0m\u001b[0mdropout\u001b[0m\u001b[0;34m(\u001b[0m\u001b[0mF\u001b[0m\u001b[0;34m.\u001b[0m\u001b[0mrelu\u001b[0m\u001b[0;34m(\u001b[0m\u001b[0mself\u001b[0m\u001b[0;34m.\u001b[0m\u001b[0mconv2\u001b[0m\u001b[0;34m(\u001b[0m\u001b[0mout_conv1\u001b[0m\u001b[0;34m)\u001b[0m\u001b[0;34m)\u001b[0m\u001b[0;34m,\u001b[0m \u001b[0;36m0.2\u001b[0m\u001b[0;34m,\u001b[0m \u001b[0mtraining\u001b[0m \u001b[0;34m=\u001b[0m \u001b[0mself\u001b[0m\u001b[0;34m.\u001b[0m\u001b[0mtraining\u001b[0m\u001b[0;34m)\u001b[0m\u001b[0;34m\u001b[0m\u001b[0;34m\u001b[0m\u001b[0m\n\u001b[1;32m     14\u001b[0m         \u001b[0mout_pool1\u001b[0m \u001b[0;34m=\u001b[0m \u001b[0mF\u001b[0m\u001b[0;34m.\u001b[0m\u001b[0mmax_pool2d\u001b[0m\u001b[0;34m(\u001b[0m\u001b[0mout_conv2\u001b[0m\u001b[0;34m,\u001b[0m \u001b[0mkernel_size\u001b[0m \u001b[0;34m=\u001b[0m \u001b[0;34m(\u001b[0m\u001b[0;36m2\u001b[0m\u001b[0;34m,\u001b[0m \u001b[0;36m2\u001b[0m\u001b[0;34m)\u001b[0m\u001b[0;34m)\u001b[0m\u001b[0;34m\u001b[0m\u001b[0;34m\u001b[0m\u001b[0m\n",
      "\u001b[0;32m~/anaconda3/envs/pytorch_1.0/lib/python3.7/site-packages/torch/nn/modules/module.py\u001b[0m in \u001b[0;36m__call__\u001b[0;34m(self, *input, **kwargs)\u001b[0m\n\u001b[1;32m    487\u001b[0m             \u001b[0mresult\u001b[0m \u001b[0;34m=\u001b[0m \u001b[0mself\u001b[0m\u001b[0;34m.\u001b[0m\u001b[0m_slow_forward\u001b[0m\u001b[0;34m(\u001b[0m\u001b[0;34m*\u001b[0m\u001b[0minput\u001b[0m\u001b[0;34m,\u001b[0m \u001b[0;34m**\u001b[0m\u001b[0mkwargs\u001b[0m\u001b[0;34m)\u001b[0m\u001b[0;34m\u001b[0m\u001b[0;34m\u001b[0m\u001b[0m\n\u001b[1;32m    488\u001b[0m         \u001b[0;32melse\u001b[0m\u001b[0;34m:\u001b[0m\u001b[0;34m\u001b[0m\u001b[0;34m\u001b[0m\u001b[0m\n\u001b[0;32m--> 489\u001b[0;31m             \u001b[0mresult\u001b[0m \u001b[0;34m=\u001b[0m \u001b[0mself\u001b[0m\u001b[0;34m.\u001b[0m\u001b[0mforward\u001b[0m\u001b[0;34m(\u001b[0m\u001b[0;34m*\u001b[0m\u001b[0minput\u001b[0m\u001b[0;34m,\u001b[0m \u001b[0;34m**\u001b[0m\u001b[0mkwargs\u001b[0m\u001b[0;34m)\u001b[0m\u001b[0;34m\u001b[0m\u001b[0;34m\u001b[0m\u001b[0m\n\u001b[0m\u001b[1;32m    490\u001b[0m         \u001b[0;32mfor\u001b[0m \u001b[0mhook\u001b[0m \u001b[0;32min\u001b[0m \u001b[0mself\u001b[0m\u001b[0;34m.\u001b[0m\u001b[0m_forward_hooks\u001b[0m\u001b[0;34m.\u001b[0m\u001b[0mvalues\u001b[0m\u001b[0;34m(\u001b[0m\u001b[0;34m)\u001b[0m\u001b[0;34m:\u001b[0m\u001b[0;34m\u001b[0m\u001b[0;34m\u001b[0m\u001b[0m\n\u001b[1;32m    491\u001b[0m             \u001b[0mhook_result\u001b[0m \u001b[0;34m=\u001b[0m \u001b[0mhook\u001b[0m\u001b[0;34m(\u001b[0m\u001b[0mself\u001b[0m\u001b[0;34m,\u001b[0m \u001b[0minput\u001b[0m\u001b[0;34m,\u001b[0m \u001b[0mresult\u001b[0m\u001b[0;34m)\u001b[0m\u001b[0;34m\u001b[0m\u001b[0;34m\u001b[0m\u001b[0m\n",
      "\u001b[0;32m~/anaconda3/envs/pytorch_1.0/lib/python3.7/site-packages/torch/nn/modules/conv.py\u001b[0m in \u001b[0;36mforward\u001b[0;34m(self, input)\u001b[0m\n\u001b[1;32m    318\u001b[0m     \u001b[0;32mdef\u001b[0m \u001b[0mforward\u001b[0m\u001b[0;34m(\u001b[0m\u001b[0mself\u001b[0m\u001b[0;34m,\u001b[0m \u001b[0minput\u001b[0m\u001b[0;34m)\u001b[0m\u001b[0;34m:\u001b[0m\u001b[0;34m\u001b[0m\u001b[0;34m\u001b[0m\u001b[0m\n\u001b[1;32m    319\u001b[0m         return F.conv2d(input, self.weight, self.bias, self.stride,\n\u001b[0;32m--> 320\u001b[0;31m                         self.padding, self.dilation, self.groups)\n\u001b[0m\u001b[1;32m    321\u001b[0m \u001b[0;34m\u001b[0m\u001b[0m\n\u001b[1;32m    322\u001b[0m \u001b[0;34m\u001b[0m\u001b[0m\n",
      "\u001b[0;31mRuntimeError\u001b[0m: Expected 4-dimensional input for 4-dimensional weight [16, 3, 3, 3], but got 3-dimensional input of size [3, 32, 32] instead"
     ]
    },
    {
     "data": {
      "image/png": "[encoded data removed]",
      "text/plain": [
       "<Figure size 864x432 with 25 Axes>"
      ]
     },
     "metadata": {
      "needs_background": "light"
     },
     "output_type": "display_data"
    }
   ],
   "source": [
    "deep_knn.predict_interpretation(*test_dataset[1])"
   ]
  },
  {
   "cell_type": "markdown",
   "metadata": {},
   "source": [
    "# Adversarial examples"
   ]
  },
  {
   "cell_type": "code",
   "execution_count": null,
   "metadata": {},
   "outputs": [],
   "source": [
    "def generate_adv_example(model, epsilon, criterion, X):\n",
    "    X.requires_grad = True\n",
    "    *_, y_pred      = model(X)\n",
    "    loss            = criterion(y_pred, y_pred.argmax(dim = 1))\n",
    "    loss.backward()\n",
    "    adv_example     = X + epsilon * X.grad.sign()\n",
    "    \n",
    "    # Clamping the result to [0, 1] in each channel.\n",
    "    # I don't think that there exist a multidimensional clamp function.\n",
    "    for channel, norm_func in enumerate([normalize_red, normalize_green, normalize_blue]):\n",
    "        adv_example[:, channel, ...].clamp_(norm_func(0), norm_func(1))\n",
    "    \n",
    "    return adv_example"
   ]
  },
  {
   "cell_type": "code",
   "execution_count": null,
   "metadata": {},
   "outputs": [],
   "source": [
    "def adv_sample_process(model, epsilon, X, y):\n",
    "    source       = X.unsqueeze(0).to(device)\n",
    "    *_, y_pred   = model(source)\n",
    "    adv_example  = generate_adv_example(model, epsilon, criterion, source)\n",
    "    *_, adv_pred = cnn(adv_example)\n",
    "    for i in range(10):\n",
    "        print(f'Class {i}: {y_pred[0, i]:6.4f} \\t->\\t {adv_pred[0, i]:^6.4f}')\n",
    "    plt.figure(figsize = (15, 10))\n",
    "    plt.subplot(1, 2, 1)\n",
    "    display_img(source)\n",
    "    plt.subplot(1, 2, 2)\n",
    "    display_img(adv_example)\n",
    "    print(f'Real label: {cifar_cats[y]}')\n",
    "    print(f'Predicted label: {cifar_cats[adv_pred[0].argmax().item()]}')"
   ]
  },
  {
   "cell_type": "code",
   "execution_count": null,
   "metadata": {},
   "outputs": [],
   "source": [
    "ex_id = 5\n",
    "X, y = test_dataset[ex_id]\n",
    "adv_sample_process(cnn, 0.15, X, y)"
   ]
  },
  {
   "cell_type": "markdown",
   "metadata": {},
   "source": [
    "# Nearest neighbors experiments"
   ]
  },
  {
   "cell_type": "code",
   "execution_count": null,
   "metadata": {},
   "outputs": [],
   "source": [
    "# neighs = [NearestNeighbors(n_neighbors = 5, metric = 'cosine').fit(feats) for feats in conv_features]"
   ]
  },
  {
   "cell_type": "code",
   "execution_count": null,
   "metadata": {},
   "outputs": [],
   "source": [
    "# def display_knn_interpretation(model, X, y, train_data, neighs):\n",
    "#     img_data = lambda img: reverse_normalize(img.to(device).squeeze().permute(1,2,0)).data.cpu().numpy().clip(0, 1)\n",
    "#     plt.figure(figsize = (12, 6))\n",
    "#     gs       = gridspec.GridSpec(4, 8)\n",
    "#     ax_big   = plt.subplot(gs[:, :-4])\n",
    "#     ax_grid  = [[plt.subplot(gs[i, j]) for j in range(4, 8)] for i in range(4)]\n",
    "#     ax_big.imshow(img_data(X))\n",
    "#     ax_big.axis('off')\n",
    "#     *out_convs, y_pred = model(X.unsqueeze(0).to(device))\n",
    "#     for i, (neigh, layer_emb) in enumerate(zip(neighs, out_convs)):\n",
    "#         emb = layer_emb.detach().cpu().view(1, -1).numpy()\n",
    "#         neighbors = neigh.kneighbors(emb, return_distance = False) \n",
    "#         for j, neighbor_id in enumerate(neighbors[0, 1:]):\n",
    "#             ax_grid[i][j].imshow(img_data(train_data[neighbor_id][0]))\n",
    "#             ax_grid[i][j].axis('off')\n",
    "#     print(f'Real class: {cifar_cats[y]}')\n",
    "#     print(f'Predicted class: {cifar_cats[y_pred.argmax(dim = 1).cpu().item()]}')"
   ]
  },
  {
   "cell_type": "code",
   "execution_count": null,
   "metadata": {},
   "outputs": [],
   "source": [
    "# example_id = 5"
   ]
  },
  {
   "cell_type": "code",
   "execution_count": null,
   "metadata": {},
   "outputs": [],
   "source": [
    "# display_knn_interpretation(cnn, *test_dataset[example_id], train_dataset, neighs)"
   ]
  },
  {
   "cell_type": "code",
   "execution_count": null,
   "metadata": {},
   "outputs": [],
   "source": [
    "# img, target = test_dataset[example_id]\n",
    "# adv_img = generate_adv_example(cnn, 0.15, criterion, img.unsqueeze(0).to(device))\n",
    "# display_knn_interpretation(cnn, adv_img[0], target, train_dataset, neighs)"
   ]
  }
 ],
 "metadata": {
  "kernelspec": {
   "display_name": "Python 3",
   "language": "python",
   "name": "python3"
  },
  "language_info": {
   "codemirror_mode": {
    "name": "ipython",
    "version": 3
   },
   "file_extension": ".py",
   "mimetype": "text/x-python",
   "name": "python",
   "nbconvert_exporter": "python",
   "pygments_lexer": "ipython3",
   "version": "3.7.1"
  }
 },
 "nbformat": 4,
 "nbformat_minor": 2
}
