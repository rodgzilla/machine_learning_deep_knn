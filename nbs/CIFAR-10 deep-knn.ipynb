{
 "cells": [
  {
   "cell_type": "code",
   "execution_count": 1,
   "metadata": {},
   "outputs": [],
   "source": [
    "from collections import Counter\n",
    "\n",
    "import matplotlib.pyplot   as plt\n",
    "import matplotlib.gridspec as gridspec\n",
    "from tqdm import tqdm, tqdm_notebook\n",
    "\n",
    "import numpy as np\n",
    "\n",
    "from sklearn.metrics.pairwise import cosine_distances\n",
    "from sklearn.neighbors        import NearestNeighbors\n",
    "\n",
    "import torch\n",
    "import torch.nn            as nn\n",
    "import torch.nn.functional as F\n",
    "import torch.optim         as optim\n",
    "from torch.utils.data.dataset import random_split\n",
    "from torchvision              import datasets \n",
    "from torchvision              import transforms"
   ]
  },
  {
   "cell_type": "markdown",
   "metadata": {},
   "source": [
    "# General settings and normalization tools"
   ]
  },
  {
   "cell_type": "code",
   "execution_count": 2,
   "metadata": {},
   "outputs": [],
   "source": [
    "do_train          = True\n",
    "do_eval           = True\n",
    "calib_prop        = 0.1\n",
    "model_path        = '../models/CIFAR_CNN.pt'\n",
    "batch_size        = 128\n",
    "device            = torch.device('cuda')\n",
    "means             = torch.tensor((0.4914, 0.4822, 0.4465)).to(device)\n",
    "stds              = torch.tensor((0.2023, 0.1994, 0.2010)).to(device)\n",
    "normalize         = lambda x: (x - means) / stds\n",
    "normalize_red     = lambda x: (x - means[0]) / stds[0]\n",
    "normalize_green   = lambda x: (x - means[1]) / stds[1]\n",
    "normalize_blue    = lambda x: (x - means[2]) / stds[2]\n",
    "reverse_normalize = lambda x: (x * stds) + means"
   ]
  },
  {
   "cell_type": "code",
   "execution_count": 3,
   "metadata": {},
   "outputs": [],
   "source": [
    "def display_img(img):\n",
    "    img_data = lambda img: reverse_normalize(img.squeeze().permute(1,2,0)).data.cpu().numpy().clip(0, 1)\n",
    "    plt.imshow(img_data(img))    "
   ]
  },
  {
   "cell_type": "markdown",
   "metadata": {},
   "source": [
    "# Data loading"
   ]
  },
  {
   "cell_type": "code",
   "execution_count": 4,
   "metadata": {},
   "outputs": [],
   "source": [
    "cifar_cats = [\n",
    "    'airplane',\n",
    "    'automobile',\n",
    "    'bird',\n",
    "    'cat',\n",
    "    'deer',\n",
    "    'dog',\n",
    "    'frog',\n",
    "    'horse',\n",
    "    'ship',\n",
    "    'truck'\n",
    "]"
   ]
  },
  {
   "cell_type": "code",
   "execution_count": 5,
   "metadata": {},
   "outputs": [
    {
     "name": "stdout",
     "output_type": "stream",
     "text": [
      "Files already downloaded and verified\n",
      "Train dataset size: 45000\n",
      "Calibration dataset size: 5000\n"
     ]
    }
   ],
   "source": [
    "training_dataset = datasets.CIFAR10(\n",
    "    '../data',\n",
    "    train = True,\n",
    "    download = True,\n",
    "    transform = transforms.Compose(\n",
    "        [\n",
    "            transforms.ToTensor(),\n",
    "            transforms.Normalize(means, stds)\n",
    "        ]\n",
    "    )\n",
    ")\n",
    "\n",
    "train_set_size               = len(training_dataset)\n",
    "calib_size                   = round(calib_prop * train_set_size)\n",
    "train_dataset, calib_dataset = random_split(\n",
    "    dataset = training_dataset, \n",
    "    lengths = [train_set_size - calib_size, calib_size]\n",
    ")\n",
    "print(f'Train dataset size: {len(train_dataset)}')\n",
    "print(f'Calibration dataset size: {len(calib_dataset)}')\n",
    "\n",
    "train_loader = torch.utils.data.DataLoader(\n",
    "    train_dataset,\n",
    "    shuffle = True,\n",
    "    batch_size = batch_size\n",
    ")"
   ]
  },
  {
   "cell_type": "code",
   "execution_count": 6,
   "metadata": {},
   "outputs": [
    {
     "name": "stdout",
     "output_type": "stream",
     "text": [
      "Files already downloaded and verified\n"
     ]
    }
   ],
   "source": [
    "test_dataset = datasets.CIFAR10(\n",
    "    '../data',\n",
    "    train = False,\n",
    "    download = True,\n",
    "    transform = transforms.Compose(\n",
    "        [\n",
    "            transforms.ToTensor(),\n",
    "            transforms.Normalize(means, stds)\n",
    "        ]\n",
    "    )\n",
    ")\n",
    "\n",
    "test_loader = torch.utils.data.DataLoader(\n",
    "    test_dataset,\n",
    "    shuffle = False,\n",
    "    batch_size = 2 * batch_size\n",
    ")"
   ]
  },
  {
   "cell_type": "code",
   "execution_count": 7,
   "metadata": {},
   "outputs": [
    {
     "name": "stdout",
     "output_type": "stream",
     "text": [
      "cat\n"
     ]
    },
    {
     "data": {
      "image/png": "[encoded data removed]",
      "text/plain": [
       "<Figure size 432x288 with 1 Axes>"
      ]
     },
     "metadata": {
      "needs_background": "light"
     },
     "output_type": "display_data"
    }
   ],
   "source": [
    "img, y = train_dataset[510]\n",
    "display_img(img.to(device))\n",
    "print(cifar_cats[y])"
   ]
  },
  {
   "cell_type": "code",
   "execution_count": 8,
   "metadata": {},
   "outputs": [
    {
     "name": "stdout",
     "output_type": "stream",
     "text": [
      "dog\n"
     ]
    },
    {
     "data": {
      "image/png": "[encoded data removed]",
      "text/plain": [
       "<Figure size 432x288 with 1 Axes>"
      ]
     },
     "metadata": {
      "needs_background": "light"
     },
     "output_type": "display_data"
    }
   ],
   "source": [
    "img, y = test_dataset[510]\n",
    "display_img(img.to(device))\n",
    "print(cifar_cats[y])"
   ]
  },
  {
   "cell_type": "markdown",
   "metadata": {},
   "source": [
    "# Training and evaluation tools"
   ]
  },
  {
   "cell_type": "code",
   "execution_count": 9,
   "metadata": {},
   "outputs": [],
   "source": [
    "def train(model, device, train_loader, optimizer, criterion, n_epochs, log_interval):\n",
    "    model.train()\n",
    "    for epoch in tqdm_notebook(range(n_epochs), desc = 'Epochs'):\n",
    "        for batch_idx, (X, y) in tqdm_notebook(enumerate(train_loader), total = len(train_loader), desc = 'Batches', leave = False):\n",
    "            X, y       = X.to(device), y.to(device)\n",
    "            optimizer.zero_grad()\n",
    "            *_, y_pred = model(X)\n",
    "            loss       = criterion(y_pred, y)\n",
    "            loss.backward()\n",
    "            optimizer.step()\n",
    "            if batch_idx % log_interval == 0:\n",
    "                print(f'Train epoch {epoch}: [{batch_idx * len(X):5d}/{len(train_loader.dataset):5d}] Loss: {loss.item():7.4f}')"
   ]
  },
  {
   "cell_type": "code",
   "execution_count": 10,
   "metadata": {},
   "outputs": [],
   "source": [
    "def evaluate(model, device, test_loader, criterion):\n",
    "    model.eval()\n",
    "    test_set_size = len(test_loader.dataset)\n",
    "    correct_answers = 0\n",
    "    sum_loss = 0\n",
    "    with torch.no_grad():\n",
    "        for X, y in tqdm_notebook(test_loader):\n",
    "            X, y             = X.to(device), y.to(device)\n",
    "            *_, y_pred       = model(X)\n",
    "            class_pred       = y_pred.argmax(dim = 1)\n",
    "            correct_answers += (y == class_pred).sum().item()\n",
    "            sum_loss        += criterion(y_pred, y).item()\n",
    "    accuracy = correct_answers / test_set_size\n",
    "    average_loss = sum_loss / len(test_loader)\n",
    "    \n",
    "    return accuracy, average_loss"
   ]
  },
  {
   "cell_type": "markdown",
   "metadata": {},
   "source": [
    "# Model"
   ]
  },
  {
   "cell_type": "code",
   "execution_count": 11,
   "metadata": {},
   "outputs": [],
   "source": [
    "class CNN(nn.Module):\n",
    "    def __init__(self):\n",
    "        super(CNN, self).__init__()\n",
    "        self.conv1 = nn.Conv2d(3 , 16 , 3, padding = 1)\n",
    "        self.conv2 = nn.Conv2d(16, 16 , 3, padding = 1)\n",
    "        self.conv3 = nn.Conv2d(16, 32,  3, padding = 1)\n",
    "        self.conv4 = nn.Conv2d(32, 32,  3, padding = 1)\n",
    "        self.fc1   = nn.Linear(32 * 8 * 8, 128)\n",
    "        self.fc2   = nn.Linear(128       , 10)\n",
    "        \n",
    "    def forward(self, x):\n",
    "        out_conv1 = F.dropout(F.relu(self.conv1(x)), 0.2, training = self.training)\n",
    "        out_conv2 = F.dropout(F.relu(self.conv2(out_conv1)), 0.2, training = self.training)\n",
    "        out_pool1 = F.max_pool2d(out_conv2, kernel_size = (2, 2))\n",
    "        out_conv3 = F.dropout(F.relu(self.conv3(out_pool1)), 0.2, training = self.training)\n",
    "        out_conv4 = F.dropout(F.relu(self.conv4(out_conv3)), 0.2, training = self.training)\n",
    "        out_pool2 = F.max_pool2d(out_conv4, kernel_size = (2, 2))\n",
    "        out_view  = out_pool2.view(-1, 32 * 8 * 8)\n",
    "        out_fc    = F.dropout(F.relu(self.fc1(out_view)), 0.2, training = self.training)\n",
    "        out       = self.fc2(out_fc)\n",
    "        \n",
    "        return out_conv1, out_conv2, out_conv3, out_conv4, out"
   ]
  },
  {
   "cell_type": "markdown",
   "metadata": {},
   "source": [
    "# Training"
   ]
  },
  {
   "cell_type": "code",
   "execution_count": 12,
   "metadata": {},
   "outputs": [],
   "source": [
    "criterion = nn.CrossEntropyLoss()"
   ]
  },
  {
   "cell_type": "code",
   "execution_count": 13,
   "metadata": {},
   "outputs": [
    {
     "data": {
      "application/vnd.jupyter.widget-view+json": {
       "model_id": "7a28e26b1786453681f817b44eaf9408",
       "version_major": 2,
       "version_minor": 0
      },
      "text/plain": [
       "HBox(children=(IntProgress(value=0, description='Epochs', max=15, style=ProgressStyle(description_width='initi…"
      ]
     },
     "metadata": {},
     "output_type": "display_data"
    },
    {
     "data": {
      "application/vnd.jupyter.widget-view+json": {
       "model_id": "",
       "version_major": 2,
       "version_minor": 0
      },
      "text/plain": [
       "HBox(children=(IntProgress(value=0, description='Batches', max=352, style=ProgressStyle(description_width='ini…"
      ]
     },
     "metadata": {},
     "output_type": "display_data"
    },
    {
     "name": "stdout",
     "output_type": "stream",
     "text": [
      "Train epoch 0: [    0/45000] Loss:  2.2978\n",
      "Train epoch 0: [ 8960/45000] Loss:  1.7172\n",
      "Train epoch 0: [17920/45000] Loss:  1.5569\n",
      "Train epoch 0: [26880/45000] Loss:  1.4121\n",
      "Train epoch 0: [35840/45000] Loss:  1.4541\n",
      "Train epoch 0: [44800/45000] Loss:  1.2919\n"
     ]
    },
    {
     "data": {
      "application/vnd.jupyter.widget-view+json": {
       "model_id": "",
       "version_major": 2,
       "version_minor": 0
      },
      "text/plain": [
       "HBox(children=(IntProgress(value=0, description='Batches', max=352, style=ProgressStyle(description_width='ini…"
      ]
     },
     "metadata": {},
     "output_type": "display_data"
    },
    {
     "name": "stdout",
     "output_type": "stream",
     "text": [
      "Train epoch 1: [    0/45000] Loss:  1.5043\n",
      "Train epoch 1: [ 8960/45000] Loss:  1.2274\n",
      "Train epoch 1: [17920/45000] Loss:  1.2753\n",
      "Train epoch 1: [26880/45000] Loss:  1.2437\n",
      "Train epoch 1: [35840/45000] Loss:  1.3215\n",
      "Train epoch 1: [44800/45000] Loss:  1.1382\n"
     ]
    },
    {
     "data": {
      "application/vnd.jupyter.widget-view+json": {
       "model_id": "",
       "version_major": 2,
       "version_minor": 0
      },
      "text/plain": [
       "HBox(children=(IntProgress(value=0, description='Batches', max=352, style=ProgressStyle(description_width='ini…"
      ]
     },
     "metadata": {},
     "output_type": "display_data"
    },
    {
     "name": "stdout",
     "output_type": "stream",
     "text": [
      "Train epoch 2: [    0/45000] Loss:  1.0854\n",
      "Train epoch 2: [ 8960/45000] Loss:  1.0469\n",
      "Train epoch 2: [17920/45000] Loss:  1.0239\n",
      "Train epoch 2: [26880/45000] Loss:  1.0940\n",
      "Train epoch 2: [35840/45000] Loss:  1.0217\n",
      "Train epoch 2: [44800/45000] Loss:  1.1047\n"
     ]
    },
    {
     "data": {
      "application/vnd.jupyter.widget-view+json": {
       "model_id": "",
       "version_major": 2,
       "version_minor": 0
      },
      "text/plain": [
       "HBox(children=(IntProgress(value=0, description='Batches', max=352, style=ProgressStyle(description_width='ini…"
      ]
     },
     "metadata": {},
     "output_type": "display_data"
    },
    {
     "name": "stdout",
     "output_type": "stream",
     "text": [
      "Train epoch 3: [    0/45000] Loss:  1.0254\n",
      "Train epoch 3: [ 8960/45000] Loss:  1.0951\n",
      "Train epoch 3: [17920/45000] Loss:  1.1019\n",
      "Train epoch 3: [26880/45000] Loss:  0.9968\n",
      "Train epoch 3: [35840/45000] Loss:  1.1260\n",
      "Train epoch 3: [44800/45000] Loss:  1.0010\n"
     ]
    },
    {
     "data": {
      "application/vnd.jupyter.widget-view+json": {
       "model_id": "",
       "version_major": 2,
       "version_minor": 0
      },
      "text/plain": [
       "HBox(children=(IntProgress(value=0, description='Batches', max=352, style=ProgressStyle(description_width='ini…"
      ]
     },
     "metadata": {},
     "output_type": "display_data"
    },
    {
     "name": "stdout",
     "output_type": "stream",
     "text": [
      "Train epoch 4: [    0/45000] Loss:  0.9356\n",
      "Train epoch 4: [ 8960/45000] Loss:  1.0129\n",
      "Train epoch 4: [17920/45000] Loss:  0.8665\n",
      "Train epoch 4: [26880/45000] Loss:  0.7477\n",
      "Train epoch 4: [35840/45000] Loss:  0.9344\n",
      "Train epoch 4: [44800/45000] Loss:  0.8795\n"
     ]
    },
    {
     "data": {
      "application/vnd.jupyter.widget-view+json": {
       "model_id": "",
       "version_major": 2,
       "version_minor": 0
      },
      "text/plain": [
       "HBox(children=(IntProgress(value=0, description='Batches', max=352, style=ProgressStyle(description_width='ini…"
      ]
     },
     "metadata": {},
     "output_type": "display_data"
    },
    {
     "name": "stdout",
     "output_type": "stream",
     "text": [
      "Train epoch 5: [    0/45000] Loss:  0.9032\n",
      "Train epoch 5: [ 8960/45000] Loss:  0.8240\n",
      "Train epoch 5: [17920/45000] Loss:  0.7607\n",
      "Train epoch 5: [26880/45000] Loss:  0.8012\n",
      "Train epoch 5: [35840/45000] Loss:  0.7322\n",
      "Train epoch 5: [44800/45000] Loss:  0.8173\n"
     ]
    },
    {
     "data": {
      "application/vnd.jupyter.widget-view+json": {
       "model_id": "",
       "version_major": 2,
       "version_minor": 0
      },
      "text/plain": [
       "HBox(children=(IntProgress(value=0, description='Batches', max=352, style=ProgressStyle(description_width='ini…"
      ]
     },
     "metadata": {},
     "output_type": "display_data"
    },
    {
     "name": "stdout",
     "output_type": "stream",
     "text": [
      "Train epoch 6: [    0/45000] Loss:  0.6865\n",
      "Train epoch 6: [ 8960/45000] Loss:  0.9029\n",
      "Train epoch 6: [17920/45000] Loss:  0.7998\n",
      "Train epoch 6: [26880/45000] Loss:  0.8577\n",
      "Train epoch 6: [35840/45000] Loss:  0.7575\n",
      "Train epoch 6: [44800/45000] Loss:  0.9148\n"
     ]
    },
    {
     "data": {
      "application/vnd.jupyter.widget-view+json": {
       "model_id": "",
       "version_major": 2,
       "version_minor": 0
      },
      "text/plain": [
       "HBox(children=(IntProgress(value=0, description='Batches', max=352, style=ProgressStyle(description_width='ini…"
      ]
     },
     "metadata": {},
     "output_type": "display_data"
    },
    {
     "name": "stdout",
     "output_type": "stream",
     "text": [
      "Train epoch 7: [    0/45000] Loss:  0.6329\n",
      "Train epoch 7: [ 8960/45000] Loss:  0.7884\n",
      "Train epoch 7: [17920/45000] Loss:  0.8079\n",
      "Train epoch 7: [26880/45000] Loss:  0.8296\n",
      "Train epoch 7: [35840/45000] Loss:  0.6741\n",
      "Train epoch 7: [44800/45000] Loss:  0.8020\n"
     ]
    },
    {
     "data": {
      "application/vnd.jupyter.widget-view+json": {
       "model_id": "",
       "version_major": 2,
       "version_minor": 0
      },
      "text/plain": [
       "HBox(children=(IntProgress(value=0, description='Batches', max=352, style=ProgressStyle(description_width='ini…"
      ]
     },
     "metadata": {},
     "output_type": "display_data"
    },
    {
     "name": "stdout",
     "output_type": "stream",
     "text": [
      "Train epoch 8: [    0/45000] Loss:  0.6508\n",
      "Train epoch 8: [ 8960/45000] Loss:  0.8401\n",
      "Train epoch 8: [17920/45000] Loss:  0.9072\n",
      "Train epoch 8: [26880/45000] Loss:  0.7938\n",
      "Train epoch 8: [35840/45000] Loss:  0.7427\n",
      "Train epoch 8: [44800/45000] Loss:  0.8258\n"
     ]
    },
    {
     "data": {
      "application/vnd.jupyter.widget-view+json": {
       "model_id": "",
       "version_major": 2,
       "version_minor": 0
      },
      "text/plain": [
       "HBox(children=(IntProgress(value=0, description='Batches', max=352, style=ProgressStyle(description_width='ini…"
      ]
     },
     "metadata": {},
     "output_type": "display_data"
    },
    {
     "name": "stdout",
     "output_type": "stream",
     "text": [
      "Train epoch 9: [    0/45000] Loss:  0.8069\n",
      "Train epoch 9: [ 8960/45000] Loss:  0.7786\n",
      "Train epoch 9: [17920/45000] Loss:  0.7202\n",
      "Train epoch 9: [26880/45000] Loss:  0.6315\n",
      "Train epoch 9: [35840/45000] Loss:  0.6740\n",
      "Train epoch 9: [44800/45000] Loss:  0.6131\n"
     ]
    },
    {
     "data": {
      "application/vnd.jupyter.widget-view+json": {
       "model_id": "",
       "version_major": 2,
       "version_minor": 0
      },
      "text/plain": [
       "HBox(children=(IntProgress(value=0, description='Batches', max=352, style=ProgressStyle(description_width='ini…"
      ]
     },
     "metadata": {},
     "output_type": "display_data"
    },
    {
     "name": "stdout",
     "output_type": "stream",
     "text": [
      "Train epoch 10: [    0/45000] Loss:  0.6133\n",
      "Train epoch 10: [ 8960/45000] Loss:  0.7663\n",
      "Train epoch 10: [17920/45000] Loss:  0.7651\n",
      "Train epoch 10: [26880/45000] Loss:  0.7341\n",
      "Train epoch 10: [35840/45000] Loss:  0.8975\n",
      "Train epoch 10: [44800/45000] Loss:  0.8091\n"
     ]
    },
    {
     "data": {
      "application/vnd.jupyter.widget-view+json": {
       "model_id": "",
       "version_major": 2,
       "version_minor": 0
      },
      "text/plain": [
       "HBox(children=(IntProgress(value=0, description='Batches', max=352, style=ProgressStyle(description_width='ini…"
      ]
     },
     "metadata": {},
     "output_type": "display_data"
    },
    {
     "name": "stdout",
     "output_type": "stream",
     "text": [
      "Train epoch 11: [    0/45000] Loss:  0.6119\n",
      "Train epoch 11: [ 8960/45000] Loss:  0.7846\n",
      "Train epoch 11: [17920/45000] Loss:  0.5485\n",
      "Train epoch 11: [26880/45000] Loss:  0.5740\n",
      "Train epoch 11: [35840/45000] Loss:  0.5418\n",
      "Train epoch 11: [44800/45000] Loss:  0.8056\n"
     ]
    },
    {
     "data": {
      "application/vnd.jupyter.widget-view+json": {
       "model_id": "",
       "version_major": 2,
       "version_minor": 0
      },
      "text/plain": [
       "HBox(children=(IntProgress(value=0, description='Batches', max=352, style=ProgressStyle(description_width='ini…"
      ]
     },
     "metadata": {},
     "output_type": "display_data"
    },
    {
     "name": "stdout",
     "output_type": "stream",
     "text": [
      "Train epoch 12: [    0/45000] Loss:  0.5705\n",
      "Train epoch 12: [ 8960/45000] Loss:  0.5869\n",
      "Train epoch 12: [17920/45000] Loss:  0.6327\n",
      "Train epoch 12: [26880/45000] Loss:  0.6746\n",
      "Train epoch 12: [35840/45000] Loss:  0.7089\n",
      "Train epoch 12: [44800/45000] Loss:  0.9304\n"
     ]
    },
    {
     "data": {
      "application/vnd.jupyter.widget-view+json": {
       "model_id": "",
       "version_major": 2,
       "version_minor": 0
      },
      "text/plain": [
       "HBox(children=(IntProgress(value=0, description='Batches', max=352, style=ProgressStyle(description_width='ini…"
      ]
     },
     "metadata": {},
     "output_type": "display_data"
    },
    {
     "name": "stdout",
     "output_type": "stream",
     "text": [
      "Train epoch 13: [    0/45000] Loss:  0.6773\n",
      "Train epoch 13: [ 8960/45000] Loss:  0.6103\n",
      "Train epoch 13: [17920/45000] Loss:  0.5822\n",
      "Train epoch 13: [26880/45000] Loss:  0.7332\n",
      "Train epoch 13: [35840/45000] Loss:  0.5846\n",
      "Train epoch 13: [44800/45000] Loss:  0.5058\n"
     ]
    },
    {
     "data": {
      "application/vnd.jupyter.widget-view+json": {
       "model_id": "",
       "version_major": 2,
       "version_minor": 0
      },
      "text/plain": [
       "HBox(children=(IntProgress(value=0, description='Batches', max=352, style=ProgressStyle(description_width='ini…"
      ]
     },
     "metadata": {},
     "output_type": "display_data"
    },
    {
     "name": "stdout",
     "output_type": "stream",
     "text": [
      "Train epoch 14: [    0/45000] Loss:  0.6962\n",
      "Train epoch 14: [ 8960/45000] Loss:  0.7454\n",
      "Train epoch 14: [17920/45000] Loss:  0.5052\n",
      "Train epoch 14: [26880/45000] Loss:  0.5251\n",
      "Train epoch 14: [35840/45000] Loss:  0.6227\n",
      "Train epoch 14: [44800/45000] Loss:  0.5038\n",
      "\n"
     ]
    }
   ],
   "source": [
    "if do_train:\n",
    "    cnn       = CNN().to(device)\n",
    "    optimizer = optim.Adam(cnn.parameters())\n",
    "    train(cnn, device, train_loader, optimizer, criterion, 15, len(train_loader) // 5)\n",
    "    torch.save(cnn.state_dict(), model_path)"
   ]
  },
  {
   "cell_type": "code",
   "execution_count": 14,
   "metadata": {},
   "outputs": [
    {
     "data": {
      "text/plain": [
       "CNN(\n",
       "  (conv1): Conv2d(3, 16, kernel_size=(3, 3), stride=(1, 1), padding=(1, 1))\n",
       "  (conv2): Conv2d(16, 16, kernel_size=(3, 3), stride=(1, 1), padding=(1, 1))\n",
       "  (conv3): Conv2d(16, 32, kernel_size=(3, 3), stride=(1, 1), padding=(1, 1))\n",
       "  (conv4): Conv2d(32, 32, kernel_size=(3, 3), stride=(1, 1), padding=(1, 1))\n",
       "  (fc1): Linear(in_features=2048, out_features=128, bias=True)\n",
       "  (fc2): Linear(in_features=128, out_features=10, bias=True)\n",
       ")"
      ]
     },
     "execution_count": 14,
     "metadata": {},
     "output_type": "execute_result"
    }
   ],
   "source": [
    "cnn = CNN().to(device)\n",
    "cnn.load_state_dict(torch.load(model_path))\n",
    "cnn.eval()"
   ]
  },
  {
   "cell_type": "code",
   "execution_count": 15,
   "metadata": {},
   "outputs": [
    {
     "data": {
      "application/vnd.jupyter.widget-view+json": {
       "model_id": "56e363a87651447db6678fa272c72dc0",
       "version_major": 2,
       "version_minor": 0
      },
      "text/plain": [
       "HBox(children=(IntProgress(value=0, max=352), HTML(value='')))"
      ]
     },
     "metadata": {},
     "output_type": "display_data"
    },
    {
     "name": "stdout",
     "output_type": "stream",
     "text": [
      "\n",
      "[Train] Accuracy: 85.01%, loss:  0.4832\n"
     ]
    },
    {
     "data": {
      "application/vnd.jupyter.widget-view+json": {
       "model_id": "632c4b4e74834817a423372f1df76b17",
       "version_major": 2,
       "version_minor": 0
      },
      "text/plain": [
       "HBox(children=(IntProgress(value=0, max=40), HTML(value='')))"
      ]
     },
     "metadata": {},
     "output_type": "display_data"
    },
    {
     "name": "stdout",
     "output_type": "stream",
     "text": [
      "\n",
      "[Test] Accuracy: 73.07%, loss:  0.7791\n"
     ]
    }
   ],
   "source": [
    "if do_eval:\n",
    "    accuracy, avg_loss = evaluate(cnn, device, train_loader, criterion)\n",
    "    print(f'[Train] Accuracy: {100 * accuracy:5.2f}%, loss: {avg_loss:7.4f}')\n",
    "    accuracy, avg_loss = evaluate(cnn, device, test_loader, criterion)\n",
    "    print(f'[Test] Accuracy: {100 * accuracy:5.2f}%, loss: {avg_loss:7.4f}')"
   ]
  },
  {
   "cell_type": "code",
   "execution_count": 16,
   "metadata": {},
   "outputs": [
    {
     "name": "stdout",
     "output_type": "stream",
     "text": [
      "Real label: 1\n",
      "Predicted label: 1\n"
     ]
    },
    {
     "data": {
      "image/png": "[encoded data removed]",
      "text/plain": [
       "<Figure size 432x288 with 1 Axes>"
      ]
     },
     "metadata": {
      "needs_background": "light"
     },
     "output_type": "display_data"
    }
   ],
   "source": [
    "ex_id = 9\n",
    "X, y  = test_dataset[ex_id]\n",
    "X     = X.to(device)\n",
    "img   = X.permute(1, 2, 0)\n",
    "img   = reverse_normalize(img)\n",
    "plt.imshow(img.cpu())\n",
    "print(f'Real label: {y}')\n",
    "print(f'Predicted label: {cnn(X.unsqueeze(0))[-1].argmax().item()}')"
   ]
  },
  {
   "cell_type": "markdown",
   "metadata": {},
   "source": [
    "# Deep KNN"
   ]
  },
  {
   "cell_type": "code",
   "execution_count": 17,
   "metadata": {},
   "outputs": [],
   "source": [
    "class DeepKNN():\n",
    "    def __init__(self, model, device, train_dataset, calib_dataset, \n",
    "                 batch_size, n_neighbors, n_embs):\n",
    "        self.model         = model\n",
    "        self.device        = device\n",
    "        self.train_dataset = train_dataset\n",
    "        self.calib_dataset = calib_dataset\n",
    "        self.batch_size    = batch_size\n",
    "        self.n_neighbors   = n_neighbors\n",
    "        self.n_embs        = n_embs\n",
    "        (\n",
    "            self.conv_features, \n",
    "            self.train_targets, \n",
    "            self.train_predictions\n",
    "        )                    = self._build_emb_spaces()\n",
    "        self.neighs          = self._build_neighs()\n",
    "        self.alpha_calib_sum = self._build_calibration()\n",
    "        \n",
    "    def _build_emb_spaces(self):\n",
    "        print('Building the embedding spaces from the training set.')\n",
    "        sequential_train_loader = torch.utils.data.DataLoader(\n",
    "            self.train_dataset,\n",
    "            shuffle    = False,\n",
    "            batch_size = self.batch_size\n",
    "        )\n",
    "        \n",
    "        conv_features = [[] for _ in range(self.n_embs)]\n",
    "        targets       = []\n",
    "        predictions   = []\n",
    "        print('\\tRunning predictions')\n",
    "        self.model.eval()\n",
    "        for X, y in sequential_train_loader:\n",
    "            X                  = X.to(self.device)\n",
    "            *out_convs, y_pred = self.model(X)\n",
    "            for i, out_conv in enumerate(out_convs):\n",
    "                conv_feat = out_conv.view(out_conv.size(0), -1).cpu().detach().numpy()\n",
    "                conv_features[i].append(conv_feat)\n",
    "            targets.append(y.numpy())\n",
    "            predictions.append(y_pred.cpu().detach().numpy())\n",
    "        print('\\tConcatenating results')\n",
    "        conv_features = [np.concatenate(out_convs) for out_convs in conv_features]\n",
    "        targets       = np.concatenate(targets)\n",
    "        predictions   = np.concatenate(predictions, axis = 0)\n",
    "        \n",
    "        return conv_features, targets, predictions\n",
    "\n",
    "    def _build_calibration(self):\n",
    "        print('Building calibration set.')\n",
    "        sequential_calib_loader = torch.utils.data.DataLoader(\n",
    "            self.calib_dataset,\n",
    "            shuffle    = False,\n",
    "            batch_size = self.batch_size\n",
    "        )\n",
    "        alpha_by_batch = [self._alpha(X, y.numpy()) for X, y in sequential_calib_loader]\n",
    "        alpha_values   =  np.concatenate(alpha_by_batch)\n",
    "        c              = Counter(alpha_values)\n",
    "        alpha_sum_cum  = []\n",
    "\n",
    "        for alpha_value in range(self.n_embs * self.n_neighbors, -1, -1):\n",
    "            alpha_sum_cum.append(c[alpha_value] + (alpha_sum_cum[-1] if len(alpha_sum_cum) > 0 else 0))\n",
    "            \n",
    "        return np.array(alpha_sum_cum[::-1])\n",
    "    \n",
    "    def _build_neighs(self):\n",
    "        print('Building Nearest Neighbor finders.')\n",
    "        return [\n",
    "            NearestNeighbors(\n",
    "                n_neighbors = self.n_neighbors, \n",
    "                metric      = 'cosine'\n",
    "            ).fit(feats) \n",
    "            for feats in self.conv_features\n",
    "        ]\n",
    "        \n",
    "    def _alpha(self, X, y):\n",
    "        neighbors_by_layer, _  = self._get_closest_points(X)\n",
    "        closest_points_classes = self.train_targets[neighbors_by_layer]\n",
    "        same_class_neighbors   = closest_points_classes != y.reshape(y.shape[0], 1, 1)\n",
    "        same_class_neighbors   = same_class_neighbors.reshape(-1, self.n_neighbors * self.n_embs)\n",
    "        alpha                  = same_class_neighbors.sum(axis = 1)\n",
    "        \n",
    "        return alpha\n",
    "\n",
    "    def _compute_nonconformity(self, X):\n",
    "        neighbors_by_layer, _  = self._get_closest_points(X)\n",
    "        closest_points_label   = self.train_targets[neighbors_by_layer]\n",
    "        closest_points_label   = closest_points_label.reshape(-1, 24)\n",
    "        nonconformity          = [(closest_points_label != label).sum(axis = 1) for label in range(10)]\n",
    "        nonconformity          = np.stack(nonconformity, axis = 1)\n",
    "        \n",
    "        return nonconformity\n",
    "    \n",
    "    def _compute_p_value(self, X):\n",
    "        nonconformity = self._compute_nonconformity(X)\n",
    "        empirical_p_value      = self.alpha_calib_sum[nonconformity] / len(self.calib_dataset)\n",
    "        \n",
    "        return empirical_p_value\n",
    "    \n",
    "    def _get_closest_points(self, X):\n",
    "        *out_convs, y_pred = self.model(X.to(device))\n",
    "        neighbors_by_layer = []\n",
    "        for i, (neigh, layer_emb) in enumerate(zip(self.neighs, out_convs)):\n",
    "            emb       = layer_emb.detach().cpu().view(X.size(0), -1).numpy()\n",
    "            neighbors = neigh.kneighbors(emb, return_distance = False) \n",
    "            neighbors_by_layer.append(neighbors)\n",
    "        return np.stack(neighbors_by_layer, axis = 1), y_pred\n",
    "\n",
    "    def predict(self, X):\n",
    "        p_value     = self._compute_p_value(X)\n",
    "        y_pred      = p_value.argmax(axis = 1)\n",
    "        # Partitioning according to the second to last value in order to compute\n",
    "        # credibility and confidence\n",
    "        partition   = np.partition(p_value, -2)\n",
    "        credibility = partition[:, -1]\n",
    "        confidence  = 1 - partition[:, -2]\n",
    "        \n",
    "        return y_pred, confidence, credibility\n",
    "    \n",
    "    def predict_interpretation(self, X, y = None):\n",
    "        img_data = lambda img: reverse_normalize(img.to(device).squeeze().permute(1,2,0)).data.cpu().numpy().clip(0, 1)\n",
    "        plt.figure(figsize = (12, 6))\n",
    "        gs       = gridspec.GridSpec(4, 4 + self.n_neighbors)\n",
    "        ax_big   = plt.subplot(gs[:, :4])\n",
    "        ax_grid  = [[plt.subplot(gs[i, j]) for j in range(4, 4 + self.n_neighbors)] for i in range(4)]\n",
    "        ax_big.imshow(img_data(X))\n",
    "        ax_big.axis('off')\n",
    "        neighbors_by_layer, y_pred = self._get_closest_points(X.unsqueeze(0))\n",
    "        print(neighbors_by_layer)\n",
    "        print(y_pred)\n",
    "        for ax_line, closest_layer in zip(ax_grid, neighbors_by_layer[0]):\n",
    "            for ax_cell, train_ex_id in zip(ax_line, closest_layer):\n",
    "                img = self.train_dataset[train_ex_id][0]\n",
    "                ax_cell.imshow(img_data(img))\n",
    "                ax_cell.axis('off')\n",
    "\n",
    "        if y is not None:\n",
    "            print(f'Real class: {cifar_cats[y]}')\n",
    "        print(f'Predicted class: {cifar_cats[y_pred.argmax(dim = 1).cpu().item()]}')\n",
    "        \n",
    "        return y_pred"
   ]
  },
  {
   "cell_type": "code",
   "execution_count": 18,
   "metadata": {},
   "outputs": [],
   "source": [
    "# dataset shrinking for laptop prototyping, to comment / remove while on desktop\n",
    "# n                = 5000\n",
    "# train_dataset, _ = random_split(train_dataset, [n, len(train_dataset) - n])\n",
    "# calib_dataset, _ = random_split(calib_dataset, [n, len(calib_dataset) - n])\n",
    "# print(len(train_dataset), len(calib_dataset))"
   ]
  },
  {
   "cell_type": "code",
   "execution_count": 19,
   "metadata": {},
   "outputs": [
    {
     "name": "stdout",
     "output_type": "stream",
     "text": [
      "Building the embedding spaces from the training set.\n",
      "\tRunning predictions\n",
      "\tConcatenating results\n",
      "Building Nearest Neighbor finders.\n",
      "Building calibration set.\n"
     ]
    }
   ],
   "source": [
    "deep_knn = DeepKNN(\n",
    "    model         = cnn, \n",
    "    device        = device, \n",
    "    train_dataset = train_dataset,\n",
    "    calib_dataset = calib_dataset,\n",
    "    batch_size    = batch_size,\n",
    "    n_neighbors   = 6,\n",
    "    n_embs        = 4 \n",
    ")"
   ]
  },
  {
   "cell_type": "code",
   "execution_count": 20,
   "metadata": {},
   "outputs": [],
   "source": [
    "batch, y = next(iter(train_loader))\n",
    "y        = y.numpy()"
   ]
  },
  {
   "cell_type": "code",
   "execution_count": 21,
   "metadata": {},
   "outputs": [],
   "source": [
    "y_pred, confidence, credibility = deep_knn.predict(batch)"
   ]
  },
  {
   "cell_type": "code",
   "execution_count": 22,
   "metadata": {},
   "outputs": [
    {
     "name": "stdout",
     "output_type": "stream",
     "text": [
      "Accuracy:                                  \t 0.828125\n",
      "average confidence for correct predictions:\t 0.8144037735849056\n",
      "average confidence for incorrect predictions:\t 0.6985454545454544\n",
      "average credibility for correct predictions:\t 0.7112962264150944\n",
      "average credibility for incorrect predictions:\t 0.4933272727272728\n"
     ]
    }
   ],
   "source": [
    "print('Accuracy:                                  \\t', (y == y_pred).mean())\n",
    "print('average confidence for correct predictions:\\t', confidence[y == y_pred].mean())\n",
    "print('average confidence for incorrect predictions:\\t', confidence[y != y_pred].mean())\n",
    "print('average credibility for correct predictions:\\t', credibility[y == y_pred].mean())\n",
    "print('average credibility for incorrect predictions:\\t', credibility[y != y_pred].mean())"
   ]
  },
  {
   "cell_type": "code",
   "execution_count": 23,
   "metadata": {},
   "outputs": [
    {
     "name": "stdout",
     "output_type": "stream",
     "text": [
      "[[[28216 19459 14671 16243 26292 11499]\n",
      "  [28216 26292 43587  7290 19459 32042]\n",
      "  [32042 31237 23149 10289 21986 12362]\n",
      "  [32042 31237  7182  9719 35187   364]]]\n",
      "tensor([[  3.6160,   6.9221,  -6.5884,  -4.6535, -11.5202,  -9.7039,  -8.4989,\n",
      "         -13.6010,  11.6493,   1.9736]], device='cuda:0',\n",
      "       grad_fn=<AddmmBackward>)\n",
      "Real class: ship\n",
      "Predicted class: ship\n"
     ]
    },
    {
     "data": {
      "text/plain": [
       "tensor([[  3.6160,   6.9221,  -6.5884,  -4.6535, -11.5202,  -9.7039,  -8.4989,\n",
       "         -13.6010,  11.6493,   1.9736]], device='cuda:0',\n",
       "       grad_fn=<AddmmBackward>)"
      ]
     },
     "execution_count": 23,
     "metadata": {},
     "output_type": "execute_result"
    },
    {
     "data": {
      "image/png": "[encoded data removed]",
      "text/plain": [
       "<Figure size 864x432 with 25 Axes>"
      ]
     },
     "metadata": {
      "needs_background": "light"
     },
     "output_type": "display_data"
    }
   ],
   "source": [
    "deep_knn.predict_interpretation(*test_dataset[1])"
   ]
  },
  {
   "cell_type": "markdown",
   "metadata": {},
   "source": [
    "# Adversarial examples"
   ]
  },
  {
   "cell_type": "code",
   "execution_count": 24,
   "metadata": {},
   "outputs": [],
   "source": [
    "def generate_adv_example(model, epsilon, criterion, X):\n",
    "    X.requires_grad = True\n",
    "    *_, y_pred      = model(X)\n",
    "    loss            = criterion(y_pred, y_pred.argmax(dim = 1))\n",
    "    loss.backward()\n",
    "    adv_example     = X + epsilon * X.grad.sign()\n",
    "    \n",
    "    # Clamping the result to [0, 1] in each channel.\n",
    "    # I don't think that there exist a multidimensional clamp function.\n",
    "    for channel, norm_func in enumerate([normalize_red, normalize_green, normalize_blue]):\n",
    "        adv_example[:, channel, ...].clamp_(norm_func(0), norm_func(1))\n",
    "    \n",
    "    return adv_example"
   ]
  },
  {
   "cell_type": "code",
   "execution_count": 25,
   "metadata": {},
   "outputs": [],
   "source": [
    "def adv_sample_process(model, epsilon, X, y):\n",
    "    source       = X.unsqueeze(0).to(device)\n",
    "    *_, y_pred   = model(source)\n",
    "    adv_example  = generate_adv_example(model, epsilon, criterion, source)\n",
    "    *_, adv_pred = cnn(adv_example)\n",
    "    for i in range(10):\n",
    "        print(f'Class {i}: {y_pred[0, i]:6.4f} \\t->\\t {adv_pred[0, i]:^6.4f}')\n",
    "    plt.figure(figsize = (15, 10))\n",
    "    plt.subplot(1, 2, 1)\n",
    "    display_img(source)\n",
    "    plt.subplot(1, 2, 2)\n",
    "    display_img(adv_example)\n",
    "    print(f'Real label: {cifar_cats[y]}')\n",
    "    print(f'Predicted label: {cifar_cats[adv_pred[0].argmax().item()]}')"
   ]
  },
  {
   "cell_type": "code",
   "execution_count": 26,
   "metadata": {},
   "outputs": [
    {
     "name": "stdout",
     "output_type": "stream",
     "text": [
      "Class 0: -4.2908 \t->\t -3.3612\n",
      "Class 1: -4.8415 \t->\t -4.8122\n",
      "Class 2: 0.1323 \t->\t -2.1391\n",
      "Class 3: 1.9209 \t->\t 0.9910\n",
      "Class 4: 0.7434 \t->\t 2.2141\n",
      "Class 5: 1.3321 \t->\t 1.7780\n",
      "Class 6: 3.5598 \t->\t -0.8316\n",
      "Class 7: -1.7031 \t->\t 2.9603\n",
      "Class 8: -6.7772 \t->\t -6.1162\n",
      "Class 9: -2.0505 \t->\t -1.2736\n",
      "Real label: frog\n",
      "Predicted label: horse\n"
     ]
    },
    {
     "data": {
      "image/png": "[encoded data removed]",
      "text/plain": [
       "<Figure size 1080x720 with 2 Axes>"
      ]
     },
     "metadata": {
      "needs_background": "light"
     },
     "output_type": "display_data"
    }
   ],
   "source": [
    "ex_id = 5\n",
    "X, y = test_dataset[ex_id]\n",
    "adv_sample_process(cnn, 0.15, X, y)"
   ]
  }
 ],
 "metadata": {
  "kernelspec": {
   "display_name": "Python 3",
   "language": "python",
   "name": "python3"
  },
  "language_info": {
   "codemirror_mode": {
    "name": "ipython",
    "version": 3
   },
   "file_extension": ".py",
   "mimetype": "text/x-python",
   "name": "python",
   "nbconvert_exporter": "python",
   "pygments_lexer": "ipython3",
   "version": "3.7.1"
  }
 },
 "nbformat": 4,
 "nbformat_minor": 2
}
