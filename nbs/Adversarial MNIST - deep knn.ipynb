{
 "cells": [
  {
   "cell_type": "code",
   "execution_count": 1,
   "metadata": {},
   "outputs": [],
   "source": [
    "import torch\n",
    "import torch.nn as nn\n",
    "import torch.nn.functional as F\n",
    "import torch.optim as optim\n",
    "from torchvision import datasets \n",
    "from torchvision import transforms\n",
    "\n",
    "import matplotlib.pyplot as plt\n",
    "from tqdm import tqdm, tqdm_notebook"
   ]
  },
  {
   "cell_type": "code",
   "execution_count": 2,
   "metadata": {},
   "outputs": [],
   "source": [
    "batch_size        = 128\n",
    "device            = torch.device('cuda')\n",
    "normalize         = lambda x: (x - 0.1307) / 0.3081\n",
    "reverse_normalize = lambda x: (x * 0.3081) + 0.1307"
   ]
  },
  {
   "cell_type": "code",
   "execution_count": 3,
   "metadata": {},
   "outputs": [],
   "source": [
    "def display_img(img):\n",
    "    img_data = lambda img: reverse_normalize(img).data.squeeze().cpu().numpy()\n",
    "    print(img_data(img).min(), img_data(img).max())\n",
    "    plt.imshow(img_data(img), cmap = 'gray')    "
   ]
  },
  {
   "cell_type": "code",
   "execution_count": 4,
   "metadata": {},
   "outputs": [],
   "source": [
    "train_loader = torch.utils.data.DataLoader(\n",
    "    datasets.MNIST(\n",
    "        '../data',\n",
    "        train = True,\n",
    "        download = True,\n",
    "        transform = transforms.Compose(\n",
    "            [\n",
    "                transforms.ToTensor(),\n",
    "                transforms.Normalize((0.1307,), (0.3081,))\n",
    "            ]\n",
    "        )\n",
    "    ),\n",
    "    shuffle = True,\n",
    "    batch_size = batch_size\n",
    ")"
   ]
  },
  {
   "cell_type": "code",
   "execution_count": 5,
   "metadata": {},
   "outputs": [],
   "source": [
    "test_loader = torch.utils.data.DataLoader(\n",
    "    datasets.MNIST(\n",
    "        '../data',\n",
    "        train = False,\n",
    "        download = True,\n",
    "        transform = transforms.Compose(\n",
    "            [\n",
    "                transforms.ToTensor(),\n",
    "                transforms.Normalize((0.1307,), (0.3081,))\n",
    "            ]\n",
    "        )\n",
    "    ),\n",
    "    shuffle = False,\n",
    "    batch_size = 2 * batch_size\n",
    ")"
   ]
  },
  {
   "cell_type": "code",
   "execution_count": 6,
   "metadata": {},
   "outputs": [],
   "source": [
    "def train(model, device, train_loader, optimizer, criterion, n_epochs, log_interval):\n",
    "    model.train()\n",
    "    for epoch in tqdm_notebook(range(n_epochs), desc = 'Epochs'):\n",
    "        for batch_idx, (X, y) in tqdm_notebook(enumerate(train_loader), total = len(train_loader), desc = 'Batches', leave = False):\n",
    "            X, y = X.to(device), y.to(device)\n",
    "            optimizer.zero_grad()\n",
    "            *_, y_pred = model(X)\n",
    "            loss = criterion(y_pred, y)\n",
    "            loss.backward()\n",
    "            optimizer.step()\n",
    "            if batch_idx % log_interval == 0:\n",
    "                print(f'Train epoch {epoch}: [{batch_idx * len(X):5d}/{len(train_loader.dataset):5d}] Loss: {loss.item():7.4f}')"
   ]
  },
  {
   "cell_type": "code",
   "execution_count": 7,
   "metadata": {},
   "outputs": [],
   "source": [
    "def evaluate(model, device, test_loader, criterion):\n",
    "    model.eval()\n",
    "    test_set_size = len(test_loader.dataset)\n",
    "    correct_answers = 0\n",
    "    sum_loss = 0\n",
    "    with torch.no_grad():\n",
    "        for X, y in tqdm_notebook(test_loader):\n",
    "            X, y = X.to(device), y.to(device)\n",
    "            *_, y_pred = model(X)\n",
    "            class_pred = y_pred.argmax(dim = 1)\n",
    "            correct_answers += (y == class_pred).sum().item()\n",
    "            sum_loss += criterion(y_pred, y).item()\n",
    "    accuracy = correct_answers / test_set_size\n",
    "    average_loss = sum_loss / len(test_loader)\n",
    "    \n",
    "    return accuracy, average_loss"
   ]
  },
  {
   "cell_type": "code",
   "execution_count": 8,
   "metadata": {},
   "outputs": [],
   "source": [
    "class CNN(nn.Module):\n",
    "    def __init__(self):\n",
    "        super(CNN, self).__init__()\n",
    "        self.conv1 = nn.Conv2d(1  , 16 , 3, padding = 1)\n",
    "        self.conv2 = nn.Conv2d(16 , 32, 3, padding = 1)\n",
    "        self.fc1   = nn.Linear(32 * 7 * 7, 32)\n",
    "        self.fc2   = nn.Linear(32        , 10)\n",
    "        \n",
    "    def forward(self, x):\n",
    "        batch_size    = x.size(0)\n",
    "        out_conv1     = F.relu(self.conv1(x))\n",
    "        out_max_pool1 = F.max_pool2d(out_conv1, kernel_size = (2, 2))\n",
    "        out_conv2     = F.relu(self.conv2(out_max_pool1))\n",
    "        out_max_pool2 = F.max_pool2d(out_conv2, kernel_size = (2, 2))\n",
    "        out_view      = out_max_pool2.view(-1, 32 * 7 * 7)\n",
    "        out_fc1       = F.relu(self.fc1(out_view))\n",
    "        out_fc2       = self.fc2(out_fc1)\n",
    "        \n",
    "        return (\n",
    "            out_conv1.view(batch_size, -1),\n",
    "            out_conv2.view(batch_size, -1),\n",
    "            out_fc1,\n",
    "            out_fc2\n",
    "        )"
   ]
  },
  {
   "cell_type": "code",
   "execution_count": 9,
   "metadata": {},
   "outputs": [],
   "source": [
    "cnn       = CNN().to(device)\n",
    "criterion = nn.CrossEntropyLoss()\n",
    "optimizer = optim.Adam(cnn.parameters())"
   ]
  },
  {
   "cell_type": "code",
   "execution_count": 10,
   "metadata": {},
   "outputs": [
    {
     "data": {
      "application/vnd.jupyter.widget-view+json": {
       "model_id": "c30a4fe9195b41d7bd97b5e125c5d31c",
       "version_major": 2,
       "version_minor": 0
      },
      "text/plain": [
       "HBox(children=(IntProgress(value=0, description='Epochs', max=5, style=ProgressStyle(description_width='initia…"
      ]
     },
     "metadata": {},
     "output_type": "display_data"
    },
    {
     "data": {
      "application/vnd.jupyter.widget-view+json": {
       "model_id": "",
       "version_major": 2,
       "version_minor": 0
      },
      "text/plain": [
       "HBox(children=(IntProgress(value=0, description='Batches', max=469, style=ProgressStyle(description_width='ini…"
      ]
     },
     "metadata": {},
     "output_type": "display_data"
    },
    {
     "name": "stdout",
     "output_type": "stream",
     "text": [
      "Train epoch 0: [    0/60000] Loss:  2.3095\n",
      "Train epoch 0: [11904/60000] Loss:  0.2937\n",
      "Train epoch 0: [23808/60000] Loss:  0.1460\n",
      "Train epoch 0: [35712/60000] Loss:  0.0683\n",
      "Train epoch 0: [47616/60000] Loss:  0.1304\n",
      "Train epoch 0: [59520/60000] Loss:  0.1669\n"
     ]
    },
    {
     "data": {
      "application/vnd.jupyter.widget-view+json": {
       "model_id": "",
       "version_major": 2,
       "version_minor": 0
      },
      "text/plain": [
       "HBox(children=(IntProgress(value=0, description='Batches', max=469, style=ProgressStyle(description_width='ini…"
      ]
     },
     "metadata": {},
     "output_type": "display_data"
    },
    {
     "name": "stdout",
     "output_type": "stream",
     "text": [
      "Train epoch 1: [    0/60000] Loss:  0.1608\n",
      "Train epoch 1: [11904/60000] Loss:  0.1034\n",
      "Train epoch 1: [23808/60000] Loss:  0.0554\n",
      "Train epoch 1: [35712/60000] Loss:  0.0370\n",
      "Train epoch 1: [47616/60000] Loss:  0.0432\n",
      "Train epoch 1: [59520/60000] Loss:  0.1160\n"
     ]
    },
    {
     "data": {
      "application/vnd.jupyter.widget-view+json": {
       "model_id": "",
       "version_major": 2,
       "version_minor": 0
      },
      "text/plain": [
       "HBox(children=(IntProgress(value=0, description='Batches', max=469, style=ProgressStyle(description_width='ini…"
      ]
     },
     "metadata": {},
     "output_type": "display_data"
    },
    {
     "name": "stdout",
     "output_type": "stream",
     "text": [
      "Train epoch 2: [    0/60000] Loss:  0.0484\n",
      "Train epoch 2: [11904/60000] Loss:  0.0600\n",
      "Train epoch 2: [23808/60000] Loss:  0.0358\n",
      "Train epoch 2: [35712/60000] Loss:  0.0258\n",
      "Train epoch 2: [47616/60000] Loss:  0.0725\n",
      "Train epoch 2: [59520/60000] Loss:  0.0349\n"
     ]
    },
    {
     "data": {
      "application/vnd.jupyter.widget-view+json": {
       "model_id": "",
       "version_major": 2,
       "version_minor": 0
      },
      "text/plain": [
       "HBox(children=(IntProgress(value=0, description='Batches', max=469, style=ProgressStyle(description_width='ini…"
      ]
     },
     "metadata": {},
     "output_type": "display_data"
    },
    {
     "name": "stdout",
     "output_type": "stream",
     "text": [
      "Train epoch 3: [    0/60000] Loss:  0.0462\n",
      "Train epoch 3: [11904/60000] Loss:  0.0425\n",
      "Train epoch 3: [23808/60000] Loss:  0.0064\n",
      "Train epoch 3: [35712/60000] Loss:  0.0242\n",
      "Train epoch 3: [47616/60000] Loss:  0.0486\n",
      "Train epoch 3: [59520/60000] Loss:  0.0382\n"
     ]
    },
    {
     "data": {
      "application/vnd.jupyter.widget-view+json": {
       "model_id": "",
       "version_major": 2,
       "version_minor": 0
      },
      "text/plain": [
       "HBox(children=(IntProgress(value=0, description='Batches', max=469, style=ProgressStyle(description_width='ini…"
      ]
     },
     "metadata": {},
     "output_type": "display_data"
    },
    {
     "name": "stdout",
     "output_type": "stream",
     "text": [
      "Train epoch 4: [    0/60000] Loss:  0.0178\n",
      "Train epoch 4: [11904/60000] Loss:  0.0760\n",
      "Train epoch 4: [23808/60000] Loss:  0.0192\n",
      "Train epoch 4: [35712/60000] Loss:  0.0278\n",
      "Train epoch 4: [47616/60000] Loss:  0.0681\n",
      "Train epoch 4: [59520/60000] Loss:  0.1092\n",
      "\n"
     ]
    }
   ],
   "source": [
    "train(cnn, device, train_loader, optimizer, criterion, 5, len(train_loader) // 5)"
   ]
  },
  {
   "cell_type": "code",
   "execution_count": 11,
   "metadata": {},
   "outputs": [
    {
     "data": {
      "application/vnd.jupyter.widget-view+json": {
       "model_id": "fcd2ada0768f44ae84738058386004d9",
       "version_major": 2,
       "version_minor": 0
      },
      "text/plain": [
       "HBox(children=(IntProgress(value=0, max=469), HTML(value='')))"
      ]
     },
     "metadata": {},
     "output_type": "display_data"
    },
    {
     "name": "stdout",
     "output_type": "stream",
     "text": [
      "\n",
      "[Train] Accuracy: 99.22%, loss:  0.0262\n"
     ]
    },
    {
     "data": {
      "application/vnd.jupyter.widget-view+json": {
       "model_id": "047db6d95c834af9b8705e5edc107f39",
       "version_major": 2,
       "version_minor": 0
      },
      "text/plain": [
       "HBox(children=(IntProgress(value=0, max=40), HTML(value='')))"
      ]
     },
     "metadata": {},
     "output_type": "display_data"
    },
    {
     "name": "stdout",
     "output_type": "stream",
     "text": [
      "\n",
      "[Test] Accuracy: 98.55%, loss:  0.0396\n"
     ]
    }
   ],
   "source": [
    "accuracy, avg_loss = evaluate(cnn, device, train_loader, criterion)\n",
    "print(f'[Train] Accuracy: {100 * accuracy:5.2f}%, loss: {avg_loss:7.4f}')\n",
    "accuracy, avg_loss = evaluate(cnn, device, test_loader, criterion)\n",
    "print(f'[Test] Accuracy: {100 * accuracy:5.2f}%, loss: {avg_loss:7.4f}')"
   ]
  },
  {
   "cell_type": "code",
   "execution_count": 12,
   "metadata": {},
   "outputs": [
    {
     "name": "stdout",
     "output_type": "stream",
     "text": [
      "Real label: 7\n",
      "Predicted label: 186858\n"
     ]
    },
    {
     "data": {
      "image/png": "[encoded data removed]",
      "text/plain": [
       "<Figure size 432x288 with 1 Axes>"
      ]
     },
     "metadata": {
      "needs_background": "light"
     },
     "output_type": "display_data"
    }
   ],
   "source": [
    "X, y = next(iter(test_loader))\n",
    "plt.imshow(X[0].squeeze(), cmap = 'gray')\n",
    "print(f'Real label: {y[0].item()}')\n",
    "print(f'Predicted label: {cnn(X.to(device))[0].argmax().item()}')"
   ]
  },
  {
   "cell_type": "code",
   "execution_count": 13,
   "metadata": {},
   "outputs": [],
   "source": [
    "def generate_adv_example(model, epsilon, criterion, X):\n",
    "    X.requires_grad = True\n",
    "    *_, y_pred      = model(X)\n",
    "    loss            = criterion(y_pred, y_pred.argmax(dim = 1))\n",
    "    loss.backward()\n",
    "    adv_example     = X + epsilon * X.grad.sign()\n",
    "    adv_example.clamp_(normalize(0), normalize(1))\n",
    "    \n",
    "    return adv_example"
   ]
  },
  {
   "cell_type": "code",
   "execution_count": 14,
   "metadata": {},
   "outputs": [],
   "source": [
    "def adv_sample_process(model, epsilon, ex_idx, X, y):\n",
    "    source      = X[ex_idx, ...].unsqueeze(0).to(device)\n",
    "    *_, y_pred  = model(source)\n",
    "    adv_example = generate_adv_example(model, epsilon, criterion, source)\n",
    "    *_,adv_pred = model(adv_example)\n",
    "    for i in range(10):\n",
    "        print(f'Class {i}: {y_pred[0, i]:6.4f} \\t->\\t {adv_pred[0, i]:^6.4f}')\n",
    "    plt.figure(figsize = (15, 10))\n",
    "    plt.subplot(1, 2, 1)\n",
    "    display_img(source)\n",
    "    plt.subplot(1, 2, 2)\n",
    "    display_img(adv_example)\n",
    "    print(f'Real label: {y[ex_idx].item()}')\n",
    "    print(f'Predicted label: {adv_pred[0].argmax().item()}')"
   ]
  },
  {
   "cell_type": "code",
   "execution_count": 15,
   "metadata": {},
   "outputs": [
    {
     "name": "stdout",
     "output_type": "stream",
     "text": [
      "Class 0: -5.3032 \t->\t -6.9230\n",
      "Class 1: 0.0172 \t->\t -0.8256\n",
      "Class 2: -1.5987 \t->\t -0.7613\n",
      "Class 3: 0.6923 \t->\t 4.2454\n",
      "Class 4: -11.0905 \t->\t -10.5981\n",
      "Class 5: -6.5219 \t->\t -0.3454\n",
      "Class 6: -19.6092 \t->\t -14.7004\n",
      "Class 7: 12.3082 \t->\t 4.1481\n",
      "Class 8: -7.0683 \t->\t -2.4003\n",
      "Class 9: -1.3468 \t->\t -1.6472\n",
      "0.0 1.0\n",
      "1.4901161e-08 0.99999994\n",
      "Real label: 7\n",
      "Predicted label: 3\n"
     ]
    },
    {
     "data": {
      "image/png": "[encoded data removed]",
      "text/plain": [
       "<Figure size 1080x720 with 2 Axes>"
      ]
     },
     "metadata": {
      "needs_background": "light"
     },
     "output_type": "display_data"
    }
   ],
   "source": [
    "adv_sample_process(cnn, 0.6, 0, X, y)"
   ]
  }
 ],
 "metadata": {
  "kernelspec": {
   "display_name": "Python 3",
   "language": "python",
   "name": "python3"
  },
  "language_info": {
   "codemirror_mode": {
    "name": "ipython",
    "version": 3
   },
   "file_extension": ".py",
   "mimetype": "text/x-python",
   "name": "python",
   "nbconvert_exporter": "python",
   "pygments_lexer": "ipython3",
   "version": "3.7.1"
  }
 },
 "nbformat": 4,
 "nbformat_minor": 2
}
